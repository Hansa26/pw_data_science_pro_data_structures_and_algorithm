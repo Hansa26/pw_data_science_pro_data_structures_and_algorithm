{
 "cells": [
  {
   "cell_type": "markdown",
   "id": "52cf8260-d632-443d-a667-30ebf8440c91",
   "metadata": {},
   "source": [
    "# Linked List"
   ]
  },
  {
   "cell_type": "markdown",
   "id": "dff1e4e4-d5e8-4203-b644-1775f4acfe84",
   "metadata": {
    "jp-MarkdownHeadingCollapsed": true,
    "tags": []
   },
   "source": [
    "### Problem 1:\n",
    "\n",
    "Reverse a singly linked list.\n",
    "\n",
    "Input: 1 -> 2 -> 3 -> 4 -> 5\n",
    "\n",
    "Output: 5 -> 4 -> 3 -> 2 -> 1"
   ]
  },
  {
   "cell_type": "markdown",
   "id": "3dc065ff-c840-4786-a58b-9dcf5fa26184",
   "metadata": {
    "tags": []
   },
   "source": [
    "#### Algorithm:\n",
    "\n",
    "Step 1: Initialize three pointers (prev, current and next_node), where prev is None and current will point to head and next_node is None\n",
    "\n",
    "Step 2: Iterate through the linked list until the current pointer becomes None\n",
    "\n",
    "        a. set next_node to the next of the current pointer\n",
    "        b. Reverse the link by updating the next of the current node to point to prev.\n",
    "        c. Move prev and current one step forward:\n",
    "              - Set prev to the current node.\n",
    "              - Set current to the next_node.\n",
    "              \n",
    "Step 3: After the iteration, prev will be pointing to the new head of the reversed linked list."
   ]
  },
  {
   "cell_type": "code",
   "execution_count": 1,
   "id": "17e2cf45-d40e-4f4b-9c70-4998922c3b49",
   "metadata": {},
   "outputs": [],
   "source": [
    "# Python Implementation"
   ]
  },
  {
   "cell_type": "code",
   "execution_count": 2,
   "id": "455c6269-2001-433f-b3b4-d85180c92d59",
   "metadata": {},
   "outputs": [
    {
     "name": "stdout",
     "output_type": "stream",
     "text": [
      "1 -> 2 -> 3 -> 4 -> 5 -> 6 -> None\n",
      "6 -> 5 -> 4 -> 3 -> 2 -> 1 -> None\n"
     ]
    }
   ],
   "source": [
    "# Create a class Node\n",
    "class ListNode:\n",
    "    \n",
    "    def __init__(self, data=None, nxt=None):\n",
    "        self.data = data\n",
    "        self.next = nxt\n",
    "        \n",
    "    def set_data(self, data):\n",
    "        self.data = data\n",
    "        \n",
    "    def get_data(self):\n",
    "        return self.data\n",
    "    \n",
    "    def set_next(self, nxt):\n",
    "        self.next = nxt\n",
    "        \n",
    "    def get_next(self):\n",
    "        return self.next\n",
    "    \n",
    "    \n",
    "# Reverse the linked list\n",
    "def reverse_linked_list(head_node):\n",
    "    \n",
    "    prev_node = None\n",
    "    current_node = head_node\n",
    "    while current_node is not None:\n",
    "        \n",
    "        next_node = current_node.get_next()\n",
    "        current_node.set_next(prev_node)\n",
    "        prev_node = current_node\n",
    "        current_node = next_node\n",
    "        \n",
    "    return prev_node\n",
    "\n",
    "\n",
    "# Helper function to print the Linked List\n",
    "def print_linked_list(head_node):\n",
    "    \n",
    "    current_node = head_node\n",
    "    while current_node is not None:\n",
    "        \n",
    "        print(current_node.get_data(), end=\" -> \")\n",
    "        current_node = current_node.get_next()\n",
    "        \n",
    "    print(\"None\")\n",
    "    \n",
    "\n",
    "head = ListNode(1)\n",
    "node2 = ListNode(2)\n",
    "node3 = ListNode(3)\n",
    "node4 = ListNode(4)\n",
    "node5 = ListNode(5)\n",
    "node6 = ListNode(6)\n",
    "\n",
    "# Creating a linkage\n",
    "head.set_next(node2)\n",
    "node2.set_next(node3)\n",
    "node3.set_next(node4)\n",
    "node4.set_next(node5)\n",
    "node5.set_next(node6)\n",
    "\n",
    "print_linked_list(head)\n",
    "head = reverse_linked_list(head)\n",
    "print_linked_list(head)"
   ]
  },
  {
   "cell_type": "code",
   "execution_count": 3,
   "id": "9b6e62a0-0d08-43ea-ba91-3b064f2a4586",
   "metadata": {},
   "outputs": [],
   "source": [
    "# The time complexity of this algorithm is O(n), where n is the number of nodes in the linked list, as each node is visited once. \n",
    "# The space complexity is O(1) since it uses a constant amount of extra space regardless of the input size."
   ]
  },
  {
   "cell_type": "code",
   "execution_count": null,
   "id": "7d2e7349-081e-444f-b555-1635de1480ac",
   "metadata": {},
   "outputs": [],
   "source": []
  },
  {
   "cell_type": "markdown",
   "id": "98b9f430-520a-4575-b9e4-ccfb5d0ad7f3",
   "metadata": {
    "jp-MarkdownHeadingCollapsed": true,
    "tags": []
   },
   "source": [
    "### Problem 2:\n",
    "\n",
    "Merge two sorted linked lists into one sorted linked list\n",
    "\n",
    "Input: \n",
    "\n",
    "List 1: 1 -> 3 -> 5, \n",
    "\n",
    "List 2: 2 -> 4 -> 6\n",
    "\n",
    "Output: 1 -> 2 -> 3 -> 4 -> 5 -> 6\n"
   ]
  },
  {
   "cell_type": "markdown",
   "id": "ff37813e-54a4-43ff-a7b3-97ba8ded57ba",
   "metadata": {},
   "source": [
    "#### Algorithm:\n",
    "\n",
    "Algorithm: Merge Two Sorted Linked Lists\n",
    "\n",
    "Input: Heads of two sorted linked lists, list1 and list2\n",
    "\n",
    "Output: Head of the merged sorted linked list\n",
    "\n",
    "1. Initialize a dummy head for the merged list as dummy_head.\n",
    "   - Set current to dummy_head.\n",
    "\n",
    "2. Iterate until either list1 or list2 becomes None:\n",
    "\n",
    "   a. If the value of the current node in list1 is less than the value of the current node in list2:\n",
    "      - Append the current node from list1 to the merged list.\n",
    "      - Move list1 to the next node.\n",
    "      \n",
    "   b. Otherwise:\n",
    "      - Append the current node from list2 to the merged list.\n",
    "      - Move list2 to the next node.\n",
    "      \n",
    "   c. Move the current node of the merged list to the next node.\n",
    "\n",
    "3. If list1 is not exhausted, append the remaining nodes from list1 to the merged list.\n",
    "   If list2 is not exhausted, append the remaining nodes from list2 to the merged list.\n",
    "\n",
    "4. Return the next node of the dummy head as the head of the merged sorted linked list.\n"
   ]
  },
  {
   "cell_type": "code",
   "execution_count": 4,
   "id": "6384d40d-29ae-43ff-a17f-ead176c228f4",
   "metadata": {},
   "outputs": [
    {
     "name": "stdout",
     "output_type": "stream",
     "text": [
      "List 1: \n",
      "1 -> 3 -> 5 -> None\n",
      "List 2: \n",
      "2 -> 4 -> 6 -> None\n",
      "Merged List: \n",
      "1 -> 2 -> 3 -> 4 -> 5 -> 6 -> None\n"
     ]
    }
   ],
   "source": [
    "# Create a class Node\n",
    "class ListNode:\n",
    "\n",
    "    def __init__(self, data=None, nxt=None):\n",
    "        self.data = data\n",
    "        self.next = nxt\n",
    "\n",
    "    def set_data(self, data):\n",
    "        self.data = data\n",
    "\n",
    "    def get_data(self):\n",
    "        return self.data\n",
    "\n",
    "    def set_next(self, nxt):\n",
    "        self.next = nxt\n",
    "\n",
    "    def get_next(self):\n",
    "        return self.next\n",
    "\n",
    "\n",
    "def merge_sorted_linked_lists(sorted_list1, sorted_list2):\n",
    "    dummy_head = ListNode()\n",
    "    current_node = dummy_head\n",
    "\n",
    "    while sorted_list1 is not None and sorted_list2 is not None:\n",
    "        \n",
    "        if sorted_list1.get_data() < sorted_list2.get_data():\n",
    "            current_node.set_next(sorted_list1)\n",
    "            sorted_list1 = sorted_list1.get_next()\n",
    "        else:\n",
    "            current_node.set_next(sorted_list2)\n",
    "            sorted_list2 = sorted_list2.get_next()\n",
    "\n",
    "        current_node = current_node.get_next()\n",
    "\n",
    "    # If one of the lists is not exhausted, append the remaining nodes\n",
    "    if sorted_list1 is not None:\n",
    "        current_node.set_next(sorted_list1)\n",
    "    elif sorted_list2 is not None:\n",
    "        current_node.set_next(sorted_list2)\n",
    "\n",
    "    return dummy_head.get_next()\n",
    "\n",
    "\n",
    "# Helper function to print the Linked List\n",
    "def print_linked_list(head_node):\n",
    "    current_node = head_node\n",
    "    while current_node is not None:\n",
    "        print(current_node.get_data(), end=\" -> \")\n",
    "        current_node = current_node.get_next()\n",
    "\n",
    "    print(\"None\")\n",
    "\n",
    "\n",
    "list1 = ListNode(1)\n",
    "node3 = ListNode(3)\n",
    "node5 = ListNode(5)\n",
    "\n",
    "# Creating a linkage\n",
    "list1.set_next(node3)\n",
    "node3.set_next(node5)\n",
    "\n",
    "list2 = ListNode(2)\n",
    "node4 = ListNode(4)\n",
    "node6 = ListNode(6)\n",
    "\n",
    "# Creating a linkage\n",
    "list2.set_next(node4)\n",
    "node4.set_next(node6)\n",
    "\n",
    "print(\"List 1: \")\n",
    "print_linked_list(list1)\n",
    "print(\"List 2: \")\n",
    "print_linked_list(list2)\n",
    "\n",
    "merged_head = merge_sorted_linked_lists(list1, list2)\n",
    "print(\"Merged List: \")\n",
    "print_linked_list(merged_head)"
   ]
  },
  {
   "cell_type": "markdown",
   "id": "db2a11e7-2c30-4e3a-aa50-8165b6a5e05b",
   "metadata": {},
   "source": [
    "Time Complexity: O(m + n)\n",
    "    - `m` is the number of nodes in `sorted_list1`\n",
    "    - `n` is the number of nodes in `sorted_list2`\n",
    "    - The function iterates through both the lists once, comparing, merging the nodes based on their values.\n",
    "    \n",
    "Space Complexity: O(1)\n",
    "    - The function uses a constant amount of extra space regardless of the size of the input lists."
   ]
  },
  {
   "cell_type": "code",
   "execution_count": null,
   "id": "bf38ac2a-5e05-4b07-8d8d-97ff310904eb",
   "metadata": {},
   "outputs": [],
   "source": []
  },
  {
   "cell_type": "markdown",
   "id": "44a74773-d89c-4d33-a90c-309b02547e98",
   "metadata": {
    "jp-MarkdownHeadingCollapsed": true,
    "tags": []
   },
   "source": [
    "### Problem 3:\n",
    "\n",
    "Remove the nth node from the end of a linked list.\n",
    "\n",
    "Input: 1 -> 2 -> 3 -> 4 -> 5, n = 2\n",
    "\n",
    "Output: 1 -> 2 -> 3 -> 5\n"
   ]
  },
  {
   "cell_type": "code",
   "execution_count": 5,
   "id": "29ce90d6-56cb-416d-beb2-5044c6e229df",
   "metadata": {},
   "outputs": [
    {
     "name": "stdout",
     "output_type": "stream",
     "text": [
      "Original Linked List: \n",
      "1 -> 2 -> 3 -> 4 -> 5 -> 6 -> 7 -> None\n",
      "\n",
      "Modified Linked List: \n",
      "1 -> 3 -> 4 -> 5 -> 6 -> 7 -> None\n"
     ]
    }
   ],
   "source": [
    "# Define a List Node\n",
    "class ListNode:\n",
    "    \n",
    "    def __init__(self, data=None, nxt=None):\n",
    "        self.data = data\n",
    "        self.next = nxt\n",
    "        \n",
    "    # method to set the data value\n",
    "    def set_data(self, data):\n",
    "        self.data = data\n",
    "        \n",
    "    # method to get the data\n",
    "    def get_data(self):\n",
    "        return self.data\n",
    "    \n",
    "    # method to set the next value\n",
    "    def set_next(self, nxt):\n",
    "        self.next = nxt\n",
    "        \n",
    "    # method to get the next value\n",
    "    def get_next(self):\n",
    "        return self.next\n",
    "    \n",
    "    \n",
    "def length(head_node):\n",
    "    size = 0\n",
    "    temp = head_node\n",
    "    while temp:\n",
    "        size += 1\n",
    "        temp = temp.get_next()\n",
    "\n",
    "    return size\n",
    "\n",
    "# Reverse the linked list\n",
    "def reverse_linked_list(head_node):\n",
    "    \n",
    "    prev_node = None\n",
    "    current_node = head_node\n",
    "    while current_node is not None:\n",
    "        \n",
    "        next_node = current_node.get_next()\n",
    "        current_node.set_next(prev_node)\n",
    "        prev_node = current_node\n",
    "        current_node = next_node\n",
    "        \n",
    "    return prev_node\n",
    "    \n",
    "    \n",
    "# Remove the nth element from the end of the linked list\n",
    "def remove_kth(head_node, k):\n",
    "    \n",
    "    # Reverse the linked List\n",
    "    reversed_head_node = reverse_linked_list(head_node)\n",
    "    ll_len = length(reversed_head_node)\n",
    "    \n",
    "    if (k < 0 or k >= ll_len) or not reversed_head_node:\n",
    "        print(\"Argument passed is not valid value!\")\n",
    "        return reverse_linked_list(reversed_head_node)\n",
    "    \n",
    "    if k == 0:\n",
    "        reversed_head_node = reversed_head_node.get_next()\n",
    "        \n",
    "    else:\n",
    "        # when not in the beginning\n",
    "        # we need to jump to the prev node of the kth position\n",
    "        prev = reversed_head_node\n",
    "        i = 0\n",
    "        while i < k - 1:\n",
    "            prev = prev.get_next()\n",
    "            i += 1\n",
    "            \n",
    "        # prev will be one position left to the kth position\n",
    "        prev.set_next(prev.get_next().get_next())\n",
    "       \n",
    "    # Return the Reverse of Reversed Linked List\n",
    "    return reverse_linked_list(reversed_head_node)\n",
    "\n",
    "\n",
    "# Helper function to print the Linked List\n",
    "def print_linked_list(head_node):\n",
    "    current_node = head_node\n",
    "    while current_node is not None:\n",
    "        print(current_node.get_data(), end=\" -> \")\n",
    "        current_node = current_node.get_next()\n",
    "\n",
    "    print(\"None\")\n",
    "\n",
    "\n",
    "head = ListNode(1)\n",
    "node2 = ListNode(2)\n",
    "node3 = ListNode(3)\n",
    "node4 = ListNode(4)\n",
    "node5 = ListNode(5)\n",
    "node6 = ListNode(6)\n",
    "node7 = ListNode(7)\n",
    "\n",
    "# Creating a linkage\n",
    "head.set_next(node2)\n",
    "node2.set_next(node3)\n",
    "node3.set_next(node4)\n",
    "node4.set_next(node5)\n",
    "node5.set_next(node6)\n",
    "node6.set_next(node7)\n",
    "\n",
    "print(\"Original Linked List: \")\n",
    "print_linked_list(head)\n",
    "new_head = remove_kth(head, 5)\n",
    "print(\"\\nModified Linked List: \")\n",
    "print_linked_list(new_head)"
   ]
  },
  {
   "cell_type": "markdown",
   "id": "054665e3-c1ca-471b-8234-7c72ddb5a091",
   "metadata": {},
   "source": [
    "Time Complexity: O(n)\n",
    "    - `n` is the number of nodes of the linked list\n",
    "    - We need to traverse the entire list to remove the data"
   ]
  },
  {
   "cell_type": "code",
   "execution_count": null,
   "id": "624e97cd-13b9-4761-b826-bbdbb6b22aca",
   "metadata": {},
   "outputs": [],
   "source": []
  },
  {
   "cell_type": "markdown",
   "id": "7d1f71b9-6412-4a9f-9dbc-08ca0aa8603e",
   "metadata": {},
   "source": [
    "### Problem 4:\n",
    "\n",
    "Find the intersection point of two linked lists.\n",
    "\n",
    "Input: \n",
    "\n",
    "List 1: 1 -> 2 -> 3 -> 4, \n",
    "\n",
    "List 2: 9 -> 8 -> 3 -> 4\n",
    "\n",
    "Output: Node with value 3\n"
   ]
  },
  {
   "cell_type": "markdown",
   "id": "8a90e5c3",
   "metadata": {},
   "source": [
    "- Traverse both the linked lists and find their lengths, say, `len1` and `len2`.\n",
    "- Calculate the difference in lengths, let's say `diff = abs(len1 - len2)`.\n",
    "- Move the pointer in the longer linked list by `diff` steps.\n",
    "- Now, traverse both the linked lists simultaneously until we find a common node. Intersection point."
   ]
  },
  {
   "cell_type": "code",
   "execution_count": 6,
   "id": "b6349dad-71b4-4806-b365-80181280c22c",
   "metadata": {},
   "outputs": [
    {
     "name": "stdout",
     "output_type": "stream",
     "text": [
      "List1: \n",
      "1 -> 2 -> 3 -> 4 -> 5 -> 6 -> 7 -> None\n",
      "\n",
      "List2: \n",
      "11 -> 21 -> 31 -> 41 -> 5 -> 6 -> 7 -> None\n",
      "\n",
      "Intersection Point: \n",
      "Node with value:  5\n"
     ]
    }
   ],
   "source": [
    "# Define the ListNode\n",
    "class ListNode:\n",
    "    \n",
    "    def __init__(self, data=None, nxt=None):\n",
    "        self.data = data\n",
    "        self.next = nxt\n",
    "        \n",
    "    # define the setters and getters for data and its next addresses\n",
    "    def set_data(self, data):\n",
    "        self.data = data\n",
    "        \n",
    "    def get_data(self):\n",
    "        return self.data\n",
    "    \n",
    "    def set_next(self, nxt):\n",
    "        self.next = nxt\n",
    "        \n",
    "    def get_next(self):\n",
    "        return self.next\n",
    "    \n",
    "\n",
    "def intersection_point(list1, list2):\n",
    "    \n",
    "    def length(node):\n",
    "        size = 0\n",
    "        while node:\n",
    "            size += 1\n",
    "            node = node.get_next()\n",
    "        \n",
    "        return size\n",
    "    \n",
    "    len1 = length(list1)\n",
    "    len2 = length(list2)\n",
    "    \n",
    "    diff = abs(len1 - len2)\n",
    "    \n",
    "    # move the head or pointer in the longest list by `diff` steps\n",
    "    if len1 > len2:\n",
    "        for _ in range(diff):\n",
    "            list1 = list1.get_next()\n",
    "            \n",
    "    else:\n",
    "        for _ in range(diff):\n",
    "            list2 = list2.get_next()\n",
    "        \n",
    "    \n",
    "    temp_list1 = list1\n",
    "    temp_list2 = list2\n",
    "    \n",
    "    # traverse both the linked lists simultaneously until we find a common node\n",
    "    while temp_list2.get_data() != temp_list1.get_data():\n",
    "        temp_list1 = temp_list1.get_next()\n",
    "        temp_list2 = temp_list2.get_next()\n",
    "    \n",
    "    # return the intersection node\n",
    "    return temp_list1.get_data()\n",
    "            \n",
    "\n",
    "# Helper function to print the Linked List\n",
    "def print_linked_list(head_node):\n",
    "    current_node = head_node\n",
    "    while current_node is not None:\n",
    "        print(current_node.get_data(), end=\" -> \")\n",
    "        current_node = current_node.get_next()\n",
    "\n",
    "    print(\"None\")\n",
    "    \n",
    "\n",
    "list1 = ListNode(1)\n",
    "node2 = ListNode(2)\n",
    "node3 = ListNode(3)\n",
    "node4 = ListNode(4)\n",
    "node5 = ListNode(5)\n",
    "node6 = ListNode(6)\n",
    "node7 = ListNode(7)\n",
    "\n",
    "# Creating a linkage\n",
    "list1.set_next(node2)\n",
    "node2.set_next(node3)\n",
    "node3.set_next(node4)\n",
    "node4.set_next(node5)\n",
    "node5.set_next(node6)\n",
    "node6.set_next(node7)\n",
    "\n",
    "\n",
    "list2 = ListNode(11)\n",
    "node21 = ListNode(21)\n",
    "node31 = ListNode(31)\n",
    "node41 = ListNode(41)\n",
    "node51 = ListNode(51)\n",
    "node61 = ListNode(61)\n",
    "node71 = ListNode(71)\n",
    "\n",
    "# Creating a linkage\n",
    "list2.set_next(node21)\n",
    "node21.set_next(node31)\n",
    "node31.set_next(node41)\n",
    "node41.set_next(node5)\n",
    "node51.set_next(node6)\n",
    "node61.set_next(node7)\n",
    "\n",
    "print(\"List1: \")\n",
    "print_linked_list(list1)\n",
    "\n",
    "print(\"\\nList2: \")\n",
    "print_linked_list(list2)\n",
    "\n",
    "print(\"\\nIntersection Point: \")\n",
    "print(\"Node with value: \", intersection_point(list1, list2))"
   ]
  },
  {
   "cell_type": "markdown",
   "id": "e4e13665",
   "metadata": {},
   "source": [
    "- Time Complexity:\n",
    "\n",
    "    1. Calculating the lengths of both linked lists: O(len1 + len2)\n",
    "    2. Moving the pointer in the longer list by 'diff' steps: O(diff)\n",
    "    3. Traversing both lists until the intersection point is found: O(min(len1, len2))\n",
    "    \n",
    "    The dominant factor in the time complexity is the calculation of lengths. Therefore, the overall time complexity is `O(len1 + len2)`.\n",
    "    \n",
    "    \n",
    "- Space Complexity:\n",
    "\n",
    "    The space complexity is mainly determined by the constant space used for variables, such as pointers and the length variables. The space complexity is `O(1)` since the additional space used does not scale with the size of the input."
   ]
  },
  {
   "cell_type": "code",
   "execution_count": null,
   "id": "12439499",
   "metadata": {},
   "outputs": [],
   "source": []
  },
  {
   "cell_type": "markdown",
   "id": "89efd02e",
   "metadata": {},
   "source": [
    "### Problem 5: Remove duplicates from a sorted linked list\n",
    "\n",
    "Input: 1 -> 1 -> 2 -> 3 -> 3\n",
    "\n",
    "Output: 1 -> 2 -> 3\n"
   ]
  },
  {
   "cell_type": "markdown",
   "id": "e00194c5",
   "metadata": {},
   "source": [
    "- Start with the head of the linked list\n",
    "- Iterate through the list, comparing values of each node with the values of its next node.\n",
    "- If the values are same, remove the next node by updating the `next` pointer of the current node to skip the duplicate node.\n",
    "- If the values are different, move to the next node and repeat the process.\n",
    "- Continue until the end of the linked list is reached."
   ]
  },
  {
   "cell_type": "code",
   "execution_count": 9,
   "id": "a4e0b9d8",
   "metadata": {},
   "outputs": [
    {
     "name": "stdout",
     "output_type": "stream",
     "text": [
      "Original Linked List: \n",
      "1 -> 2 -> 3 -> 4 -> 4 -> None\n",
      "\n",
      "After removing duplicates: \n",
      "1 -> 2 -> 3 -> 4 -> None\n"
     ]
    }
   ],
   "source": [
    "# Create a list node\n",
    "class ListNode:\n",
    "    \n",
    "    def __init__(self, data=None, nxt=None):\n",
    "        self.data = data\n",
    "        self.next = nxt\n",
    "        \n",
    "    # define the setters and getters for data and the next nodes\n",
    "    def set_data(self, data):\n",
    "        self.data = data\n",
    "        \n",
    "    def get_data(self):\n",
    "        return self.data\n",
    "    \n",
    "    def set_next(self, nxt):\n",
    "        self.next = nxt\n",
    "        \n",
    "    def get_next(self):\n",
    "        return self.next\n",
    "    \n",
    "    \n",
    "# Helper function to print the linked list\n",
    "def print_linked_list(node):\n",
    "    temp = node\n",
    "    while temp is not None:\n",
    "        print(temp.get_data(), end=\" -> \")\n",
    "        temp = temp.get_next()\n",
    "        \n",
    "    print(\"None\")\n",
    "    \n",
    "\n",
    "# function to remove duplicates from a sorted linked list\n",
    "def remove_duplicates(head_node):\n",
    "    \n",
    "    current_node = head_node\n",
    "    while current_node is not None and current_node.get_next() is not None:\n",
    "        \n",
    "        if current_node.get_data() == current_node.get_next().get_data():\n",
    "            \n",
    "            # Duplicate found, remove the next node\n",
    "            current_node.set_next(current_node.get_next().get_next())\n",
    "            \n",
    "        else:\n",
    "            \n",
    "            # Move to the next node\n",
    "            current_node = current_node.get_next()\n",
    "            \n",
    "    return head_node\n",
    "\n",
    "\n",
    "# Driver function\n",
    "head = ListNode(1)\n",
    "\n",
    "head.set_next(ListNode(2, ListNode(3, ListNode(4, ListNode(4)))))\n",
    "\n",
    "print(\"Original Linked List: \")\n",
    "print_linked_list(head)\n",
    "head = remove_duplicates(head)\n",
    "print(\"\\nAfter removing duplicates: \")\n",
    "print_linked_list(head)"
   ]
  },
  {
   "cell_type": "markdown",
   "id": "07e307ca",
   "metadata": {},
   "source": [
    "- Time Complexity:\n",
    "    \n",
    "    The time complexity of this algorithm is `O(n)`, where n is the number of nodes in the linked list. This is because we iterate through each node once, and the operations within the loop are constant time. \n",
    "    \n",
    "    \n",
    "- Space Complexity:\n",
    "    \n",
    "    The space complexity is `O(1)` since we do not use any additional data structures that scale with the input size. \n",
    "    The algorithm modifies the linked list in place, without using extra space proportional to the size of the input."
   ]
  },
  {
   "cell_type": "code",
   "execution_count": null,
   "id": "f066c929",
   "metadata": {},
   "outputs": [],
   "source": []
  },
  {
   "cell_type": "markdown",
   "id": "9f0dec08",
   "metadata": {},
   "source": [
    "### Problem 6: Add two numbers represented by linked lists (where each node contains a single digit).\n",
    "\n",
    "Input: List 1: 2 -> 4 -> 3, List 2: 5 -> 6 -> 4 (represents 342 + 465)\n",
    "\n",
    "Output: 7 -> 0 -> 8 (represents 807)\n"
   ]
  },
  {
   "cell_type": "markdown",
   "id": "f04f518f",
   "metadata": {},
   "source": [
    "- Initialize a dummy node and a current pointer to the dummy node.\n",
    "- Initialize a carry variable to 0\n",
    "- Traverse both the linked lists simultaneously until the end of both lists.\n",
    "    - Calculate the sum of current node's values along with carry\n",
    "    - update the carry for the next iteration\n",
    "    - create a new node with the digit value of the sum and append it to the result of the linked list.\n",
    "- If one of the list is longer than the other, continue adding the remaining digits and carry.\n",
    "- Return the next of the dummy node, which represents the head of the result linked list.\n"
   ]
  },
  {
   "cell_type": "code",
   "execution_count": 2,
   "id": "04d60d51",
   "metadata": {},
   "outputs": [
    {
     "name": "stdout",
     "output_type": "stream",
     "text": [
      "List1: \n",
      "2 -> 4 -> 3 -> None\n",
      "\n",
      "List2: \n",
      "5 -> 6 -> 4 -> None\n",
      "\n",
      "Summed Numbers: \n",
      "7 -> 0 -> 8 -> None\n"
     ]
    }
   ],
   "source": [
    "# create a List Node\n",
    "class ListNode:\n",
    "    \n",
    "    def __init__(self, data=None, nxt=None):\n",
    "        self.data = data\n",
    "        self.next = nxt\n",
    "        \n",
    "    # define the setters and getters of data and next\n",
    "    def set_data(self, data):\n",
    "        self.data = data\n",
    "    \n",
    "    def get_data(self):\n",
    "        return self.data\n",
    "    \n",
    "    def set_next(self, nxt):\n",
    "        self.next = nxt\n",
    "        \n",
    "    def get_next(self):\n",
    "        return self.next\n",
    "    \n",
    "\n",
    "# helper function to print the list:\n",
    "def print_linked_list(head_node):\n",
    "    current_node = head_node\n",
    "    while current_node is not None:\n",
    "        print(current_node.get_data(), end=\" -> \")\n",
    "        current_node = current_node.get_next()\n",
    "        \n",
    "    print(\"None\")\n",
    "    \n",
    "\n",
    "# function to add two numbers\n",
    "def add_two_numbers(list1, list2):\n",
    "    dummy_head = ListNode()\n",
    "    \n",
    "    current_node = dummy_head\n",
    "    \n",
    "    carry = 0\n",
    "    \n",
    "    while list1 is not None or list2 is not None or carry:\n",
    "        \n",
    "        # get the values of the current nodes or 0 is the node is None\n",
    "        val1 = list1.get_data() if list1 is not None else 0\n",
    "        val2 = list2.get_data() if list2 is not None else 0\n",
    "        \n",
    "        # calculate the sum and carry\n",
    "        total_sum = val1 + val2 + carry\n",
    "        carry = total_sum // 10\n",
    "        digit = total_sum % 10\n",
    "        \n",
    "        # create a new node with the calculated digit\n",
    "        current_node.set_next(ListNode(digit))\n",
    "        \n",
    "        current_node = current_node.get_next()\n",
    "        \n",
    "        # move to the next nodes of list1 and list2 if data is present\n",
    "        if list1 is not None:\n",
    "            list1 = list1.get_next()\n",
    "            \n",
    "        if list2 is not None:\n",
    "            list2 = list2.get_next()\n",
    "            \n",
    "    \n",
    "    return dummy_head.get_next()\n",
    "\n",
    "\n",
    "list1 = ListNode(2, ListNode(4, ListNode(3)))\n",
    "list2 = ListNode(5, ListNode(6, ListNode(4)))\n",
    "\n",
    "print(\"List1: \")\n",
    "print_linked_list(list1)\n",
    "\n",
    "print(\"\\nList2: \")\n",
    "print_linked_list(list2)\n",
    "\n",
    "print(\"\\nSummed Numbers: \")\n",
    "print_linked_list(add_two_numbers(list1, list2))\n",
    "\n",
    "        "
   ]
  },
  {
   "cell_type": "markdown",
   "id": "88ccc05d",
   "metadata": {},
   "source": [
    "- Time Complexity:\n",
    "    \n",
    "    - The time complexity is `O(max(m, n))`, where m and n are the lengths of the input linked lists. \n",
    "    - The algorithm iterates through the longer of the two linked lists, performing constant-time operations in each iteration.\n",
    "    \n",
    "\n",
    "- Space Complexity:\n",
    "    \n",
    "    - The space complexity is `O(max(m, n))`, where m and n are the lengths of the input linked lists.\n",
    "    - This is due to the space required to store the result linked list. The additional space used is proportional to the length of the longer input linked list. "
   ]
  },
  {
   "cell_type": "code",
   "execution_count": null,
   "id": "13e4b8ce",
   "metadata": {},
   "outputs": [],
   "source": []
  },
  {
   "cell_type": "markdown",
   "id": "8c6ae099",
   "metadata": {},
   "source": [
    "### Problem 7: Swap nodes in pairs in a linked list.\n",
    "\n",
    "Input: 1 -> 2 -> 3 -> 4\n",
    "\n",
    "Output: 2 -> 1 -> 4 -> 3\n"
   ]
  },
  {
   "cell_type": "markdown",
   "id": "1a0b91b5",
   "metadata": {},
   "source": [
    "- Create a dummy node and set its next to the head of the linked list.\n",
    "- Initialize a current pointer to the dummy node.\n",
    "- Iterate through the list in pairs.\n",
    "- Swap the adjacent pairs by updating the next pointers accordingly.\n",
    "- Move the current pointer to the next pair.\n",
    "- Return the next of the dummy node, which is the head of the modified linked list."
   ]
  },
  {
   "cell_type": "code",
   "execution_count": 5,
   "id": "c905ec97",
   "metadata": {},
   "outputs": [
    {
     "name": "stdout",
     "output_type": "stream",
     "text": [
      "Original List: \n",
      "1 -> 2 -> 3 -> 4 -> 5 -> None\n",
      "\n",
      "Swapped List: \n",
      "2 -> 1 -> 4 -> 3 -> 5 -> None\n"
     ]
    }
   ],
   "source": [
    "# create a List Node\n",
    "class ListNode:\n",
    "    \n",
    "    def __init__(self, data=None, nxt=None):\n",
    "        self.data = data\n",
    "        self.next = nxt\n",
    "        \n",
    "    # define the setters and getters of data and next\n",
    "    def set_data(self, data):\n",
    "        self.data = data\n",
    "    \n",
    "    def get_data(self):\n",
    "        return self.data\n",
    "    \n",
    "    def set_next(self, nxt):\n",
    "        self.next = nxt\n",
    "        \n",
    "    def get_next(self):\n",
    "        return self.next\n",
    "    \n",
    "\n",
    "# helper function to print the list:\n",
    "def print_linked_list(head_node):\n",
    "    current_node = head_node\n",
    "    while current_node is not None:\n",
    "        print(current_node.get_data(), end=\" -> \")\n",
    "        current_node = current_node.get_next()\n",
    "        \n",
    "    print(\"None\")\n",
    "    \n",
    "    \n",
    "# function to swap the pairs\n",
    "def swap_pairs(head):\n",
    "    \n",
    "    dummy = ListNode()\n",
    "    dummy.set_next(head)\n",
    "    \n",
    "    current_node = dummy\n",
    "    \n",
    "    while current_node.get_next() is not None and current_node.get_next().get_next() is not None:\n",
    "        \n",
    "        # nodes to be swaped\n",
    "        first_node = current_node.get_next()\n",
    "        second_node = current_node.get_next().get_next()\n",
    "        \n",
    "        # swapping of the nodes\n",
    "        first_node.set_next(second_node.get_next())\n",
    "        second_node.set_next(first_node)\n",
    "        current_node.set_next(second_node)\n",
    "        \n",
    "        # move to the next pair\n",
    "        current_node = current_node.get_next().get_next()\n",
    "        \n",
    "    return dummy.get_next()\n",
    "\n",
    "\n",
    "# Construct the linked list\n",
    "linked_list = ListNode(1, ListNode(2, ListNode(3, ListNode(4, ListNode(5)))))\n",
    "print(\"Original List: \")\n",
    "print_linked_list(linked_list)\n",
    "\n",
    "print(\"\\nSwapped List: \")\n",
    "print_linked_list(swap_pairs(linked_list))\n"
   ]
  },
  {
   "cell_type": "markdown",
   "id": "9523b7ec",
   "metadata": {},
   "source": [
    "- Time Complexity:\n",
    "    \n",
    "    The time complexity is `O(n)`, where n is the number of nodes in the linked list. The algorithm iterates through each node once, and the operations within the loop are constant time.\n",
    "    \n",
    "    \n",
    "- Space Complexity:\n",
    "    \n",
    "    The space complexity is `O(1)` since the algorithm uses a constant amount of extra space, regardless of the size of the input linked list."
   ]
  },
  {
   "cell_type": "code",
   "execution_count": null,
   "id": "69b6db5e",
   "metadata": {},
   "outputs": [],
   "source": []
  },
  {
   "cell_type": "markdown",
   "id": "29f81c7f",
   "metadata": {},
   "source": [
    "### Problem 8: Reverse nodes in a linked list in groups of k.\n",
    "\n",
    "Input: 1 -> 2 -> 3 -> 4 -> 5, k = 3\n",
    "\n",
    "Output: 3 -> 2 -> 1 -> 4 -> 5\n"
   ]
  },
  {
   "cell_type": "markdown",
   "id": "ee346d53",
   "metadata": {},
   "source": [
    "- Create a dummy node and set its next to the head of the linked list.\n",
    "- Initialize pointers for the previous group's end (prev_group_end) and the current node (current).\n",
    "- Iterate through the list in groups of k.\n",
    "- Reverse each group and connect it to the previous group.\n",
    "- Move pointers for the next iteration.\n",
    "- Continue until the end of the list."
   ]
  },
  {
   "cell_type": "code",
   "execution_count": 14,
   "id": "b8f64d81",
   "metadata": {},
   "outputs": [
    {
     "name": "stdout",
     "output_type": "stream",
     "text": [
      "Original List: \n",
      "1 -> 2 -> 3 -> 4 -> 5 -> None\n",
      "\n",
      "Modified List: \n",
      "3 -> 2 -> 1 -> 4 -> 5 -> None\n"
     ]
    }
   ],
   "source": [
    "# Create a class Node\n",
    "class ListNode:\n",
    "    \n",
    "    def __init__(self, data=None, nxt=None):\n",
    "        self.data = data\n",
    "        self.next = nxt\n",
    "        \n",
    "    def set_data(self, data):\n",
    "        self.data = data\n",
    "        \n",
    "    def get_data(self):\n",
    "        return self.data\n",
    "    \n",
    "    def set_next(self, nxt):\n",
    "        self.next = nxt\n",
    "        \n",
    "    def get_next(self):\n",
    "        return self.next\n",
    "    \n",
    "\n",
    "# helper function to reverse the list\n",
    "def reverse_group(start, end):\n",
    "    prev_node, current_node = None, start\n",
    "\n",
    "    while current_node != end:\n",
    "        next_node = current_node.get_next()\n",
    "        current_node.set_next(prev_node)\n",
    "        prev_node = current_node\n",
    "        current_node = next_node\n",
    "\n",
    "    return prev_node\n",
    "\n",
    "    \n",
    "# Reverse the linked list for first k elements\n",
    "def reverse_linked_list_k_group(head_node, k):\n",
    "\n",
    "    dummy = ListNode()\n",
    "    dummy.set_next(head_node)\n",
    "    prev_group_end = dummy\n",
    "    current = head_node\n",
    "    \n",
    "    while current is not None:\n",
    "        \n",
    "        group_start = current\n",
    "        group_end = current\n",
    "        \n",
    "        # move k steps to find the end of the current group\n",
    "        for _ in range(k):\n",
    "            if not group_end:\n",
    "                break\n",
    "                \n",
    "            group_end = group_end.get_next()\n",
    "            \n",
    "        \n",
    "        # If the group size is less than k, break the loop\n",
    "        if not group_end:\n",
    "            break\n",
    "            \n",
    "        \n",
    "        # Save the next node to be processed after reversing the group\n",
    "        next_group_start = group_end\n",
    "        \n",
    "        # reverse the current group\n",
    "        new_group_start  = reverse_group(group_start, group_end)\n",
    "        \n",
    "        # connect the reversed group to the previous group\n",
    "        prev_group_end.set_next(new_group_start )\n",
    "        \n",
    "        # Connect the end of the reversed group to the next node\n",
    "        group_start.set_next(next_group_start)\n",
    "        \n",
    "        # move the pointers for next iteration\n",
    "        prev_group_end = group_start\n",
    "        current = group_end\n",
    "        \n",
    "    return dummy.get_next()\n",
    "\n",
    "\n",
    "# Helper function to print the Linked List\n",
    "def print_linked_list(head_node):\n",
    "    \n",
    "    current_node = head_node\n",
    "    while current_node is not None:\n",
    "        \n",
    "        print(current_node.get_data(), end=\" -> \")\n",
    "        current_node = current_node.get_next()\n",
    "        \n",
    "    print(\"None\")\n",
    "    \n",
    "    \n",
    "# Construct the linked list\n",
    "linked_list = ListNode(1, ListNode(2, ListNode(3, ListNode(4, ListNode(5)))))\n",
    "print(\"Original List: \")\n",
    "print_linked_list(linked_list)\n",
    "\n",
    "# Reverse nodes in groups of k\n",
    "k = 3\n",
    "result = reverse_linked_list_k_group(linked_list, k)\n",
    "\n",
    "print(\"\\nModified List: \")\n",
    "print_linked_list(result)"
   ]
  },
  {
   "cell_type": "markdown",
   "id": "ee78dd79",
   "metadata": {},
   "source": [
    "- Time Complexity:\n",
    "\n",
    "    The time complexity is `O(n)`, where n is the number of nodes in the linked list. The algorithm iterates through each node once.\n",
    "\n",
    "\n",
    "- Space Complexity:\n",
    "\n",
    "    The space complexity is `O(1)` since the algorithm uses a constant amount of extra space, regardless of the size of the input linked list. The reversal is done in-place."
   ]
  },
  {
   "cell_type": "code",
   "execution_count": null,
   "id": "f868bffe",
   "metadata": {},
   "outputs": [],
   "source": []
  },
  {
   "cell_type": "markdown",
   "id": "25dc095d",
   "metadata": {},
   "source": [
    "### Problem 9: Determine if a linked list is a palindrome.\n",
    "\n",
    "Input: 1 -> 2 -> 2 -> 1\n",
    "\n",
    "Output: True\n"
   ]
  },
  {
   "cell_type": "markdown",
   "id": "794f20b4",
   "metadata": {},
   "source": [
    "- Reverse the second half of the list\n",
    "- Compare the reversed second half with the first half to check if they are the same\n",
    "- Find the middle node of the linked list using the slow and fast pointer technique."
   ]
  },
  {
   "cell_type": "code",
   "execution_count": 20,
   "id": "a1543bfd",
   "metadata": {},
   "outputs": [
    {
     "name": "stdout",
     "output_type": "stream",
     "text": [
      "Original List: \n",
      "1 -> 2 -> 2 -> 1 -> None\n",
      "The given list is a Palindrome!\n"
     ]
    }
   ],
   "source": [
    "# create a List Node\n",
    "class ListNode:\n",
    "    \n",
    "    def __init__(self, data=None, nxt=None):\n",
    "        self.data = data\n",
    "        self.next = nxt\n",
    "        \n",
    "    # define the setters and getters of data and next\n",
    "    def set_data(self, data):\n",
    "        self.data = data\n",
    "    \n",
    "    def get_data(self):\n",
    "        return self.data\n",
    "    \n",
    "    def set_next(self, nxt):\n",
    "        self.next = nxt\n",
    "        \n",
    "    def get_next(self):\n",
    "        return self.next\n",
    "    \n",
    "\n",
    "# helper function to print the list:\n",
    "def print_linked_list(head_node):\n",
    "    current_node = head_node\n",
    "    while current_node is not None:\n",
    "        print(current_node.get_data(), end=\" -> \")\n",
    "        current_node = current_node.get_next()\n",
    "        \n",
    "    print(\"None\")\n",
    "    \n",
    "    \n",
    "# helper function to reverse the list\n",
    "def reverse_list(start):\n",
    "    prev_node, current_node = None, start\n",
    "\n",
    "    while current_node is not None:\n",
    "        next_node = current_node.get_next()\n",
    "        current_node.set_next(prev_node)\n",
    "        prev_node = current_node\n",
    "        current_node = next_node\n",
    "\n",
    "    return prev_node\n",
    "\n",
    "\n",
    "# function to get the middle node\n",
    "def get_middle_node(node):\n",
    "    \n",
    "    slow = node\n",
    "    fast = node\n",
    "    \n",
    "    while fast.get_next() is not None and fast.get_next().get_next() is not None:\n",
    "        \n",
    "        slow = slow.get_next()\n",
    "        fast = fast.get_next().get_next()\n",
    "        \n",
    "    return slow\n",
    "\n",
    "\n",
    "# function to check for palindrome\n",
    "def is_palindrome(head):\n",
    "    \n",
    "    # get the middle node\n",
    "    middle_node = get_middle_node(head)\n",
    "    \n",
    "    # reverse the second half\n",
    "    reversed_second_half = reverse_list(middle_node)\n",
    "    \n",
    "    # Compare the reversed second half with the first half\n",
    "    while reversed_second_half is not None and head is not None:\n",
    "        \n",
    "        if head.get_data() != reversed_second_half.get_data():\n",
    "            return False\n",
    "        \n",
    "        head = head.get_next()\n",
    "        reversed_second_half = reversed_second_half.get_next()\n",
    "        \n",
    "        \n",
    "    return True\n",
    "\n",
    "\n",
    "# Construct the linked list\n",
    "linked_list = ListNode(1, ListNode(2, ListNode(2, ListNode(1))))\n",
    "\n",
    "print(\"Original List: \")\n",
    "print_linked_list(linked_list)\n",
    "# Check if the linked list is a palindrome\n",
    "result = is_palindrome(linked_list)\n",
    "\n",
    "# Output the result\n",
    "print(\"The given list is a Palindrome!\" if result else \"The given list is NOT a Palindrome\" )"
   ]
  },
  {
   "cell_type": "markdown",
   "id": "79bbe402",
   "metadata": {},
   "source": [
    "- Time Complexity:\n",
    "    \n",
    "    The time complexity is `O(n)`, where n is the number of nodes in the linked list. The algorithm iterates through the linked list once.\n",
    "    \n",
    "   \n",
    "- Space Complexity:\n",
    "\n",
    "    The space complexity is `O(1)` since the algorithm uses a constant amount of extra space, regardless of the size of the input linked list. The reversal is done in-place.\n",
    "   "
   ]
  },
  {
   "cell_type": "code",
   "execution_count": null,
   "id": "a85c6ff6",
   "metadata": {},
   "outputs": [],
   "source": []
  },
  {
   "cell_type": "markdown",
   "id": "79942310",
   "metadata": {},
   "source": [
    "### Problem 10: Rotate a linked list to the right by k places.\n",
    "\n",
    "Input: 1 -> 2 -> 3 -> 4 -> 5, k = 2\n",
    "\n",
    "Output: 4 -> 5 -> 1 -> 2 -> 3\n"
   ]
  },
  {
   "cell_type": "markdown",
   "id": "cf7c7e81",
   "metadata": {},
   "source": [
    "- Find the length of the linked list.\n",
    "- Calculate the effective rotation by taking the remainder when k is divided by the length.\n",
    "- Identify the new head and tail positions after rotation.\n",
    "- Update the pointers to rotate the linked list."
   ]
  },
  {
   "cell_type": "code",
   "execution_count": 23,
   "id": "7567586a",
   "metadata": {},
   "outputs": [
    {
     "name": "stdout",
     "output_type": "stream",
     "text": [
      "Original List: \n",
      "1 -> 2 -> 3 -> 4 -> 5 -> None\n",
      "3 -> 4 -> 5 -> 1 -> 2 -> None\n"
     ]
    }
   ],
   "source": [
    "# create a List Node\n",
    "class ListNode:\n",
    "    \n",
    "    def __init__(self, data=None, nxt=None):\n",
    "        self.data = data\n",
    "        self.next = nxt\n",
    "        \n",
    "    # define the setters and getters of data and next\n",
    "    def set_data(self, data):\n",
    "        self.data = data\n",
    "    \n",
    "    def get_data(self):\n",
    "        return self.data\n",
    "    \n",
    "    def set_next(self, nxt):\n",
    "        self.next = nxt\n",
    "        \n",
    "    def get_next(self):\n",
    "        return self.next\n",
    "    \n",
    "\n",
    "# helper function to print the list:\n",
    "def print_linked_list(head_node):\n",
    "    current_node = head_node\n",
    "    while current_node is not None:\n",
    "        print(current_node.get_data(), end=\" -> \")\n",
    "        current_node = current_node.get_next()\n",
    "        \n",
    "    print(\"None\")\n",
    "    \n",
    "    \n",
    "# function to rotate the list by k times\n",
    "def rotate_k_times(head, k):\n",
    "    \n",
    "    if head is None or k == 0:\n",
    "        return head\n",
    "    \n",
    "    # step 1: calculate the length of the linked list\n",
    "    length = 1\n",
    "    current = head\n",
    "    \n",
    "    while current.get_next() is not None:\n",
    "        length += 1\n",
    "        current = current.get_next()\n",
    "        \n",
    "    \n",
    "    # step 2: calculate the effective rotation\n",
    "    k %= length\n",
    "    \n",
    "    if k == 0:\n",
    "        return head\n",
    "    \n",
    "    \n",
    "    # step 3: Identify the new head and tail positions\n",
    "    new_tail = head\n",
    "    for _ in range(length - k - 1):\n",
    "        new_tail = new_tail.get_next()\n",
    "        \n",
    "    new_head = new_tail.get_next()\n",
    "    new_tail.set_next(None)\n",
    "    \n",
    "    \n",
    "    # Step 4: Update the pointers to rotate the linked list\n",
    "    current = new_head\n",
    "    while current.get_next() is not None:\n",
    "        \n",
    "        current = current.get_next()\n",
    "        \n",
    "    current.set_next(head)\n",
    "    \n",
    "    \n",
    "    return new_head\n",
    "\n",
    "\n",
    "# Construct the linked list\n",
    "linked_list = ListNode(1, ListNode(2, ListNode(3, ListNode(4, ListNode(5)))))\n",
    "print(\"Original List: \")\n",
    "print_linked_list(linked_list)\n",
    "\n",
    "# Rotate the linked list to the right by k places\n",
    "k = 3\n",
    "result = rotate_k_times(linked_list, k)\n",
    "\n",
    "# Output the result\n",
    "print_linked_list(result)\n"
   ]
  },
  {
   "cell_type": "markdown",
   "id": "6ec4168e",
   "metadata": {},
   "source": [
    "- Time Complexity:\n",
    "    \n",
    "    The time complexity is `O(n)`, where n is the number of nodes in the linked list. The algorithm iterates through the linked list once.\n",
    "\n",
    "\n",
    "- Space Complexity:\n",
    "    \n",
    "    The space complexity is `O(1)` since the algorithm uses a constant amount of extra space, regardless of the size of the input linked list."
   ]
  },
  {
   "cell_type": "code",
   "execution_count": null,
   "id": "e5d281d8",
   "metadata": {},
   "outputs": [],
   "source": []
  },
  {
   "cell_type": "markdown",
   "id": "702f0442",
   "metadata": {},
   "source": [
    "### Problem 11: Flatten a multilevel doubly linked list.\n",
    "\n",
    "Input: 1 <-> 2 <-> 3 <-> 7 <-> 8 <-> 11 -> 12, 4 <-> 5 -> 9 -> 10, 6 -> 13\n",
    "\n",
    "Output: 1 <-> 2 <-> 3 <-> 4 <-> 5 <-> 6 <-> 7 <-> 8 <-> 9 <-> 10 <-> 11 <-> 12 <-> 13\n",
    "\n"
   ]
  },
  {
   "cell_type": "markdown",
   "id": "88e24306",
   "metadata": {},
   "source": [
    "- Traverse the doubly linked list.\n",
    "- When a node with a child is encountered, flatten the child using recursion and connect it to the current node.\n",
    "- Continue the traversal, connecting each node to its next node.\n",
    "- Return the head of the flattened doubly linked list."
   ]
  },
  {
   "cell_type": "code",
   "execution_count": 16,
   "id": "e30987df",
   "metadata": {},
   "outputs": [
    {
     "name": "stdout",
     "output_type": "stream",
     "text": [
      "1 <-> 2 <-> 3 <-> 7 <-> 8 <-> 11 <-> 12 <-> 4 <-> 5 <-> 9 <-> 10 <-> 6 <-> None\n"
     ]
    }
   ],
   "source": [
    "class Node:\n",
    "    def __init__(self, value=None, prev=None, next=None, child=None):\n",
    "        self.value = value\n",
    "        self.prev = prev\n",
    "        self.next = next\n",
    "        self.child = child\n",
    "\n",
    "def flatten_doubly_linked_list(head):\n",
    "    def flatten_helper(node):\n",
    "        current = node\n",
    "\n",
    "        while current:\n",
    "            if current.child:\n",
    "                # Save the next node to be processed after flattening the child\n",
    "                next_node = current.next\n",
    "\n",
    "                # Flatten the child and connect it to the current node\n",
    "                current.next = flatten_helper(current.child)\n",
    "                current.next.prev = current\n",
    "                current.child = None\n",
    "\n",
    "                # Move to the end of the flattened child\n",
    "                while current.next:\n",
    "                    current = current.next\n",
    "\n",
    "                # Connect the flattened child to the next node\n",
    "                current.next = next_node\n",
    "\n",
    "                if next_node:\n",
    "                    next_node.prev = current\n",
    "\n",
    "            # Move to the next node\n",
    "            current = current.next\n",
    "\n",
    "        return node\n",
    "\n",
    "    # Start the flattening process from the head of the doubly linked list\n",
    "    flatten_helper(head)\n",
    "\n",
    "    return head\n",
    "\n",
    "# Helper function to print the doubly linked list\n",
    "def print_doubly_linked_list(head):\n",
    "    while head:\n",
    "        print(head.value, end=\" <-> \")\n",
    "        head = head.next\n",
    "    print(\"None\")\n",
    "\n",
    "# Example usage\n",
    "# Construct the multilevel doubly linked list\n",
    "head = Node(1)\n",
    "head.next = Node(2)\n",
    "head.next.prev = head\n",
    "head.next.next = Node(3)\n",
    "head.next.next.prev = head.next\n",
    "head.next.next.child = Node(7)\n",
    "head.next.next.child.next = Node(8)\n",
    "head.next.next.child.next.prev = head.next.next.child\n",
    "head.next.next.child.next.next = Node(11)\n",
    "head.next.next.child.next.next.prev = head.next.next.child.next\n",
    "head.next.next.child.next.next.next = Node(12)\n",
    "head.next.next.child.next.next.next.prev = head.next.next.child.next.next\n",
    "head.next.next.next = Node(4)\n",
    "head.next.next.next.prev = head.next.next\n",
    "head.next.next.next.next = Node(5)\n",
    "head.next.next.next.next.prev = head.next.next.next\n",
    "head.next.next.next.next.child = Node(9)\n",
    "head.next.next.next.next.child.next = Node(10)\n",
    "head.next.next.next.next.child.next.prev = head.next.next.next.next.child\n",
    "head.next.next.next.next.next = Node(6)\n",
    "head.next.next.next.next.next.prev = head.next.next.next.next\n",
    "\n",
    "# Flatten the multilevel doubly linked list\n",
    "result = flatten_doubly_linked_list(head)\n",
    "\n",
    "# Output the result\n",
    "print_doubly_linked_list(result)\n"
   ]
  },
  {
   "cell_type": "markdown",
   "id": "fdac9b3b",
   "metadata": {},
   "source": [
    "- Time Complexity:\n",
    "\n",
    "    The time complexity is `O(n)`, where n is the total number of nodes in the doubly linked list. The algorithm processes each node once.\n",
    "\n",
    "\n",
    "- Space Complexity:\n",
    "\n",
    "    The space complexity is `O(1)` since the algorithm uses a constant amount of extra space, regardless of the size of the input doubly linked list. The flattening is done in-place.\n",
    "    \n",
    "    \n",
    "- source: ChatGPT"
   ]
  },
  {
   "cell_type": "code",
   "execution_count": null,
   "id": "9c814573",
   "metadata": {},
   "outputs": [],
   "source": []
  },
  {
   "cell_type": "markdown",
   "id": "0179b390",
   "metadata": {},
   "source": [
    "### Problem 12: Rearrange a linked list such that all even positioned nodes are placed at the end.\n",
    "\n",
    "\n",
    "Input: 1 -> 2 -> 3 -> 4 -> 5\n",
    "\n",
    "Output: 1 -> 3 -> 5 -> 2 -> 4\n"
   ]
  },
  {
   "cell_type": "markdown",
   "id": "ebf4d5f1",
   "metadata": {},
   "source": [
    "- Traverse the linked list to identify odd and even positioned nodes.\n",
    "- Create two separate lists, one for odd positioned nodes and one for even positioned nodes.\n",
    "- Concatenate the odd list with the even list to form the rearranged linked list."
   ]
  },
  {
   "cell_type": "code",
   "execution_count": 24,
   "id": "2eeffae6",
   "metadata": {},
   "outputs": [
    {
     "name": "stdout",
     "output_type": "stream",
     "text": [
      "Original List: \n",
      "1 -> 2 -> 3 -> 4 -> 5 -> None\n",
      "\n",
      "Modified List: \n",
      "1 -> 3 -> 5 -> 2 -> 4 -> None\n"
     ]
    }
   ],
   "source": [
    "# create a List Node\n",
    "class ListNode:\n",
    "    \n",
    "    def __init__(self, data=None, nxt=None):\n",
    "        self.data = data\n",
    "        self.next = nxt\n",
    "        \n",
    "    # define the setters and getters of data and next\n",
    "    def set_data(self, data):\n",
    "        self.data = data\n",
    "    \n",
    "    def get_data(self):\n",
    "        return self.data\n",
    "    \n",
    "    def set_next(self, nxt):\n",
    "        self.next = nxt\n",
    "        \n",
    "    def get_next(self):\n",
    "        return self.next\n",
    "    \n",
    "\n",
    "# helper function to print the list:\n",
    "def print_linked_list(head_node):\n",
    "    current_node = head_node\n",
    "    while current_node is not None:\n",
    "        print(current_node.get_data(), end=\" -> \")\n",
    "        current_node = current_node.get_next()\n",
    "        \n",
    "    print(\"None\")\n",
    "    \n",
    "    \n",
    "# function to rearrange linked list\n",
    "def rearrange_linked_list(head):\n",
    "    \n",
    "    if head is None or head.get_next() is None or \\\n",
    "    head.get_next().get_next() is None:\n",
    "        return head\n",
    "    \n",
    "    odd_head, even_head = ListNode(), ListNode()\n",
    "    odd_current, even_current = odd_head, even_head\n",
    "    \n",
    "    current = head\n",
    "    is_odd = True\n",
    "    \n",
    "    while current is not None:\n",
    "        \n",
    "        if is_odd:\n",
    "            odd_current.set_next(current)\n",
    "            odd_current = odd_current.get_next()\n",
    "            \n",
    "        else:\n",
    "            even_current.set_next(current)\n",
    "            even_current = even_current.get_next()\n",
    "            \n",
    "        is_odd = not is_odd\n",
    "        \n",
    "        current = current.get_next()\n",
    "        \n",
    "    # connect the odd list with the even list\n",
    "    odd_current.set_next(even_head.get_next())\n",
    "    even_current.set_next(None)\n",
    "    \n",
    "    return odd_head.get_next()\n",
    "    \n",
    "\n",
    "# Construct the linked list\n",
    "linked_list = ListNode(1, ListNode(2, ListNode(3, ListNode(4, ListNode(5)))))\n",
    "print(\"Original List: \")\n",
    "print_linked_list(linked_list)\n",
    "\n",
    "# Rearrange the linked list\n",
    "result = rearrange_linked_list(linked_list)\n",
    "\n",
    "print(\"\\nModified List: \")\n",
    "print_linked_list(result)"
   ]
  },
  {
   "cell_type": "markdown",
   "id": "c37b008c",
   "metadata": {},
   "source": [
    "- Time Complexity:\n",
    "    \n",
    "    The time complexity is `O(n)`, where n is the number of nodes in the linked list. The algorithm iterates through each node exactly once, and each node is processed in constant time during the traversal.\n",
    "    \n",
    "\n",
    "- Space Complexity:\n",
    "    \n",
    "    The algorithm uses additional space for the two separate lists (odd and even) to rearrange the nodes. In the worst case, where all nodes are considered even or odd, each node will be stored in the respective list. Therefore, the space complexity is `O(n)`."
   ]
  },
  {
   "cell_type": "code",
   "execution_count": null,
   "id": "701b516b",
   "metadata": {},
   "outputs": [],
   "source": []
  },
  {
   "cell_type": "markdown",
   "id": "d956e659",
   "metadata": {},
   "source": [
    "### Problem 13: Given a non-negative number represented as a linked list, add one to it.\n",
    "\n",
    "Input: 1 -> 2 -> 3 (represents the number 123)\n",
    "\n",
    "Output: 1 -> 2 -> 4 (represents the number 124)\n"
   ]
  },
  {
   "cell_type": "markdown",
   "id": "68a8b18a",
   "metadata": {},
   "source": [
    "- Reverse the linked list.\n",
    "- Traverse the reversed linked list while adding one to the first node (representing the least significant digit).\n",
    "- Propagate the carry if necessary.\n",
    "- Reverse the linked list again to get the final result."
   ]
  },
  {
   "cell_type": "code",
   "execution_count": 27,
   "id": "3e120641",
   "metadata": {},
   "outputs": [
    {
     "name": "stdout",
     "output_type": "stream",
     "text": [
      "Original List: \n",
      "1 -> 2 -> 3 -> None\n",
      "\n",
      "Modified List: \n",
      "1 -> 2 -> 4 -> None\n"
     ]
    }
   ],
   "source": [
    "# create a List Node\n",
    "class ListNode:\n",
    "    \n",
    "    def __init__(self, data=None, nxt=None):\n",
    "        self.data = data\n",
    "        self.next = nxt\n",
    "        \n",
    "    # define the setters and getters of data and next\n",
    "    def set_data(self, data):\n",
    "        self.data = data\n",
    "    \n",
    "    def get_data(self):\n",
    "        return self.data\n",
    "    \n",
    "    def set_next(self, nxt):\n",
    "        self.next = nxt\n",
    "        \n",
    "    def get_next(self):\n",
    "        return self.next\n",
    "    \n",
    "\n",
    "# helper function to print the list:\n",
    "def print_linked_list(head_node):\n",
    "    current_node = head_node\n",
    "    while current_node is not None:\n",
    "        print(current_node.get_data(), end=\" -> \")\n",
    "        current_node = current_node.get_next()\n",
    "        \n",
    "    print(\"None\")\n",
    "    \n",
    "    \n",
    "# helper function to reverse the list\n",
    "def reverse_list(start):\n",
    "    prev_node, current_node = None, start\n",
    "\n",
    "    while current_node is not None:\n",
    "        next_node = current_node.get_next()\n",
    "        current_node.set_next(prev_node)\n",
    "        prev_node = current_node\n",
    "        current_node = next_node\n",
    "\n",
    "    return prev_node\n",
    "\n",
    "def add_one_to_linked_list(head):\n",
    "    \n",
    "    # step 1: reverse the linked list\n",
    "    reversed_head = reverse_list(head)\n",
    "    \n",
    "    current = reversed_head\n",
    "    carry = 1\n",
    "    \n",
    "    # step 2: traverse the reversed linked list and add one\n",
    "    while current is not None:\n",
    "        total = current.get_data() + carry\n",
    "        current.set_data(total % 10)\n",
    "        carry = total // 10\n",
    "        if carry == 0:\n",
    "            break\n",
    "        current = current.get_next()\n",
    "        \n",
    "    # step 3: reverse the linked list again\n",
    "    result = reverse_list(reversed_head)\n",
    "    \n",
    "    # If there is a carry after reversing, create a new head\n",
    "    if carry > 0:\n",
    "        result = ListNode(carry, result)\n",
    "\n",
    "    return result\n",
    "\n",
    "\n",
    "# Construct the linked list representing the number 123\n",
    "linked_list = ListNode(1, ListNode(2, ListNode(3)))\n",
    "print(\"Original List: \")\n",
    "print_linked_list(linked_list)\n",
    "# Add one to the linked list\n",
    "result = add_one_to_linked_list(linked_list)\n",
    "\n",
    "# Output the result\n",
    "print(\"\\nModified List: \")\n",
    "print_linked_list(result)"
   ]
  },
  {
   "cell_type": "markdown",
   "id": "a455ba3b",
   "metadata": {},
   "source": [
    "- Time Complexity:\n",
    "\n",
    "    - Reversing the linked list: `O(n)`, where n is the number of nodes in the linked list.\n",
    "    - Traversing the reversed linked list: `O(n)`, where n is the number of nodes in the linked list.\n",
    "    - The dominant factor for time complexity is the reversal of the linked list, resulting in a total time complexity of `O(n)`.\n",
    "\n",
    "\n",
    "- Space Complexity:\n",
    "     \n",
    "    - Reversing the linked list: `O(1)` - The reversal is done in-place, requiring only a constant amount of extra space.\n",
    "    - Traversing the reversed linked list: `O(1)` - The traversal uses a constant amount of extra space.\n",
    "    - The overall space complexity is `O(1)`, as the algorithm uses a constant amount of extra space regardless of the size of the input linked list."
   ]
  },
  {
   "cell_type": "code",
   "execution_count": null,
   "id": "d5df9411",
   "metadata": {},
   "outputs": [],
   "source": []
  },
  {
   "cell_type": "markdown",
   "id": "5652d046",
   "metadata": {},
   "source": [
    "### Problem 14: Given a sorted array and a target value, return the index if the target is found. If not, return the index where it would be inserted.\n",
    "\n",
    "Input: nums = [1, 3, 5, 6], target = 5\n",
    "\n",
    "Output: 2\n"
   ]
  },
  {
   "cell_type": "markdown",
   "id": "0e29f00a",
   "metadata": {},
   "source": [
    "- We can solve this by using Binary Search approach."
   ]
  },
  {
   "cell_type": "code",
   "execution_count": 2,
   "id": "1b108993",
   "metadata": {},
   "outputs": [
    {
     "name": "stdout",
     "output_type": "stream",
     "text": [
      "The index of target is or where it should be inserted is: 2\n"
     ]
    }
   ],
   "source": [
    "def search_insertion_position(nums, target):\n",
    "    \n",
    "    left, right = 0, len(nums) - 1\n",
    "    \n",
    "    while left <= right:\n",
    "        \n",
    "        mid = left + (right - left) // 2\n",
    "        \n",
    "        if nums[mid] == target:\n",
    "            return mid\n",
    "        elif nums[mid] < target:\n",
    "            left = mid + 1\n",
    "        else:\n",
    "            right = mid - 1\n",
    "            \n",
    "    \n",
    "    # if the target is not found, return the index where it should be inserted\n",
    "    return left\n",
    "\n",
    "\n",
    "# Driver Code\n",
    "nums = [1, 3, 5, 6]\n",
    "target = 5\n",
    "\n",
    "print(f\"The index of target is or where it should be inserted is: {search_insertion_position(nums, target)}\")"
   ]
  },
  {
   "cell_type": "markdown",
   "id": "c4497802",
   "metadata": {},
   "source": [
    "- Time Complexity:\n",
    "    \n",
    "    The time complexity is given by `O(log n)`, where `n` is the length of the input array. This is because of Binary Search technique used with each iteration the search space is halved.\n",
    "    \n",
    "\n",
    "- Space Complexity:\n",
    "    \n",
    "    The space complexity is `O(1)`, as the algorithm only uses a constant amount of additional space for the variables `left`, `right`, and `mid`."
   ]
  },
  {
   "cell_type": "code",
   "execution_count": null,
   "id": "a2b61a7a",
   "metadata": {},
   "outputs": [],
   "source": []
  },
  {
   "cell_type": "markdown",
   "id": "9127e7b5",
   "metadata": {},
   "source": [
    "### Problem 15: Find the minimum element in a rotated sorted array.\n",
    "\n",
    "Input: [4, 5, 6, 7, 0, 1, 2]\n",
    "\n",
    "Output: 0\n"
   ]
  },
  {
   "cell_type": "markdown",
   "id": "23653632",
   "metadata": {},
   "source": [
    "- We can solve this by using Binary Search approach."
   ]
  },
  {
   "cell_type": "code",
   "execution_count": 10,
   "id": "c89f1e3b",
   "metadata": {},
   "outputs": [
    {
     "name": "stdout",
     "output_type": "stream",
     "text": [
      "0\n"
     ]
    }
   ],
   "source": [
    "# function Definition\n",
    "def find_min_num_rotated_sorted_array_using_binary_search(arr):\n",
    "    left = 0\n",
    "    right = len(arr) - 1\n",
    "\n",
    "    while left <= right:\n",
    "        mid = int(left + (right - left)/2)\n",
    "\n",
    "        if mid == 0 or mid == len(arr) - 1:\n",
    "            if arr[mid] < arr[len(arr) - 1]:\n",
    "                return arr[mid]\n",
    "            else:\n",
    "                return arr[len(arr) - 1]\n",
    "        if arr[mid] < arr[mid - 1] and arr[mid] < arr[mid + 1]:\n",
    "            return arr[mid]\n",
    "        else:\n",
    "            if arr[mid] > arr[right]:\n",
    "                left = mid + 1\n",
    "            else:\n",
    "                right = mid - 1\n",
    "\n",
    "# Driver Code\n",
    "print(find_min_num_rotated_sorted_array_using_binary_search([4, 5, 6, 7, 0, 1, 2]))"
   ]
  },
  {
   "cell_type": "markdown",
   "id": "15226101",
   "metadata": {},
   "source": [
    "- Time Complexity:\n",
    "    \n",
    "    The time complexity is given by `O(log n)`, where `n` is the length of the input array. This is because of Binary Search technique used with each iteration the search space is halved.\n",
    "    \n",
    "\n",
    "- Space Complexity:\n",
    "    \n",
    "    The space complexity is `O(1)`, as the algorithm only uses a constant amount of additional space for the variables `left`, `right`, and `mid`."
   ]
  },
  {
   "cell_type": "code",
   "execution_count": null,
   "id": "13edba5c",
   "metadata": {},
   "outputs": [],
   "source": []
  },
  {
   "cell_type": "markdown",
   "id": "55947293",
   "metadata": {},
   "source": [
    "### Problem 16: Search for a target value in a rotated sorted array.\n",
    "\n",
    "Input: nums = [4, 5, 6, 7, 0, 1, 2], target = 0\n",
    "\n",
    "Output: 4"
   ]
  },
  {
   "cell_type": "markdown",
   "id": "bd33f52f",
   "metadata": {},
   "source": [
    "- We can solve this by using Binary Search approach."
   ]
  },
  {
   "cell_type": "code",
   "execution_count": 15,
   "id": "c01e18ac",
   "metadata": {},
   "outputs": [
    {
     "name": "stdout",
     "output_type": "stream",
     "text": [
      "4\n"
     ]
    }
   ],
   "source": [
    "# Method Definition\n",
    "def search_rotated(arr, val):\n",
    "    \n",
    "    left, right = 0, len(arr) - 1\n",
    "    \n",
    "    while left <= right:\n",
    "        mid = left + (right - left) // 2\n",
    "        \n",
    "        if arr[mid] == val:\n",
    "            return mid\n",
    "        if arr[left] <= arr[mid]:\n",
    "            # left half is sorted\n",
    "            if arr[left] <= val < arr[mid]:\n",
    "                \n",
    "                right = mid - 1\n",
    "            else:\n",
    "                left = mid + 1\n",
    "        else:\n",
    "            # right half is sorted\n",
    "            if arr[mid] < val <= arr[right]:\n",
    "                left = mid + 1\n",
    "            else:\n",
    "                right = mid - 1\n",
    "            \n",
    "    return -1\n",
    "\n",
    "# driver code\n",
    "nums = [4, 5, 6, 7, 0, 1, 2]\n",
    "target = 0\n",
    "result = search_rotated(nums, target)\n",
    "print(result)"
   ]
  },
  {
   "cell_type": "markdown",
   "id": "659ca679",
   "metadata": {},
   "source": [
    "- Time Complexity:\n",
    "    \n",
    "    The time complexity is given by `O(log n)`, where `n` is the length of the input array. This is because of Binary Search technique used with each iteration the search space is halved.\n",
    "    \n",
    "\n",
    "- Space Complexity:\n",
    "    \n",
    "    The space complexity is `O(1)`, as the algorithm only uses a constant amount of additional space for the variables `left`, `right`, and `mid`."
   ]
  },
  {
   "cell_type": "code",
   "execution_count": null,
   "id": "b41e2208",
   "metadata": {},
   "outputs": [],
   "source": []
  },
  {
   "cell_type": "markdown",
   "id": "25500675",
   "metadata": {},
   "source": [
    "### Problem 17: Find the peak element in an array. A peak element is greater than its neighbors.\n",
    "\n",
    "Input: nums = [1, 2, 3, 1]\n",
    "\n",
    "Output: 2 (index of peak element)\n",
    "\n"
   ]
  },
  {
   "cell_type": "markdown",
   "id": "69cc222a",
   "metadata": {},
   "source": [
    "- We can use the Binary Search approach to find the peak element. The idea is to modify the Binary Search based on the comparison of the adjacent elements."
   ]
  },
  {
   "cell_type": "code",
   "execution_count": 19,
   "id": "d65102b3",
   "metadata": {},
   "outputs": [
    {
     "name": "stdout",
     "output_type": "stream",
     "text": [
      "The index of peak element is:  5\n"
     ]
    }
   ],
   "source": [
    "# MEthod definition to find the peak element\n",
    "def find_peak_element(arr):\n",
    "    \n",
    "    left, right = 0, len(arr) - 1\n",
    "    \n",
    "    while left < right:\n",
    "        \n",
    "        mid = left + (right - left) // 2\n",
    "        \n",
    "        if arr[mid] > arr[mid + 1]:\n",
    "            # Peak is in the left half\n",
    "            right = mid\n",
    "            \n",
    "        else:\n",
    "            # Peak is in the right half\n",
    "            left = mid + 1\n",
    "            \n",
    "    return left  # 'left' is the index of the peak element\n",
    "\n",
    "\n",
    "# Driver Code\n",
    "nums = [1, 2, 3, 1, 4, 5, 0]\n",
    "\n",
    "print(\"The index of peak element is: \", find_peak_element(nums))\n"
   ]
  },
  {
   "cell_type": "markdown",
   "id": "ed0c8197",
   "metadata": {},
   "source": [
    "- Time Complexity:\n",
    "    \n",
    "    The time complexity is given by `O(log n)`, where `n` is the length of the input array. This is because of Binary Search technique used with each iteration the search space is halved.\n",
    "    \n",
    "\n",
    "- Space Complexity:\n",
    "    \n",
    "    The space complexity is `O(1)`, as the algorithm only uses a constant amount of additional space for the variables `left`, `right`, and `mid`."
   ]
  },
  {
   "cell_type": "code",
   "execution_count": null,
   "id": "731421ab",
   "metadata": {},
   "outputs": [],
   "source": []
  },
  {
   "cell_type": "markdown",
   "id": "8266926a",
   "metadata": {},
   "source": [
    "### Problem 18: Given a m x n matrix where each row and column is sorted in ascending order, count the number of negative numbers.\n",
    "\n",
    "\n",
    "Input: grid = [[4, 3, 2, -1], [3, 2, 1, -1], [1, 1, -1, -2], [-1, -1, -2, -3]]\n",
    "\n",
    "Output: 8\n",
    "\n",
    "\n"
   ]
  },
  {
   "cell_type": "markdown",
   "id": "99a3af6c",
   "metadata": {},
   "source": [
    "- We can solve this problem by iterating through the matrix and counting the number of negative numbers. \n",
    "- Since each row and column is sorted in ascending order, we can optimize the process by starting from the bottom-left corner and moving towards the top-right corner. "
   ]
  },
  {
   "cell_type": "code",
   "execution_count": 24,
   "id": "e568e90b",
   "metadata": {},
   "outputs": [
    {
     "name": "stdout",
     "output_type": "stream",
     "text": [
      "The number of negative numbers are: 8\n"
     ]
    }
   ],
   "source": [
    "def count_negative_matrix(matrix):\n",
    "    \n",
    "    m, n = len(matrix), len(matrix[0])\n",
    "    \n",
    "    count = 0\n",
    "    \n",
    "    row, col = m - 1, 0  # start from bottom left corner\n",
    "    \n",
    "    while row >= 0 and col < n:\n",
    "        \n",
    "        if matrix[row][col] < 0:\n",
    "            \n",
    "            # All elements to the right are also negative (because it's sorted)\n",
    "            count += (n - col)\n",
    "            row -= 1\n",
    "            \n",
    "        else:\n",
    "            # move up to next row\n",
    "            col += 1\n",
    "            \n",
    "    return count\n",
    "\n",
    "\n",
    "# Driver Code\n",
    "grid = [\n",
    "    [4, 3, 2, -1],\n",
    "    [3, 2, 1, -1],\n",
    "    [1, 1, -1, -2],\n",
    "    [-1, -1, -2, -3]\n",
    "]\n",
    "print(f\"The number of negative numbers are: {count_negative_matrix(grid)}\")\n"
   ]
  },
  {
   "cell_type": "markdown",
   "id": "69113889",
   "metadata": {},
   "source": [
    "- Time Complexity:\n",
    "    \n",
    "    The time complexity of this solution is `O(m + n)`, where 'm' is the number of rows and 'n' is the number of columns in the matrix. \n",
    "    \n",
    "- Space Complexity:\n",
    "\n",
    "    The space complexity is `O(1)` since only constant additional space is used."
   ]
  },
  {
   "cell_type": "code",
   "execution_count": null,
   "id": "39b636dd",
   "metadata": {},
   "outputs": [],
   "source": []
  },
  {
   "cell_type": "markdown",
   "id": "1d625e05",
   "metadata": {},
   "source": [
    "### Problem 19: Given a 2D matrix sorted in ascending order in each row, and the first integer of each row is greater than the last integer of the previous row, determine if a target value is present in the matrix.\n",
    "\n",
    "Input: matrix = [[1, 3, 5, 7], [10, 11, 16, 20], [23, 30, 34, 60]], target = 3\n",
    "\n",
    "Output: True\n"
   ]
  },
  {
   "cell_type": "markdown",
   "id": "f6e9e23b",
   "metadata": {},
   "source": [
    "- We can perform Binary Search on 2D matrix. \n",
    "- The idea is to convert 2D matrix as a 1D array by converting 2D coordinates into a single index."
   ]
  },
  {
   "cell_type": "code",
   "execution_count": 2,
   "id": "e7084969",
   "metadata": {},
   "outputs": [
    {
     "name": "stdout",
     "output_type": "stream",
     "text": [
      "True\n"
     ]
    }
   ],
   "source": [
    "# Function definition to determine the target value in the sorted 2D Matrix\n",
    "def search_sorted_matrix(matrix, target):\n",
    "    if not matrix or not matrix[0]:\n",
    "        return False\n",
    "    \n",
    "    rows, cols = len(matrix), len(matrix[0])\n",
    "    left, right = 0, rows * cols - 1\n",
    "    \n",
    "    while left <= right:\n",
    "        \n",
    "        mid = left + (right - left) // 2\n",
    "        \n",
    "        mid_value = matrix[mid // cols][mid % cols]\n",
    "        \n",
    "        if mid_value == target:\n",
    "            return True\n",
    "        elif mid_value < target:\n",
    "            left = mid + 1\n",
    "        else:\n",
    "            right = mid - 1\n",
    "            \n",
    "    return False\n",
    "\n",
    "\n",
    "# Driver Code\n",
    "matrix = [\n",
    "    [1, 3, 5, 7],\n",
    "    [10, 11, 16, 20],\n",
    "    [23, 30, 34, 60]\n",
    "]\n",
    "target = 3\n",
    "print(search_sorted_matrix(matrix, target))"
   ]
  },
  {
   "cell_type": "markdown",
   "id": "9562fd3e",
   "metadata": {},
   "source": [
    "- Time Complexity:\n",
    "\n",
    "    The time complexity of this solution is `O(log(m * n))`, where 'm' is the number of rows and 'n' is the number of columns in the matrix. \n",
    "    \n",
    "    \n",
    "- Space Complexity:\n",
    "    \n",
    "    The space complexity is `O(1)` since only constant additional space is used.\n",
    "\n",
    "\n",
    "\n",
    "\n"
   ]
  },
  {
   "cell_type": "code",
   "execution_count": null,
   "id": "86b729b2",
   "metadata": {},
   "outputs": [],
   "source": []
  },
  {
   "cell_type": "markdown",
   "id": "957e5d43",
   "metadata": {},
   "source": [
    "### Problem 20: Find Median in Two Sorted Arrays\n",
    "\n",
    "### Problem 20: Given two sorted arrays, find the median of the combined sorted array.\n",
    "\n",
    "Input: nums1 = [1, 3], nums2 = [2]\n",
    "\n",
    "Output: 2.0\n"
   ]
  },
  {
   "cell_type": "markdown",
   "id": "ff0b85f8",
   "metadata": {},
   "source": [
    "- To find the median of the combined sorted array\n",
    "- We can merge the two sorted arrays and then calculate the median based on the merged result."
   ]
  },
  {
   "cell_type": "code",
   "execution_count": 2,
   "id": "9e739e5c",
   "metadata": {},
   "outputs": [
    {
     "name": "stdout",
     "output_type": "stream",
     "text": [
      "2.0\n"
     ]
    }
   ],
   "source": [
    "# Function definition to median sorted arrays\n",
    "def find_median_sorted_arrays(nums1, nums2):\n",
    "    merged = sorted(nums1 + nums2)  # \n",
    "    \n",
    "    n = len(merged)\n",
    "    \n",
    "    if n % 2 == 0:\n",
    "        \n",
    "        # if the length is even, return the average of the middle elements\n",
    "        return (merged[n // 2 - 1] + merged[n // 2]) // 2\n",
    "    \n",
    "    else:\n",
    "        \n",
    "        # if the length is odd, return the middle element\n",
    "        return float (merged[n // 2])\n",
    "    \n",
    "    \n",
    "# Driver Code\n",
    "nums1 = [1, 3]\n",
    "nums2 = [2]\n",
    "result = find_median_sorted_arrays(nums1, nums2)\n",
    "print(result)"
   ]
  },
  {
   "cell_type": "markdown",
   "id": "4da318e3",
   "metadata": {},
   "source": [
    "- Time Complexity:\n",
    "\n",
    "    - The time complexity of the provided solution is `O((m + n) log(m + n))`, where `m` and `n` are the lengths of the input arrays `nums1` and `nums2`.\n",
    "    - The dominating factor here is the sorting operation, which has atime comlexity of `O((m + n) log(m + n))`.\n",
    "    \n",
    "    \n",
    "    \n",
    "- Space Complexity:\n",
    "\n",
    "    -  The space complexity is `O(m + n)`, as we create a new array merged to store the merged result of nums1 and nums2. "
   ]
  },
  {
   "cell_type": "code",
   "execution_count": null,
   "id": "7790596b",
   "metadata": {},
   "outputs": [],
   "source": []
  },
  {
   "cell_type": "markdown",
   "id": "2e53e46e",
   "metadata": {},
   "source": [
    "### Problem 21: Given a sorted character array and a target letter, find the smallest letter in the array that is greater than the target.\n",
    "\n",
    "Input: letters = ['c', 'f', 'j'], target = 'a'\n",
    "\n",
    "Output: 'c'\n"
   ]
  },
  {
   "cell_type": "markdown",
   "id": "39beaad3",
   "metadata": {},
   "source": [
    "- We can use Binary Search aproach, as the input character array is sorted."
   ]
  },
  {
   "cell_type": "code",
   "execution_count": 6,
   "id": "c40f742c",
   "metadata": {},
   "outputs": [
    {
     "name": "stdout",
     "output_type": "stream",
     "text": [
      "b\n"
     ]
    }
   ],
   "source": [
    "# function definition to find the next smallest character\n",
    "def next_smallest_character(letters, target):\n",
    "    \n",
    "    left, right = 0, len(letters) - 1\n",
    "    \n",
    "    while left <= right:\n",
    "        \n",
    "        mid = left + (right - left) // 2\n",
    "        \n",
    "        if letters[mid] <= target:\n",
    "            left = mid + 1\n",
    "            \n",
    "        else:\n",
    "            right = mid - 1\n",
    "            \n",
    "    # if left exceeds the array bounds, wrap around to the first element \n",
    "    return letters[left % len(letters)]\n",
    "\n",
    "\n",
    "# Driver code\n",
    "letters = ['b', 'c', 'f', 'j', 'l']\n",
    "target = 'a'\n",
    "print(next_smallest_character(letters, target))"
   ]
  },
  {
   "cell_type": "markdown",
   "id": "ee2622f1",
   "metadata": {},
   "source": [
    "- Time Complexity:\n",
    "\n",
    "    The time complexity of this solution is `O(log n)`, where 'n' is the length of the input character array letters. \n",
    "    \n",
    "    \n",
    "- Space Complexity:    \n",
    "    \n",
    "    The space complexity is `O(1)` since only constant additional space is used."
   ]
  },
  {
   "cell_type": "code",
   "execution_count": null,
   "id": "11a1698e",
   "metadata": {},
   "outputs": [],
   "source": []
  },
  {
   "cell_type": "markdown",
   "id": "95dc4075",
   "metadata": {},
   "source": [
    "### Problem 22: Given an array with n objects colored red, white, or blue, sort them in-place so that objects of the same color are adjacent, with the colors in the order red, white, and blue\n",
    "\n",
    "Input: nums = [2, 0, 2, 1, 1, 0]\n",
    "\n",
    "Output: [0, 0, 1, 1, 2, 2]\n"
   ]
  },
  {
   "cell_type": "markdown",
   "id": "4625f781",
   "metadata": {},
   "source": [
    "- This problem is known as Dutch National Flag problem and can be solved using Dutch national flag algorithm."
   ]
  },
  {
   "cell_type": "code",
   "execution_count": 7,
   "id": "ff74c931",
   "metadata": {},
   "outputs": [
    {
     "name": "stdout",
     "output_type": "stream",
     "text": [
      "[0, 0, 1, 1, 2, 2]\n"
     ]
    }
   ],
   "source": [
    "# function definition to sort the colors\n",
    "def sort_colors(arr):\n",
    "    low, mid, high = 0, 0, len(arr) - 1\n",
    "    \n",
    "    while mid <= high:\n",
    "        if arr[mid] ==0:\n",
    "            arr[low], arr[mid] = arr[mid], arr[low]\n",
    "            low += 1\n",
    "            mid += 1\n",
    "        elif arr[mid] == 1:\n",
    "            mid += 1\n",
    "        else:\n",
    "            arr[mid], arr[high] = arr[high], arr[mid]\n",
    "            high -= 1\n",
    "            \n",
    "\n",
    "# Driver code\n",
    "nums = [2, 0, 2, 1, 1, 0]\n",
    "sort_colors(nums)\n",
    "print(nums)"
   ]
  },
  {
   "cell_type": "markdown",
   "id": "517fc02f",
   "metadata": {},
   "source": [
    "- Time Complexity:\n",
    "\n",
    "    The time complexity of this solution is `O(n)`, where 'n' is the length of the input array nums. \n",
    "    As it needs to iterate through the entire list.\n",
    "    \n",
    "\n",
    "- Space Complexity:\n",
    "    \n",
    "    The space complexity is `O(1)` since only constant additional space is used."
   ]
  },
  {
   "cell_type": "code",
   "execution_count": null,
   "id": "5402958a",
   "metadata": {},
   "outputs": [],
   "source": []
  },
  {
   "cell_type": "markdown",
   "id": "72c9c8f1",
   "metadata": {},
   "source": [
    "### Problem 23: Find the kth largest element in an unsorted array\n",
    "\n",
    "Input: nums = [3, 2, 1, 5, 6, 4], k = 2\n",
    "\n",
    "Output: 5\n"
   ]
  },
  {
   "cell_type": "markdown",
   "id": "e8f34168",
   "metadata": {},
   "source": [
    "- The algorithm to find the kth largest element in an unsorted array without using inbuilt functions is based on the QuickSelect algorithm, which is a modifies version of the quick sort algorithm.\n",
    "\n",
    "    - `Choose a Pivot`: Pick a pivot element from the array. In this case, usually the last element\n",
    "    - `Partitioning`: Rearrange the array, so that the elements less than the pivot are on the left, and greater than the pivot are on the right\n",
    "    - `Recursion`: Recursively apply the same process to subarray that contains the kth largest element. The choice of the subarray depends on the comparison of k with the index of the pivot.\n",
    "    - `Base Case`: If the pivot index is equal to k, then we have found the kth largest element and can return it. If the pivot index is less than k, continue the search in the right subarray. If the pivot index is greater than k, continue in the left subarray.\n",
    "    "
   ]
  },
  {
   "cell_type": "code",
   "execution_count": 20,
   "id": "f16c6906",
   "metadata": {},
   "outputs": [
    {
     "name": "stdout",
     "output_type": "stream",
     "text": [
      "3\n"
     ]
    }
   ],
   "source": [
    "# function definition for a helper function to partition the array\n",
    "def partition(array, low, high):\n",
    "    \n",
    "    pivot = array[high]\n",
    "    i = low - 1\n",
    "    \n",
    "    for j in range(low, high):\n",
    "        if array[j] >= pivot:\n",
    "            i += 1\n",
    "            array[i], array[j] = array[j], array[i]\n",
    "            \n",
    "    array[i + 1], array[high] = array[high], array[i + 1]\n",
    "    return i + 1\n",
    "\n",
    "\n",
    "# function definition for quick select implementation\n",
    "def quick_select(arr, low, high, k):\n",
    "    if low <= high:\n",
    "        pivot_index = partition(arr, low, high)\n",
    "        \n",
    "        if pivot_index == k:\n",
    "            return arr[pivot_index]\n",
    "        elif pivot_index < k:\n",
    "            return quick_select(arr, pivot_index + 1, high, k)\n",
    "        else:\n",
    "            return quick_select(arr, low, pivot_index - 1, k)\n",
    "        \n",
    "\n",
    "def find_kth_largest(nums, k):\n",
    "    if k > 0 and k <= len(nums):\n",
    "        return quick_select(nums, 0, len(nums) - 1, len(nums) - k)\n",
    "    else:\n",
    "        return None\n",
    "    \n",
    "\n",
    "# Driver Code\n",
    "# import random\n",
    "# nums = random.sample(range(100, 200), 10)\n",
    "# print(nums)\n",
    "nums = [3, 2, 1, 5, 6, 4]\n",
    "k = 3\n",
    "print(find_kth_largest(nums, k))"
   ]
  },
  {
   "cell_type": "markdown",
   "id": "e2a37f0a",
   "metadata": {},
   "source": [
    "- Time Complexity:\n",
    "    \n",
    "    This algorithm provides an efficient way to find the kth largest element in an unsorted array, with an average time complexity of `O(n)` and worst-case time complexity of `O(n^2)`. \n",
    "    The worst-case time complexity is rare and occurs when the algorithm consistently chooses a bad pivot.\n",
    "    \n",
    "    \n",
    "- Space Complexity:\n",
    "    \n",
    "    The space complexity of the provided algorithm is `O(log n)`, where 'n' is the length of the input array nums. \n",
    "    This space complexity comes from the recursive nature of the quickselect algorithm and the maximum depth of the recursive call stack."
   ]
  },
  {
   "cell_type": "code",
   "execution_count": null,
   "id": "a6aa66a5",
   "metadata": {},
   "outputs": [],
   "source": []
  },
  {
   "cell_type": "markdown",
   "id": "f5837da5",
   "metadata": {},
   "source": [
    "### Problem 24: Given an unsorted array, reorder it in-place such that nums[0] <= nums[1] >= nums[2] <= nums[3]...\n",
    "\n",
    "Input: nums = [3, 5, 2, 1, 6, 4]\n",
    "\n",
    "Output: [3, 5, 1, 6, 2, 4]\n"
   ]
  },
  {
   "cell_type": "markdown",
   "id": "36b5eb2d",
   "metadata": {},
   "source": [
    "- We can iterate through the array and swap the adjacent elements."
   ]
  },
  {
   "cell_type": "code",
   "execution_count": 21,
   "id": "741ed673",
   "metadata": {},
   "outputs": [
    {
     "name": "stdout",
     "output_type": "stream",
     "text": [
      "[3, 5, 1, 6, 2, 4]\n"
     ]
    }
   ],
   "source": [
    "# function definition to sort the array in wiggly manner\n",
    "def wiggle_sort(arr):\n",
    "    for i in range(len(arr) - 1):\n",
    "        if i % 2 == 0 and arr[i] > arr[i + 1]:\n",
    "            arr[i], arr[i + 1] = arr[i + 1], arr[i]\n",
    "        elif i % 2 == 1 and arr[i] < arr[i + 1]:\n",
    "            arr[i], arr[i + 1] = arr[i + 1], arr[i]\n",
    "            \n",
    "            \n",
    "# Driver Code\n",
    "nums = [3, 5, 2, 1, 6, 4]\n",
    "wiggle_sort(nums)\n",
    "print(nums)"
   ]
  },
  {
   "cell_type": "markdown",
   "id": "f7432b5c",
   "metadata": {},
   "source": [
    "- Time Complexity:\n",
    "    \n",
    "    The time complexity of this solution is `O(n)`, where 'n' is the length of the input array nums.\n",
    "    \n",
    "\n",
    "- Space Complexity:\n",
    "\n",
    "    The space complexity is `O(1)` since the algorithm is performed in-place."
   ]
  },
  {
   "cell_type": "code",
   "execution_count": null,
   "id": "f1e7b023",
   "metadata": {},
   "outputs": [],
   "source": []
  },
  {
   "cell_type": "markdown",
   "id": "e9b27238",
   "metadata": {},
   "source": [
    "### Problem 25: Given an array of integers, calculate the sum of all its elements\n",
    "\n",
    "Input: [1, 2, 3, 4, 5]\n",
    "\n",
    "Output: 15"
   ]
  },
  {
   "cell_type": "markdown",
   "id": "ac3cf93f",
   "metadata": {},
   "source": [
    "- Iterate through the array and sum the values"
   ]
  },
  {
   "cell_type": "code",
   "execution_count": 25,
   "id": "1888e909",
   "metadata": {},
   "outputs": [
    {
     "name": "stdout",
     "output_type": "stream",
     "text": [
      "15\n"
     ]
    }
   ],
   "source": [
    "# Function definition to calculate the sum of all its elements\n",
    "def calculate_sum(arr):\n",
    "    \n",
    "    add = 0\n",
    "    for i in range(len(arr)):\n",
    "        add += arr[i]\n",
    "        \n",
    "    return add\n",
    "\n",
    "# Driver Code\n",
    "nums = [1, 2, 3, 4, 5]\n",
    "print(calculate_sum(nums))"
   ]
  },
  {
   "cell_type": "markdown",
   "id": "50b7693a",
   "metadata": {},
   "source": [
    "- Time Complexity:\n",
    "    \n",
    "    The time complexity of this solution is `O(n)`, where 'n' is the length of the input array nums.\n",
    "    \n",
    "\n",
    "- Space Complexity:\n",
    "\n",
    "    The space complexity is `O(1)` since the algorithm is performed in-place."
   ]
  },
  {
   "cell_type": "code",
   "execution_count": null,
   "id": "ba625b37",
   "metadata": {},
   "outputs": [],
   "source": []
  },
  {
   "cell_type": "markdown",
   "id": "9e7756ed",
   "metadata": {},
   "source": [
    "### Problem 26: Find the maximum element in an array of integers.\n",
    "\n",
    "Input: [3, 7, 2, 9, 4, 1]\n",
    "\n",
    "Output: 9\n"
   ]
  },
  {
   "cell_type": "markdown",
   "id": "69476c0f",
   "metadata": {},
   "source": [
    "- Initialize a variable to store the maximum value, initially set to negative infinity.\n",
    "- Iterate through each element in the array.\n",
    "- If the current element is greater than the current maximum, update the maximum value.\n",
    "- After iterating through all elements, the maximum value will be the result."
   ]
  },
  {
   "cell_type": "code",
   "execution_count": 12,
   "id": "b6e0cf68",
   "metadata": {},
   "outputs": [
    {
     "name": "stdout",
     "output_type": "stream",
     "text": [
      "9\n"
     ]
    }
   ],
   "source": [
    "def find_maximum_element(nums):\n",
    "    max_element = float('-inf')\n",
    "    \n",
    "    for num in nums:\n",
    "        if num > max_element:\n",
    "            max_element = num\n",
    "    \n",
    "    return max_element\n",
    "\n",
    "\n",
    "# driver code\n",
    "input_array = [3, 7, 2, 9, 4, 1]\n",
    "result = find_maximum_element(input_array)\n",
    "print(result)\n"
   ]
  },
  {
   "cell_type": "markdown",
   "id": "ce221518",
   "metadata": {},
   "source": [
    "- Time Complexity:\n",
    "    \n",
    "    The time complexity of this algorithm is `O(n)`, where 'n' is the number of elements in the array. This is because the algorithm iterates through each element once.\n",
    "\n",
    "\n",
    "- Space Complexity:\n",
    "\n",
    "    The space complexity is `O(1)` as only a constant amount of additional space is used to store the maximum value."
   ]
  },
  {
   "cell_type": "code",
   "execution_count": null,
   "id": "568a3cfc",
   "metadata": {},
   "outputs": [],
   "source": []
  },
  {
   "cell_type": "markdown",
   "id": "37eddeb5",
   "metadata": {},
   "source": [
    "### Problem 27: Implement linear search to find the index of a target element in an array\n",
    "\n",
    "Input: [5, 3, 8, 2, 7, 4], target = 8\n",
    "\n",
    "Output: 2\n"
   ]
  },
  {
   "cell_type": "markdown",
   "id": "1418a9e9",
   "metadata": {},
   "source": [
    "- Iterate through each element in the array.\n",
    "- Check if the current element is equal to the target.\n",
    "- If a match is found, return the index of the current element.\n",
    "- If the entire array is searched and no match is found, return -1."
   ]
  },
  {
   "cell_type": "code",
   "execution_count": 15,
   "id": "4c87e0ae",
   "metadata": {},
   "outputs": [
    {
     "name": "stdout",
     "output_type": "stream",
     "text": [
      "Index of the target:  2\n"
     ]
    }
   ],
   "source": [
    "def linear_search(nums, target):\n",
    "    \n",
    "    for i, num in enumerate(nums):\n",
    "        if num == target:\n",
    "            return i\n",
    "        \n",
    "    return -1\n",
    "\n",
    "\n",
    "# Driver code\n",
    "input_array = [5, 3, 8, 2, 7, 4]\n",
    "target = 8\n",
    "result = linear_search(input_array, target)\n",
    "print(\"Index of the target: \", result)"
   ]
  },
  {
   "cell_type": "markdown",
   "id": "b7a3a6ed",
   "metadata": {},
   "source": [
    "- Time Complexity:\n",
    "    \n",
    "    The time complexity of this algorithm is `O(n)`, where 'n' is the number of elements in the array. In the worst case, you might need to go through all elements to find the target or determine its absence.\n",
    "\n",
    "\n",
    "- Space Complexity:\n",
    "    \n",
    "    The space complexity is `O(1)` as only a constant amount of additional space is used."
   ]
  },
  {
   "cell_type": "code",
   "execution_count": null,
   "id": "bb15dabe",
   "metadata": {},
   "outputs": [],
   "source": []
  },
  {
   "cell_type": "markdown",
   "id": "a0bc615a",
   "metadata": {},
   "source": [
    "### Problem 28 Calculate the factorial of a given number.\n",
    "\n",
    "Input: 5\n",
    "\n",
    "Output: 120 (as 5! = 5 * 4 * 3 * 2 * 1 = 120)\n"
   ]
  },
  {
   "cell_type": "markdown",
   "id": "c664f358",
   "metadata": {},
   "source": [
    "- This iterative algorithm calculates the factorial of a given number by multiplying the numbers from 1 to 'n'."
   ]
  },
  {
   "cell_type": "code",
   "execution_count": 19,
   "id": "7a7e1420",
   "metadata": {},
   "outputs": [
    {
     "name": "stdout",
     "output_type": "stream",
     "text": [
      "120\n"
     ]
    }
   ],
   "source": [
    "def factorial_iterative(n):\n",
    "    result = 1\n",
    "    for i in range(1, n + 1):\n",
    "        result *= i\n",
    "        \n",
    "    return result\n",
    "\n",
    "\n",
    "# Driver code\n",
    "input_number = 5\n",
    "result = factorial_iterative(input_number)\n",
    "print(result)"
   ]
  },
  {
   "cell_type": "markdown",
   "id": "3ede305a",
   "metadata": {},
   "source": [
    "- Time Complexity:\n",
    "    \n",
    "    The time complexity is `O(n)`, where 'n' is the input number\n",
    "    \n",
    "\n",
    "- Space Complexity:\n",
    "\n",
    "    The space complexity is `O(1)` since a constant amount of additional space is used."
   ]
  },
  {
   "cell_type": "code",
   "execution_count": null,
   "id": "ecbf0997",
   "metadata": {},
   "outputs": [],
   "source": []
  },
  {
   "cell_type": "markdown",
   "id": "8967ec08",
   "metadata": {},
   "source": [
    "### Problem 29: Check if a given number is a prime number\n",
    "\n",
    "Input: 7\n",
    "\n",
    "Output: True\n"
   ]
  },
  {
   "cell_type": "markdown",
   "id": "b2eb1eb1",
   "metadata": {},
   "source": [
    "- If the input number is less than 2, it is not a prime number.\n",
    "- Iterate from 2 to the square root of the input number.\n",
    "- If the input number is divisible evenly by any number in the range, it is not a prime number.\n",
    "- Otherwise, it is a prime number."
   ]
  },
  {
   "cell_type": "code",
   "execution_count": 20,
   "id": "a02f251c",
   "metadata": {},
   "outputs": [
    {
     "name": "stdout",
     "output_type": "stream",
     "text": [
      "True\n"
     ]
    }
   ],
   "source": [
    "def is_prime(num):\n",
    "    \n",
    "    if num < 2:\n",
    "        return False\n",
    "    for i in range(2, int(num ** 0.5) + 1):\n",
    "        if num % i == 0:\n",
    "            return False\n",
    "    return True\n",
    "\n",
    "\n",
    "# Driver Code\n",
    "input_number = 7\n",
    "result = is_prime(input_number)\n",
    "print(result)\n"
   ]
  },
  {
   "cell_type": "markdown",
   "id": "036af157",
   "metadata": {},
   "source": [
    "- Time Complexity:\n",
    "    \n",
    "    The time complexity of the is_prime function is `O(sqrt(n))`, where 'n' is the input number. The loop runs up to the square root of the input number to check for divisibility. This ensures an efficient way of determining whether a number is prime.\n",
    "\n",
    "\n",
    "- Space Complexity:\n",
    "\n",
    "    The space complexity is `O(1)` as only a constant amount of additional space is used. The function uses a fixed amount of memory for variables (num and i), and the space required doesn't grow with the input size."
   ]
  },
  {
   "cell_type": "code",
   "execution_count": null,
   "id": "272d17fc",
   "metadata": {},
   "outputs": [],
   "source": []
  },
  {
   "cell_type": "markdown",
   "id": "d47867c6",
   "metadata": {},
   "source": [
    "### Problem 30: Generate the Fibonacci series up to a given number n.\n",
    "\n",
    "Input: 8\n",
    "\n",
    "Output: [0, 1, 1, 2, 3, 5, 8, 13]\n"
   ]
  },
  {
   "cell_type": "markdown",
   "id": "393c4135",
   "metadata": {},
   "source": [
    "- Initialize an empty list to store the Fibonacci series.\n",
    "- Set the first two elements of the series as 0 and 1\n",
    "- Continue adding the last two elements of the series to generate the next element until the counter is less than or equal to 'n'.\n",
    "- Append each new element to the series list."
   ]
  },
  {
   "cell_type": "code",
   "execution_count": 11,
   "id": "5fc7c087",
   "metadata": {},
   "outputs": [
    {
     "name": "stdout",
     "output_type": "stream",
     "text": [
      "[0, 1, 1, 2, 3, 5, 8, 13]\n"
     ]
    }
   ],
   "source": [
    "def generate_fibonacci_series(n):\n",
    "    fibonacci_series = [0, 1]\n",
    "    if n == 1:\n",
    "        return [0]\n",
    "    elif n == 2:\n",
    "        return fibonacci_series\n",
    "    else:\n",
    "        i = 2\n",
    "        while i < n:\n",
    "            next_element = fibonacci_series[-1] + fibonacci_series[-2]\n",
    "            fibonacci_series.append(next_element)\n",
    "            i += 1\n",
    "            \n",
    "    return fibonacci_series\n",
    "\n",
    "\n",
    "# Driver code\n",
    "n = 8\n",
    "result = generate_fibonacci_series(n)\n",
    "print(result)"
   ]
  },
  {
   "cell_type": "markdown",
   "id": "bfe39ffd",
   "metadata": {},
   "source": [
    "- Time Complexity:\n",
    "    \n",
    "    The time complexity of this algorithm is `O(k)`, where 'k' is the number of elements in the Fibonacci series up to the given number 'n'. In the worst case, 'k' is proportional to log(n), where 'n' is the input number.\n",
    "\n",
    "\n",
    "- Space Complexity:\n",
    "    \n",
    "    The space complexity is `O(n)` as well, considering the space required to store the generated Fibonacci series up to 'n'."
   ]
  },
  {
   "cell_type": "code",
   "execution_count": null,
   "id": "fa211a0d",
   "metadata": {},
   "outputs": [],
   "source": []
  },
  {
   "cell_type": "markdown",
   "id": "5e907095",
   "metadata": {},
   "source": [
    "### Problem 31: Calculate the power of a number using recursion.\n",
    "\n",
    "Input: base = 3, exponent = 4\n",
    "\n",
    "Output: 81 (as 3^4 = 3 * 3 * 3 * 3 = 81)\n"
   ]
  },
  {
   "cell_type": "markdown",
   "id": "81144a1c",
   "metadata": {},
   "source": [
    "- If the exponent is 0, return 1 (base case)\n",
    "- If the exponent is 1, return the base\n",
    "- If the exponent is even, calculate the power recursively for half of the exponent and square the result.\n",
    "- If the exponent is odd, calculate the power recursively for half of the exponent, square the result, and multiply by the base."
   ]
  },
  {
   "cell_type": "code",
   "execution_count": 2,
   "id": "e00fad17",
   "metadata": {},
   "outputs": [
    {
     "name": "stdout",
     "output_type": "stream",
     "text": [
      "81\n"
     ]
    }
   ],
   "source": [
    "# function definition for optimised way of finding the power\n",
    "def power_find(base, exponent):\n",
    "    \n",
    "    if exponent == 0:\n",
    "        return 1\n",
    "    elif exponent == 1:\n",
    "        return base\n",
    "    else:\n",
    "        result = power_find(base, exponent // 2)\n",
    "        result *= result  # Square the result for even exponent\n",
    "        \n",
    "        if exponent % 2 != 0:\n",
    "            result *= base  # Multiply by base for odd exponent\n",
    "        \n",
    "        return result\n",
    "    \n",
    "    \n",
    "# Driver code\n",
    "base = 3\n",
    "expo = 4\n",
    "print(power_find(base, expo))"
   ]
  },
  {
   "cell_type": "markdown",
   "id": "4d8fae66",
   "metadata": {},
   "source": [
    "- Time Complexity:\n",
    "\n",
    "    The time complexity of this recursive solution is `O(log n)`, where 'n' is the exponent. This is because in each recursive call, we reduce the exponent by half.\n",
    "    \n",
    "    \n",
    "- Space Complexity:\n",
    "\n",
    "    The space complexity is `O(log n)` as well, due to the maximum depth of the recursive call stack."
   ]
  },
  {
   "cell_type": "code",
   "execution_count": null,
   "id": "1933e7cb",
   "metadata": {},
   "outputs": [],
   "source": []
  },
  {
   "cell_type": "markdown",
   "id": "d2e995cd",
   "metadata": {},
   "source": [
    "### Problem 32: Reverse a given string\n",
    "\n",
    "Input: \"hello\"\n",
    "\n",
    "Output: \"olleh\"\n"
   ]
  },
  {
   "cell_type": "markdown",
   "id": "a2ec5fdf",
   "metadata": {},
   "source": [
    "- Initialize two pointers, one pointing to start of the string and the other to the end.\n",
    "- Swap the characters at the start and end pointers, then move the pointers towards each other until they meet in the middle.\n",
    "- Continue swapping and moving pointers until the entire string is reversed."
   ]
  },
  {
   "cell_type": "code",
   "execution_count": 1,
   "id": "d765cf24",
   "metadata": {},
   "outputs": [
    {
     "name": "stdout",
     "output_type": "stream",
     "text": [
      "Reversed String:  olleh\n"
     ]
    }
   ],
   "source": [
    "# Function definition to reverse string\n",
    "def reverse_string(s):\n",
    "    \n",
    "    # convert the string to a list to make it mutable\n",
    "    s_list = list(s)\n",
    "    \n",
    "    # initialize pointers\n",
    "    start, end = 0, len(s_list) - 1\n",
    "    \n",
    "    # swap characters and move the pointers towards each other\n",
    "    while start < end:\n",
    "        s_list[start], s_list[end] = s_list[end], s_list[start]\n",
    "        start += 1\n",
    "        end -= 1\n",
    "        \n",
    "    # convert the list back to a string\n",
    "    return ''.join(s_list)\n",
    "\n",
    "\n",
    "# Driver code\n",
    "input_str = \"hello\"\n",
    "print(\"Reversed String: \", reverse_string(input_str))"
   ]
  },
  {
   "cell_type": "markdown",
   "id": "6ff386f4",
   "metadata": {},
   "source": [
    "- Time Complexity:\n",
    "\n",
    "    The time complexity of thjs solution is `O(n)`, where 'n' is the length of the input string. This is because we visit each character in the string once.\n",
    "    \n",
    "\n",
    "- Space Complexity:\n",
    "    \n",
    "    The space complexity is `O(1)`, which means the algorithm uses constant space. This is because we perform the reversal in-place, using only a constant amount of additional space regardless of the input size."
   ]
  },
  {
   "cell_type": "code",
   "execution_count": null,
   "id": "9b8cbaab",
   "metadata": {},
   "outputs": [],
   "source": []
  }
 ],
 "metadata": {
  "kernelspec": {
   "display_name": "Python 3",
   "language": "python",
   "name": "python3"
  },
  "language_info": {
   "codemirror_mode": {
    "name": "ipython",
    "version": 3
   },
   "file_extension": ".py",
   "mimetype": "text/x-python",
   "name": "python",
   "nbconvert_exporter": "python",
   "pygments_lexer": "ipython3",
   "version": "3.8.8"
  }
 },
 "nbformat": 4,
 "nbformat_minor": 5
}
