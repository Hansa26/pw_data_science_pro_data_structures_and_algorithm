{
 "cells": [
  {
   "cell_type": "markdown",
   "id": "9332a3c0-a76b-4f32-bd17-2ed8d390a680",
   "metadata": {
    "tags": []
   },
   "source": [
    "# Arrays"
   ]
  },
  {
   "cell_type": "markdown",
   "id": "89b1a870-be32-434b-859e-7dca60992973",
   "metadata": {
    "jp-MarkdownHeadingCollapsed": true,
    "tags": []
   },
   "source": [
    "# 1. Given an array, check if it contains any duplicates or not.\n",
    "\n",
    "arr = [1, 2, 4, 2, 5, 9]\n",
    "\n",
    "Output = True"
   ]
  },
  {
   "cell_type": "code",
   "execution_count": 2,
   "id": "539abfb8-7a52-4b06-b65b-f9ceb21debfd",
   "metadata": {},
   "outputs": [],
   "source": [
    "arr = [1, 2, 4, 3, 5, 9]"
   ]
  },
  {
   "cell_type": "markdown",
   "id": "54868f40-a809-4a4d-a5b2-14d444a74c18",
   "metadata": {},
   "source": [
    "1. Using Dictionaries:\n",
    "----------------------"
   ]
  },
  {
   "cell_type": "code",
   "execution_count": 19,
   "id": "1ba3b99c-0886-4b61-927d-888c0eaf3bc5",
   "metadata": {},
   "outputs": [
    {
     "name": "stdout",
     "output_type": "stream",
     "text": [
      "False\n"
     ]
    }
   ],
   "source": [
    "def contains_duplicates(arr):\n",
    "    \n",
    "    \n",
    "    element = {} # An extra space to store the data\n",
    "    \n",
    "    n = len(arr)\n",
    "    \n",
    "    for i in range(n): # \n",
    "        if arr[i] in element:\n",
    "            return True\n",
    "        else:\n",
    "            element[arr[i]] = 1\n",
    "    return False\n",
    "\n",
    "print(duplicates(arr))"
   ]
  },
  {
   "cell_type": "markdown",
   "id": "8e2be0d1-f635-4517-8330-971fc396c892",
   "metadata": {},
   "source": [
    "Time Complexity: O(n)\n",
    "---------------------\n",
    "The time complexity is O(n) because we need to iterate through the entire array once.\n",
    "The dictionary (or hash table) operations (adding and checking for key existence) are typically O(1) on average.\n",
    "\n",
    "Best Case: Omega O(n) --> Meaning finding the duplicate element in the second position itself\n",
    "\n",
    "Average Case: Theta O(n) --> Meaning average case would be finding the element in 3rd or 4th or 5th or so on positions which would result in O(n) itself.\n",
    "\n",
    "Worst Case: Big O(n) --> Meaning where all the elements are unique in the list or the last element in the list is dupicate.\n",
    "\n",
    "====================================================================\n",
    "\n",
    "Space Complexity: O(n)\n",
    "----------------------\n",
    "The space complexity is O(n) because you need to create a dictionary to store the count of each element in the array, and in worst case, all elements are unique.\n",
    "\n",
    "Best Case: Omega O(n) --> Meaning, we need to create a dictionary to store the count of each unique element in the array.\n",
    "\n",
    "Average Case: Theta O(n) --> Meaning, we still need to create a dictionary to store the count of each unique element in the array.\n",
    "\n",
    "Worst Case: Big O(n) --> Meaning, we need to iterate through the array and store all the elements in the array. If we have all the elements in the array is unique, as we need to store the count of each element.\n"
   ]
  },
  {
   "cell_type": "markdown",
   "id": "924ba98f-2160-40c4-b638-1d15930d97d7",
   "metadata": {},
   "source": [
    "2. Using a Set:\n",
    "---------------"
   ]
  },
  {
   "cell_type": "code",
   "execution_count": 21,
   "id": "4adb4c2b-4293-4dfd-8736-11fce0d5be76",
   "metadata": {},
   "outputs": [
    {
     "name": "stdout",
     "output_type": "stream",
     "text": [
      "False\n"
     ]
    }
   ],
   "source": [
    "def contains_duplicates(arr):\n",
    "    \n",
    "    element_seen = set() # auxilary space\n",
    "    \n",
    "    for ele in arr: # iterating elements through out the array\n",
    "        if ele in element_seen:\n",
    "            return True\n",
    "        element_seen.add(ele)\n",
    "    return False\n",
    "\n",
    "print(contains_duplicates(arr))"
   ]
  },
  {
   "cell_type": "markdown",
   "id": "b7fe9066-2b71-45da-90c2-360178d20544",
   "metadata": {},
   "source": [
    "Time Complexity: O(n)\n",
    "---------------------\n",
    "The time complexity is O(n) because you need to iterate through the entire array once, and the operations on a set (adding and checking for membership) are typically O(1) on average.\n",
    "\n",
    "Best Case: Omega O(n) --> Even though all the elements are unique, we still need to iterate through the entire array once to determine that no duplicates exist.\n",
    "\n",
    "Average Case: Theta O(n) --> The average-case time complexity remain O(n) because, on average, set operations (adding and checking for membership) are O(1), regardless of the order of the elements in the arry.\n",
    "\n",
    "Worst Case: Big O(n) --> Because we need to iterate through the entire array once.\n",
    "\n",
    "=====================================================================\n",
    "\n",
    "Space Complexity: O(n)\n",
    "----------------------\n",
    "The space complexity is O(n) because we need to create a set to store the unique elements in the array, and in the worst case, all elements of the array are unique.\n",
    "\n",
    "Best Case: Omega O(n) --> The space complexity is also O(n) because we need to create a set to store the unique elements in the array.\n",
    "\n",
    "Average Case: Theta O(n) --> The space complexity is also O(n) because we still need to create a set to store the unique elements in the array.\n",
    "\n",
    "Worst Case: Big O(n) --> The space complexity is O(n) because we need to create a set to store the unique elements in the array, and in the worst case, all elements of the array are unique.\n"
   ]
  },
  {
   "cell_type": "markdown",
   "id": "4e89f74c-b47c-444e-91f0-7689a3bb7bd5",
   "metadata": {},
   "source": [
    "3. Using Sorting:\n",
    "------------------"
   ]
  },
  {
   "cell_type": "code",
   "execution_count": 4,
   "id": "c59ef364-b2ff-4d08-9538-3244056128ab",
   "metadata": {},
   "outputs": [
    {
     "name": "stdout",
     "output_type": "stream",
     "text": [
      "False\n"
     ]
    }
   ],
   "source": [
    "def contains_duplicates(arr):\n",
    "    \n",
    "    arr.sort() # sort the array first\n",
    "    \n",
    "    for i in range(1, len(arr)):\n",
    "        if arr[i] == arr[i-1]: # check if adjacent elements are equal. if equal, it has duplicates.\n",
    "            return True\n",
    "    return False\n",
    "\n",
    "print(contains_duplicates(arr))"
   ]
  },
  {
   "cell_type": "markdown",
   "id": "11aacbf8-c47a-4f1d-bdce-57b06d0bfcee",
   "metadata": {},
   "source": [
    "Time Complexity: O(n log n)\n",
    "---------------------------\n",
    "The time complexity is dominated by sorting operation, which typically has a time complexity of O(n log n) using effecient sorting algorithms like quicksort or mergesort. After sorting, we iterate through the array once, which is O(n).\n",
    "\n",
    "Best Case: Omega O(n log n) --> In the best case, where there are no duplicates, we still need to perform the sorting operation, which typically has a time complexity of O(n log n) using efficient sorting algorithms (quicksort or mergesort).\n",
    "\n",
    "Averga Case: Theta O(n log n) --> The average-case time complexity of sorting an array using efficient sorting algorithms (e.g., quicksort or mergesort) is O(n log n) on average.\n",
    "\n",
    "Worst Case: Big O(n log n) --> Typically the sorting time complexity is being a dominant, so when used effecient sorting algorithms like quick or merge sort, the time complexity is still O(n log n).\n",
    "\n",
    "====================================================================\n",
    "\n",
    "Space Complexity: O(1)\n",
    "----------------------\n",
    "The space complexity is constant because we are modifying the input array in place and not using additional data structures.\n",
    "\n",
    "Best Case: Omega O(1) --> The space complexity remains constant because we're modifying the input array in place.\n",
    "\n",
    "Average Case: Theta O(1) --> The space complexity remains constant because we're modifying the input array in place.\n",
    "\n",
    "Worst Case: Big O(1) --> The space complexity remains constant because we're modifying the input array in place."
   ]
  },
  {
   "cell_type": "markdown",
   "id": "e883ffc7-bc2f-41bc-bdd0-efbca416d796",
   "metadata": {},
   "source": [
    "--------------------------------------------------------------------"
   ]
  },
  {
   "cell_type": "markdown",
   "id": "3ca68339-5851-440b-8945-fe5103cc840b",
   "metadata": {
    "jp-MarkdownHeadingCollapsed": true,
    "tags": []
   },
   "source": [
    "# 2. Given an array and an integer k, rotate the array to the right by k steps.\n",
    "\n",
    "arr = [1, 2, 3, 4, 5, 6, 7] k = 3\n",
    "\n",
    "Output = [5, 6, 7, 1, 2, 3, 4]\n"
   ]
  },
  {
   "cell_type": "markdown",
   "id": "dff95615-4c06-46ee-a570-5f89be3c0179",
   "metadata": {},
   "source": [
    "Input: Array[] = [1, 2, 3, 4, 5], k = 2\n",
    "\n",
    "After 1st Rotation: [5, 1, 2, 3, 4]\n",
    "\n",
    "After 2nd Rotation: [4, 5, 1, 2, 3]\n",
    "\n",
    "Output: Array[] = [4, 5, 1, 2, 3]\n"
   ]
  },
  {
   "cell_type": "markdown",
   "id": "64ed85fa-7ed3-4e88-a1be-8cae96ee7132",
   "metadata": {},
   "source": [
    "Algorithm:\n",
    "------------\n",
    "\n",
    "1. Reverse the entire Array\n",
    "2. Reverse the first k elements\n",
    "3. Reverse the remaining (n - k) elements, where n is the length of the array.\n"
   ]
  },
  {
   "cell_type": "code",
   "execution_count": 31,
   "id": "be0f0779-b543-4d40-8d08-358aaf098c49",
   "metadata": {},
   "outputs": [],
   "source": [
    "array = [1, 2, 3, 4, 5, 6, 7, 8, 9, 0]\n",
    "k = 3\n",
    "\n",
    "\n",
    "# output: []\n",
    "\n",
    "# Step 1: Reverse entire Array: [0, 9, 8, 7, 6, 5, 4, 3, 2, 1]\n",
    "\n",
    "# Step 2: Reverse the first k elements: [8, 9, 0, 7, 6, 5, 4, 3, 2, 1]\n",
    "\n",
    "# Step 3: Reverse the remaining (n - k) elements: [8, 9, 0, 1, 2, 3, 4, 5, 6, 7]\n"
   ]
  },
  {
   "cell_type": "code",
   "execution_count": 9,
   "id": "2494b8c1-4cb4-42a5-bb21-a82b1984e6e2",
   "metadata": {},
   "outputs": [
    {
     "name": "stdout",
     "output_type": "stream",
     "text": [
      "[8, 9, 0, 1, 2, 3, 4, 5, 6, 7]\n"
     ]
    }
   ],
   "source": [
    "def reverse_array(arr, start, end):\n",
    "    while start < end:\n",
    "        arr[start], arr[end] = arr[end], arr[start]\n",
    "        start += 1\n",
    "        end -= 1\n",
    "        \n",
    "        \n",
    "def rotate_by_k_array_right(arr, k):\n",
    "    \n",
    "    n = len(arr)\n",
    "    \n",
    "    # to handle the cases where k is greater than the array length\n",
    "    k = k % n # Ex: if n = 10, k = 12, then ultimately we need to rotate only 2 shifts\n",
    "    \n",
    "    # step 1: Reverse the entire array\n",
    "    reverse_array(arr, 0, n-1)\n",
    "    \n",
    "    # step 2: Reverse the first k elements\n",
    "    reverse_array(arr, 0, k-1)\n",
    "    \n",
    "    # step 3: Reverse the remaining (n-k) elements\n",
    "    reverse_array(arr, k, n-1)\n",
    "    \n",
    "\n",
    "    \n",
    "rotate_by_k_array_right(array, k)\n",
    "\n",
    "print(array)\n",
    "    "
   ]
  },
  {
   "cell_type": "markdown",
   "id": "f3c4927e-84d3-4016-ab2e-f21e2789fdc6",
   "metadata": {},
   "source": [
    "Time Complexity: O(n)\n",
    "---------------------\n",
    "\n",
    "- Best Case: O(n)\n",
    "- Average Case: O(n)\n",
    "- Worst Case: O(n)\n",
    "\n",
    "The best, average, and worst-case scenarios, the time complexity remains O(n). This is because the algorithm involves three reverse operations, each of which takes O(n) time in the worst case. Resulting in total time complexity of O(n).\n",
    "\n",
    "====================================================================\n",
    "\n",
    "Space Complexity: O(1)\n",
    "----------------------\n",
    "\n",
    "- Best Case: O(1)\n",
    "- Average Case: O(1)\n",
    "- Worst Case: O(1)\n",
    "\n",
    "The space complexity is constant O(1) because we're performing the rotation in-place, and you're not using any additional data structures that scale with the input size.\n",
    "\n",
    "The best, average, and worst-case space complexities are all O(1) because they do not depend on the size of the input array. The algorithm only requires a constant amount of additional space to store a few variables and perform the swaps."
   ]
  },
  {
   "cell_type": "markdown",
   "id": "a6348797-668b-4567-8835-a0456ae88211",
   "metadata": {},
   "source": [
    "--------------------------------------------------------------------"
   ]
  },
  {
   "cell_type": "markdown",
   "id": "3f10426a-6813-40bf-b2f5-223ab12fa61a",
   "metadata": {
    "jp-MarkdownHeadingCollapsed": true,
    "tags": []
   },
   "source": [
    "# 3. Reverse the given array in-place, means without using any extra data structure.\n",
    "\n",
    "arr = [2, 4, 5, 7, 9, 12]\n",
    "\n",
    "Output = [12, 9, 7, 5, 4, 2]\n",
    "\n",
    "\n",
    "\n"
   ]
  },
  {
   "cell_type": "markdown",
   "id": "798561fa-c627-40c8-8381-e7560114e806",
   "metadata": {},
   "source": [
    "Algorithm:\n",
    "----------\n",
    "To reverse an array in-place, we can use a simple algorithm that swaps the elements from the beginning and end of the array progressively until they meet in the middle.\n"
   ]
  },
  {
   "cell_type": "code",
   "execution_count": 10,
   "id": "ab3f4b85-6670-43d9-935e-4a08fca329bd",
   "metadata": {},
   "outputs": [],
   "source": [
    "array = [2, 4, 5, 7, 9, 12]"
   ]
  },
  {
   "cell_type": "code",
   "execution_count": 11,
   "id": "cd0d699b-2d53-42d1-8aed-c7342fcc407b",
   "metadata": {},
   "outputs": [
    {
     "name": "stdout",
     "output_type": "stream",
     "text": [
      "[12, 9, 7, 5, 4, 2]\n"
     ]
    }
   ],
   "source": [
    "def reverse_array_in_place(arr):\n",
    "    \n",
    "    start = 0\n",
    "    end = len(arr) -1\n",
    "    \n",
    "    while start < end:\n",
    "        arr[start], arr[end] = arr[end], arr[start]\n",
    "        start += 1\n",
    "        end -= 1\n",
    "        \n",
    "reverse_array_in_place(array)\n",
    "print(array)"
   ]
  },
  {
   "cell_type": "markdown",
   "id": "02fcce68-b857-41cb-bff5-25ca01f51c3c",
   "metadata": {},
   "source": [
    "Time Complexity: O(n)\n",
    "---------------------\n",
    "The time complexity is O(n) because the loop runs through half of the array's length, performing a constant-time swap operation for each element.\n",
    "\n",
    "Best Case: Omega(n) --> This represents the lower bound of the algorithm's performance. In the worst case, the algorithm still requires linear time, which is Omega(n).\n",
    "\n",
    "Average Case: Theta(n) --> This represents both upper and lower bounds of the algorithm's performance. In the best and worst cases, the algorithm still requires linear time, which is Theta(n).\n",
    "\n",
    "Worst Case: Big O(n) --> The time complexity is O(n) because the loop runs through half of the array's length, performing a constant-time swap operation for each element.\n",
    "\n",
    "====================================================================\n",
    "\n",
    "Space Complexity: O(1)\n",
    "----------------------\n",
    "The space complexity is O(1) because the algorithm operates in-place, and the amount of additional memory it uses does not depend on the input size.\n",
    "\n",
    "Best Case: Omega(1) --> The space complexity is Ω(1) because this notation represents the lower bound of space usage. The algorithm always uses a constant amount of additional memory.\n",
    "\n",
    "Average Case: Theta(1) --> The space complexity is Θ(1) because it represents both the upper and lower bounds of the algorithm's space usage. The algorithm operates in-place and uses a constant amount of additional memory.\n",
    "\n",
    "Worst Case: Big O(1) --> The space complexity is O(1) because the algorithm operates in-place, and the amount of additional memory it uses does not depend on the input size.\n",
    "\n",
    "\n",
    "Overall, the timecomplexity of reversing an array in-place is linear (O(n)) in all cases, and the space complexity is constant (O(1)) in all cases as well. This algorithm is very efficient and suitable for reversing arrays of various sizes."
   ]
  },
  {
   "cell_type": "markdown",
   "id": "d8e20617-6de1-4b00-a669-ac30016dc2e0",
   "metadata": {},
   "source": [
    "---------------------------------------------------------------------"
   ]
  },
  {
   "cell_type": "markdown",
   "id": "46824baf-70d4-40ee-b8ed-8b5ff796fcb2",
   "metadata": {
    "jp-MarkdownHeadingCollapsed": true,
    "tags": []
   },
   "source": [
    "# 4. Given an array of integers, find the maximum element in an array\n",
    "\n",
    "arr = [10, 5, 20, 8, 15]\n",
    "\n",
    "Output = 20\n"
   ]
  },
  {
   "cell_type": "markdown",
   "id": "0bf1f802-307f-4c5e-8a5b-fca718ac7897",
   "metadata": {},
   "source": [
    "Method 1: Using Linear Search (Iterative approach):\n",
    "---------------------------------------------------"
   ]
  },
  {
   "cell_type": "code",
   "execution_count": 13,
   "id": "a63d6de4-da87-46e1-9b0b-3f0f372ead3b",
   "metadata": {},
   "outputs": [],
   "source": [
    "array = [10, 5, 20, 8, 15]"
   ]
  },
  {
   "cell_type": "code",
   "execution_count": 14,
   "id": "2705fec1-9dd0-42b0-b487-e3bf2d546af9",
   "metadata": {},
   "outputs": [
    {
     "name": "stdout",
     "output_type": "stream",
     "text": [
      "20\n"
     ]
    }
   ],
   "source": [
    "def find_max(arr):\n",
    "    max_element = arr[0]\n",
    "    \n",
    "    for element in arr:\n",
    "        if element > max_element:\n",
    "            max_element = element\n",
    "    \n",
    "    return max_element\n",
    "\n",
    "print(find_max(array))"
   ]
  },
  {
   "cell_type": "markdown",
   "id": "fc25e7e3-107b-4450-bfea-ff7e9a581795",
   "metadata": {},
   "source": [
    "Time Complexity:\n",
    "----------------\n",
    "The time complexity is O(n) linear, because it needs to iterate through an entire array.\n",
    "\n",
    "Best Case: Omega(1) --> Meaning there is only one element in the array. And that element is the maximum element by default.\n",
    "\n",
    "Average Case: Theta(n) --> Meaning even though that we need to iterate through the entire array.\n",
    "\n",
    "Worst Case: Big O(n) --> Meaning, we need to iterate through the entire array once to find the maximum element.\n",
    "\n",
    "====================================================================\n",
    "\n",
    "Space Complexity:\n",
    "-----------------\n",
    "The space complexity is constant O(1) because no additional data structure is used. \n",
    "\n",
    "Best Case: Omega(1)\n",
    "Average case: Theta(1)\n",
    "Worst case: Big O(1)\n"
   ]
  },
  {
   "cell_type": "markdown",
   "id": "85b75172-c1e9-4ecc-a385-4c8fe37ecf01",
   "metadata": {},
   "source": [
    "Method 2: Using inbuilt `max` function:\n",
    "---------------------------------------"
   ]
  },
  {
   "cell_type": "code",
   "execution_count": 15,
   "id": "6c272411-6f6b-4c9c-b3ad-39a9191c5f3b",
   "metadata": {},
   "outputs": [
    {
     "name": "stdout",
     "output_type": "stream",
     "text": [
      "20\n"
     ]
    }
   ],
   "source": [
    "def find_max(arr):\n",
    "    return max(arr)\n",
    "\n",
    "print(find_max(array))"
   ]
  },
  {
   "cell_type": "markdown",
   "id": "1fe2a394-d16b-4c70-9cd4-c6099528962b",
   "metadata": {},
   "source": [
    "Time Complexity:\n",
    "-----------------\n",
    "This function has the time complexity of O(n) because it iterates through the array to determine the maximum value.\n",
    "\n",
    "Best Case: Omega(1) --> Meaning there is only one element in the array. And that element is the maximum element by default.\n",
    "\n",
    "Average Case: Theta(n) --> Meaning even though that we need to iterate through the entire array.\n",
    "\n",
    "Worst Case: Big O(n) --> This function still has a time complexity of O(n) because it iterates through the array to determine the maximum value.\n",
    "\n",
    "====================================================================\n",
    "\n",
    "Space Complexity:\n",
    "-----------------\n",
    "The space complexity is constant O(1) because no additional data structure is used. \n",
    "\n",
    "Best Case: Omega(1)\n",
    "Average case: Theta(1)\n",
    "Worst case: Big O(1)\n"
   ]
  },
  {
   "cell_type": "markdown",
   "id": "759d8447-4834-4447-9821-8d60fac3fcba",
   "metadata": {},
   "source": [
    "Method 3: Divide and Conquer (Recursive)\n",
    "----------------------------------------"
   ]
  },
  {
   "cell_type": "code",
   "execution_count": 16,
   "id": "443bc389-1aa4-456e-8491-afbbb4e5bb79",
   "metadata": {},
   "outputs": [
    {
     "name": "stdout",
     "output_type": "stream",
     "text": [
      "20\n"
     ]
    }
   ],
   "source": [
    "def find_max_recursive(arr, left, right):\n",
    "    if left == right:\n",
    "        return arr[left]\n",
    "    \n",
    "    mid = (left + right) // 2\n",
    "    \n",
    "    max1 = find_max_recursive(arr, left, mid)\n",
    "    \n",
    "    max2 = find_max_recursive(arr, mid + 1, right)\n",
    "    \n",
    "    return max(max1, max2)\n",
    "\n",
    "\n",
    "print(find_max_recursive(array, 0, len(array) - 1))\n",
    "    "
   ]
  },
  {
   "cell_type": "markdown",
   "id": "852b30ed-fe39-4d13-a53f-f8323ec8c85f",
   "metadata": {},
   "source": [
    "Time Complexity:\n",
    "----------------\n",
    "A divide and conquer approach can also find the maximum element in the array. However this method has a time complexity of O(n) because it still has to iterate over an entire array. \n",
    "\n",
    "Best Case: Omega(1) --> Meaning there is only one element in the array. And that element is the maximum element by default.\n",
    "\n",
    "Average Case: Theta(n) --> Meaning even though that we need to iterate through the entire array.\n",
    "\n",
    "Worst Case: Big O(n) --> Meaning, when we need to iterate throughout the array to find the maximum element.\n",
    "\n",
    "====================================================================\n",
    "\n",
    "Space Complexity:\n",
    "-----------------\n",
    "It has a space complexity of O(log n) due to the rescursion stack. \n"
   ]
  },
  {
   "cell_type": "markdown",
   "id": "f01f1c57-4369-4d1a-ba0f-b7362d6f794a",
   "metadata": {},
   "source": [
    "The most straightforward method is the linear search, which has a time complexity of O(n) and a space complexity of O(1). \n",
    "The other methods have the same time complexity but introduce additional overhead, making them less efficient for this specific task."
   ]
  },
  {
   "cell_type": "markdown",
   "id": "06abe6d8-badb-49f8-83e6-683a0905906b",
   "metadata": {},
   "source": [
    "---------------------------------------------------------------------"
   ]
  },
  {
   "cell_type": "markdown",
   "id": "81acc510-ce45-43a6-9354-881864d58939",
   "metadata": {
    "jp-MarkdownHeadingCollapsed": true,
    "tags": []
   },
   "source": [
    "# 5. Given a sorted array, remove the duplicate element without using any extra data structure.\n",
    "\n",
    "arr = [1, 1, 2, 2, 2, 3, 3, 4, 4, 4, 5, 5]\n",
    "\n",
    "Output = [1, 2, 3, 4, 5]"
   ]
  },
  {
   "cell_type": "markdown",
   "id": "271ae188-504e-4f8f-a234-bc32775e57d8",
   "metadata": {},
   "source": [
    "To remove duplicates from a sorted array without using extra data structures, we can use two common approaches:\n",
    "\n",
    "Method 1: Two Pointers:\n",
    "-----------------------\n",
    "In this approach, we use two pointers, one (i) for iterating through the array, and the other (unique_count) for keeping track of the position where unique elements should be placed. When we encounter a unique element, we copy it to the unique_count position. At the end, we return a subarray of unique elements."
   ]
  },
  {
   "cell_type": "code",
   "execution_count": 17,
   "id": "3930dac7-ad52-4b27-ad08-068294b3b466",
   "metadata": {},
   "outputs": [],
   "source": [
    "array = [1, 1, 2, 2, 2, 3, 3, 4, 4, 4, 5, 5]"
   ]
  },
  {
   "cell_type": "code",
   "execution_count": 18,
   "id": "723e2b56-599b-408c-8c1d-b9b69a9e17b3",
   "metadata": {},
   "outputs": [
    {
     "name": "stdout",
     "output_type": "stream",
     "text": [
      "[1, 2, 3, 4, 5]\n"
     ]
    }
   ],
   "source": [
    "def remove_duplicates(arr):\n",
    "    \n",
    "    if not arr:\n",
    "        return arr\n",
    "    \n",
    "    n = len(arr)\n",
    "    \n",
    "    unique_count = 1\n",
    "    \n",
    "    for i in range(1, n):\n",
    "        if arr[i] != arr[i - 1]:\n",
    "            arr[unique_count] = arr[i]\n",
    "            unique_count += 1\n",
    "            \n",
    "    return arr[:unique_count]\n",
    "\n",
    "\n",
    "print(remove_duplicates(array))"
   ]
  },
  {
   "cell_type": "markdown",
   "id": "20a0c130-3f61-42a1-a458-18019629ef32",
   "metadata": {},
   "source": [
    "Time Complexity:\n",
    "----------------\n",
    "The time complexity is O(n) because we need to iterate through the entire sorted array once. \n",
    "\n",
    "Best Case: Omega(n) --> Even though there are no duplicate elements inside the array we still need to iterate through out the list.\n",
    "\n",
    "Average Case: Theta(n) --> The average case is based on the assumption that the array may contain some duplicates. The number of comparisons and assignments depends on the number and distribution of duplicates.\n",
    "\n",
    "Worst Case: Big O(n) --> The worst case occurs when the array contains no unique elements, and each element is a duplicate. In this case, we need to iterate through out the array anyways.\n",
    "\n",
    "====================================================================\n",
    "\n",
    "Space Complexity:\n",
    "-----------------\n",
    "The space complexity for this approach is constant because they operate in-place without using additional data structures with the input size.\n",
    "\n",
    "Best Case: Omega(1)\n",
    "Average Case: Theta(1)\n",
    "Worst Case: Big O(1)"
   ]
  },
  {
   "cell_type": "markdown",
   "id": "116769e7-5b40-4101-a1ec-d50ca1c68553",
   "metadata": {},
   "source": [
    "Method 2: Linear Iteration\n",
    "---------------------------\n",
    "\n",
    "In this approach, we iterate through the array linearly and keep track of the last unique element encountered. When we find a new unique element, we overwrite the next position with it."
   ]
  },
  {
   "cell_type": "code",
   "execution_count": 26,
   "id": "1900c349-069c-4f05-b3d8-3346b20a9825",
   "metadata": {},
   "outputs": [
    {
     "name": "stdout",
     "output_type": "stream",
     "text": [
      "[1, 2, 3, 4, 5]\n"
     ]
    }
   ],
   "source": [
    "array = [1, 1, 2, 2, 2, 3, 3, 4, 4, 4, 5, 5]\n",
    "\n",
    "def remove_duplicates(arr):\n",
    "    if not arr:\n",
    "        return arr\n",
    "\n",
    "    n = len(arr)\n",
    "    unique_count = 0\n",
    "\n",
    "    for i in range(n):\n",
    "        if i == 0 or arr[i] != arr[i - 1]:\n",
    "            arr[unique_count] = arr[i]\n",
    "            unique_count += 1\n",
    "\n",
    "    return arr[:unique_count]\n",
    "\n",
    "\n",
    "print(remove_duplicates(array))"
   ]
  },
  {
   "cell_type": "markdown",
   "id": "ac4f64f7-1c04-4b09-b305-0f11b321f45a",
   "metadata": {},
   "source": [
    "Time Complexity:\n",
    "----------------\n",
    "The time complexity is O(n) because we need to iterate through the entire sorted array once. \n",
    "\n",
    "Best Case: Omega(n) --> Even though there are no duplicate elements inside the array we still need to iterate through out the list.\n",
    "\n",
    "Average Case: Theta(n) --> The average case is based on the assumption that the array may contain some duplicates. The number of comparisons and assignments depends on the number and distribution of duplicates.\n",
    "\n",
    "Worst Case: Big O(n) --> The worst case occurs when the array contains no unique elements, and each element is a duplicate. In this case, we need to iterate through out the array anyways.\n",
    "\n",
    "====================================================================\n",
    "\n",
    "Space Complexity:\n",
    "-----------------\n",
    "The space complexity for this approach is constant because they operate in-place without using additional data structures with the input size.\n",
    "\n",
    "Best Case: Omega(1)\n",
    "Average Case: Theta(1)\n",
    "Worst Case: Big O(1)"
   ]
  },
  {
   "cell_type": "markdown",
   "id": "9a399788-3528-4759-bdcd-c9e55bf0555d",
   "metadata": {},
   "source": [
    "In summary, the best, average, and worst-case time complexities for both the Two Pointers and Linear Iteration approaches are the same (O(n)) because they both require examining all elements in the array in the worst case. These approaches are highly efficient and maintain their linearity in various scenarios, making them suitable for removing duplicates from a sorted array."
   ]
  },
  {
   "cell_type": "code",
   "execution_count": null,
   "id": "6e4db21c-1ee5-44ee-ad1f-31352c00696f",
   "metadata": {},
   "outputs": [],
   "source": []
  }
 ],
 "metadata": {
  "kernelspec": {
   "display_name": "Python 3 (ipykernel)",
   "language": "python",
   "name": "python3"
  },
  "language_info": {
   "codemirror_mode": {
    "name": "ipython",
    "version": 3
   },
   "file_extension": ".py",
   "mimetype": "text/x-python",
   "name": "python",
   "nbconvert_exporter": "python",
   "pygments_lexer": "ipython3",
   "version": "3.10.8"
  }
 },
 "nbformat": 4,
 "nbformat_minor": 5
}
