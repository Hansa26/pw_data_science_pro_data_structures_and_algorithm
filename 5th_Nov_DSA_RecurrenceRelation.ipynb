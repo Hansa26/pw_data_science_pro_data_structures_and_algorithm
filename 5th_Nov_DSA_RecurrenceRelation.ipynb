{
 "cells": [
  {
   "cell_type": "markdown",
   "id": "dc7a6fbc-62e0-4a9b-8a07-8aad5e7a0dea",
   "metadata": {},
   "source": [
    "## Recurrence Relation"
   ]
  },
  {
   "cell_type": "markdown",
   "id": "8b0476dd-7e2d-457b-9b60-79955ba484e0",
   "metadata": {},
   "source": [
    "1. Find the value of T(2) for the recurrence relation T(n) = 3T(n-1) + 12n, given that T(0) = 5"
   ]
  },
  {
   "cell_type": "markdown",
   "id": "1106732e-2f7f-40a9-8445-67d5caa4593e",
   "metadata": {},
   "source": [
    "Given: \n",
    "    T(n) = 3T(n-1) + 12n\n",
    "\n",
    "    Rewriting the given recurrence relation:\n",
    "        T(n) = { 5,            n = 0\n",
    "               { 3T(n-1) + 12n, n > 0 \n",
    "\n",
    "    As we know that T(0) = 5, lets try to substitute in the above given recurrence relation.\n",
    "        => n - 1 = 0\n",
    "        Therefore, n = 1\n",
    "\n",
    "        T(1) = 3 * T(1-1) + 12(1)\n",
    "             = 3 * T(0) + 12\n",
    "             = 3 * 5 + 12\n",
    "             = 27\n",
    "\n",
    "        We get T(1) = 27 -----------> equation (1)\n",
    "\n",
    "        Lets solve for T(2) by directly substituting the value of n = 2 in T(n) = 3T(n-1) + 12n\n",
    "\n",
    "        We get, \n",
    "            T(2) = 3 * T(2 - 1) + 12 * 2\n",
    "                 = 3 * T(1) + 24\n",
    "                 = 3 * 27 + 24 -----> We know that, T(1) = 27, from equation (1)\n",
    "                 = 105\n",
    "                             ------------\n",
    "    Therefore, the value of | T(2) = 105 |\n",
    "                         ------------"
   ]
  },
  {
   "cell_type": "code",
   "execution_count": null,
   "id": "f18e6afd-fad5-4bfe-9037-eff8c9477f44",
   "metadata": {},
   "outputs": [],
   "source": []
  },
  {
   "cell_type": "markdown",
   "id": "11b64839-e96b-4123-865c-4df54e61b2d2",
   "metadata": {},
   "source": [
    "2. Given a recurrence relation, solve it using the substitution method:\n"
   ]
  },
  {
   "cell_type": "markdown",
   "id": "bdcea3c1-69cd-494e-97b9-077312ca1246",
   "metadata": {
    "tags": []
   },
   "source": [
    "#### a. T(n) = T(n - 1) + c\n"
   ]
  },
  {
   "cell_type": "markdown",
   "id": "74521f4a-11b1-419d-9c66-f75570184fb5",
   "metadata": {},
   "source": [
    "Given, \n",
    "    T(n) = T(n - 1) + C\n",
    "    \n",
    "    Rewriting the given recurrence relation by adding the base case condition, we get:\n",
    "        \n",
    "    T(n) = { C ,           n <= 1\n",
    "           { T(n - 1) + C, n > 1\n",
    "            \n",
    "    Solving for T(n) = T(n - 1) + C -------> (1) by using substitution method,\n",
    "    \n",
    "    Replacing n by n-1 in equation (1), we get\n",
    "    T(n - 1) = T(n - 2) + C ----------> (2)\n",
    "    \n",
    "    Substituting (2) in (1)\n",
    "    T(n) = [T(n - 2) + C] + C\n",
    "    T(n) = T(n - 2) + 2C -----------> (3)\n",
    "            \n",
    "    Replacing n by n-2 in equation (1), we get\n",
    "    T(n - 2) = T(n - 3) + C ---------> (4)\n",
    "            \n",
    "    Substituting (4) in (3)\n",
    "    T(n) = [ T(n - 3) + C ] + 2C\n",
    "    T(n) = T(n - 3) + 3C\n",
    "    \n",
    "    .\n",
    "    .\n",
    "    .\n",
    "    \n",
    "    Continuing the substitution for k times, we get\n",
    "            \n",
    "    T(n) = T(n - k) + kC ------------> (5)\n",
    "    \n",
    "    We know that, when n <= 1, the time complexity is constant\n",
    "    => T(0) = 1 (Assuming, as 1 is a constant)\n",
    "            \n",
    "       making T(n - k) = T(0)\n",
    "       we get, n - k = 0\n",
    "       Therefore, n = k\n",
    "            \n",
    "    Substituting value of k in (5), we get\n",
    "    \n",
    "    T(n) = T(n - n) + nC\n",
    "         = T(0) + nC\n",
    "    T(n) = 1 + nC\n",
    "            \n",
    "    Writing the above T(n) in terms of Big O notation, \n",
    "            ---------------\n",
    "            | T(n) = O(n) | ==> A Linear Time Complexity\n",
    "            ---------------\n",
    "    Because, as the compuations for time complexity needs to be made on dominating terms and not constants.\n"
   ]
  },
  {
   "cell_type": "markdown",
   "id": "8ed484b9-c7e2-4ba4-9fa3-7177546e5135",
   "metadata": {
    "tags": []
   },
   "source": [
    "#### b. T(n) = 2T(n/2) + n"
   ]
  },
  {
   "cell_type": "markdown",
   "id": "3af4ebc7-c237-4ee0-ba85-bb1be10a3043",
   "metadata": {},
   "source": [
    "Given:\n",
    "    T(n) = 2T(n/2) + n\n",
    "    \n",
    "    Rewriting the given Recurrence Relation, by adding a base case condition,\n",
    "    T(n) = { C,           n <= 1\n",
    "           { 2T(n/2) + n, n > 1\n",
    "            \n",
    "    Solving for T(n) = 2 T(n/2) + n --------> (1) by substitution,\n",
    "    \n",
    "    Solving for T(n/2), \n",
    "    Replacing n by n/2 in (1), we get\n",
    "    T(n/2) = 2 T(n/2*2) + n/2\n",
    "    T(n/2) = 2 T(n/4) + n/2 -----------> (2)\n",
    "    \n",
    "    Substiuting (2) in (1), we get\n",
    "    T(n) = 2 [ 2 T(n/4) + n/2 ] + n\n",
    "    T(n) = 4 T(n/4) + 2n ----------> (3)\n",
    "    \n",
    "    Solving for T(n/4), \n",
    "    Replacing n by n/4 in (1), we get\n",
    "    T(n/4) = 2 T(n/4*2) + n/4\n",
    "    T(n/4) = 2 T(n/8) + n/4 ---------> (4)\n",
    "    \n",
    "    Substituting (4) in (3), we get\n",
    "    T(n) = 4 [ 2 T(n/8) + n/4 ] + 2n\n",
    "    T(n) = 8 T(n/8) + 3n ----------> (5)\n",
    "    \n",
    "    Solving for T(n/8),\n",
    "    Replacing n by n/8 in (1), we get\n",
    "    T(n/8) = 2 T(n/8*2) + n/8\n",
    "    T(n/8) = 2 T(n/16) + n/8 ---------> (6)\n",
    "    \n",
    "    Substituting (6) in (5), we get\n",
    "    T(n) = 8 [ 2 T(n/16) + n/8 ] + 3n\n",
    "    T(n) = 16 T(n/16) + 4n \n",
    "    \n",
    "    .\n",
    "    .\n",
    "    .\n",
    "    \n",
    "    Continuing the substitution for k times, we get\n",
    "    T(n) = 2^k T(n/2^k) + kn -----------> (7)\n",
    "    \n",
    "    We know that, when T(1) = constant, Assuming that constant to be 1\n",
    "    => n/2^k = 1\n",
    "    => n = 2^k \n",
    "       taking log2 on Both sides (log base 2)\n",
    "       log2 n = k log2 2\n",
    "       => k = log2 n\n",
    "       \n",
    "    Substituting the value of k in (7)\n",
    "    T(n) = 2^(log2 n) T(n/2^(log2 n)) + (log2 n)n\n",
    "         = n^(log2 2) T(n/n^(log2 2)) + n log2 n             [Because of logarithmic property]\n",
    "         = n T(1) + n log2 n                                [Because we know that T(1) = 1]\n",
    "         = n + n log2 n\n",
    "    \n",
    "    T(n) = n + n log2 n\n",
    "    \n",
    "    Writing the above T(n) in terms of Big O notation, \n",
    "            ----------------------\n",
    "            | T(n) = O(n log2 n) | ==> A Logarithmic Time Complexity\n",
    "            ---------------------\n",
    "    Because, as the compuations for time complexity needs to be made on dominating terms, clearly `n log n` is more dominating than `n`\n",
    "    "
   ]
  },
  {
   "cell_type": "markdown",
   "id": "e347f433-c32a-4204-8b39-7ff13f33a7a2",
   "metadata": {
    "tags": []
   },
   "source": [
    "#### c. T(n) = 2T(n/2) + C"
   ]
  },
  {
   "cell_type": "markdown",
   "id": "d007a20e-f400-4bb3-a7cd-309358b8ea7c",
   "metadata": {},
   "source": [
    "Given:\n",
    "    T(n) = 2T(n/2) + C\n",
    "    \n",
    "    Rewriting the given Recurrence Relation, by adding a base case condition,\n",
    "    T(n) = { C,           n <= 1\n",
    "           { 2T(n/2) + C, n > 1\n",
    "            \n",
    "    Solving for T(n) = 2 T(n/2) + C --------> (1) by substitution,\n",
    "    \n",
    "    Solving for T(n/2), \n",
    "    Replacing n by n/2 in (1), we get\n",
    "    T(n/2) = 2 T(n/2*2) + C\n",
    "    T(n/2) = 2 T(n/4) + C -----------> (2)\n",
    "    \n",
    "    Substiuting (2) in (1), we get\n",
    "    T(n) = 2 [ 2 T(n/4) + C ] + C\n",
    "    T(n) = 4 T(n/4) + 3C ----------> (3)\n",
    "    \n",
    "    Solving for T(n/4), \n",
    "    Replacing n by n/4 in (1), we get\n",
    "    T(n/4) = 2 T(n/4*2) + C\n",
    "    T(n/4) = 2 T(n/8) + C ---------> (4)\n",
    "    \n",
    "    Substituting (4) in (3), we get\n",
    "    T(n) = 4 [ 2 T(n/8) + n/4 ] + 3C\n",
    "    T(n) = 8 T(n/8) + 7C ----------> (5)\n",
    "    \n",
    "    Solving for T(n/8),\n",
    "    Replacing n by n/8 in (1), we get\n",
    "    T(n/8) = 2 T(n/8*2) + C\n",
    "    T(n/8) = 2 T(n/16) + C ---------> (6)\n",
    "    \n",
    "    Substituting (6) in (5), we get\n",
    "    T(n) = 8 [ 2 T(n/16) + C ] + 7C\n",
    "    T(n) = 16 T(n/16) + 15C\n",
    "    \n",
    "    .\n",
    "    .\n",
    "    .\n",
    "    \n",
    "    Continuing the substitution for k times, we get\n",
    "    T(n) = 2^k T(n/2^k) + (2^k - 1)C -----------> (7)\n",
    "    \n",
    "    We know that, when T(1) = constant, Assuming that constant to be 1\n",
    "    => n/2^k = 1\n",
    "    => n = 2^k \n",
    "       taking log2 on Both sides (log base 2)\n",
    "       log2 n = k log2 2\n",
    "       => k = log2 n\n",
    "       \n",
    "    Substituting the value of k in (7)\n",
    "    T(n) = 2^(log2 n) T(n/2^(log2 n)) + (2^(log2 n) - 1)C\n",
    "         = n^(log2 2) T(n/n^(log2 2)) + (n^(log2 2) - 1)C             [Because of logarithmic property]\n",
    "         = n T(1) + (n - 1)C                                         [Because we know that T(1) = 1]\n",
    "         = n + (n - 1)C\n",
    "    \n",
    "    T(n) = n + (n - 1)C\n",
    "    \n",
    "    Writing the above T(n) in terms of Big O notation, \n",
    "            ---------------\n",
    "            | T(n) = O(n) | ==> A Linear Time Complexity\n",
    "            ---------------\n",
    "    Because, as the compuations for time complexity needs to be made on dominating terms, clearly `n-1` and `n` are pretty much the same for Big O notation.\n",
    "    "
   ]
  },
  {
   "cell_type": "markdown",
   "id": "278cb8e1-77de-47de-9934-17c96103694a",
   "metadata": {
    "jp-MarkdownHeadingCollapsed": true,
    "tags": []
   },
   "source": [
    "#### d. T(n) = T(n/2) + C"
   ]
  },
  {
   "cell_type": "markdown",
   "id": "f774e601-3be7-4c13-9b21-233236b2ed14",
   "metadata": {},
   "source": [
    "Given:\n",
    "    T(n) = T(n/2) + C\n",
    "    \n",
    "    Rewriting the given Recurrence Relation, by adding a base case condition,\n",
    "    T(n) = { C,          n <= 1\n",
    "           { T(n/2) + C, n > 1\n",
    "            \n",
    "    Solving for T(n) = T(n/2) + C --------> (1) by substitution,\n",
    "    \n",
    "    Solving for T(n/2), \n",
    "    Replacing n by n/2 in (1), we get\n",
    "    T(n/2) = T(n/2*2) + C\n",
    "    T(n/2) = T(n/4) + C -----------> (2)\n",
    "    \n",
    "    Substiuting (2) in (1), we get\n",
    "    T(n) = [ T(n/4) + C ] + C\n",
    "    T(n) = T(n/4) + 2C ----------> (3)\n",
    "    \n",
    "    Solving for T(n/4), \n",
    "    Replacing n by n/4 in (1), we get\n",
    "    T(n/4) = T(n/4*2) + C\n",
    "    T(n/4) = T(n/8) + C ---------> (4)\n",
    "    \n",
    "    Substituting (4) in (3), we get\n",
    "    T(n) = [ T(n/8) + n/4 ] + 2C\n",
    "    T(n) = T(n/8) + 3C ----------> (5)\n",
    "    \n",
    "    Solving for T(n/8),\n",
    "    Replacing n by n/8 in (1), we get\n",
    "    T(n/8) = T(n/8*2) + C\n",
    "    T(n/8) = T(n/16) + C ---------> (6)\n",
    "    \n",
    "    Substituting (6) in (5), we get\n",
    "    T(n) = [ T(n/16) + C ] + 3C\n",
    "    T(n) = T(n/16) + 4C\n",
    "    \n",
    "    .\n",
    "    .\n",
    "    .\n",
    "    \n",
    "    Continuing the substitution for k times, we get\n",
    "    T(n) = T(n/2^k) + kC -----------> (7)\n",
    "    \n",
    "    We know that, when T(1) = constant, Assuming that constant to be 1\n",
    "    => n/2^k = 1\n",
    "    => n = 2^k \n",
    "       taking log2 on Both sides (log base 2)\n",
    "       log2 n = k log2 2\n",
    "       => k = log2 n\n",
    "       \n",
    "    Substituting the value of k in (7)\n",
    "    T(n) = T(n/2^(log2 n)) + (log2 n)C\n",
    "         = T(n/n^(log2 2)) + (log2 n)C             [Because of logarithmic property]\n",
    "         = T(1) + (log2 n)C                                         [Because we know that T(1) = 1]\n",
    "         = 1 + (log2 n)C\n",
    "    \n",
    "    T(n) = 1 + (log2 n)C\n",
    "    \n",
    "    Writing the above T(n) in terms of Big O notation, \n",
    "            ---------------\n",
    "            | T(n) = O(log2 n) | ==> A Logarithmic Time Complexity\n",
    "            ---------------\n",
    "    Because, as the compuations for time complexity needs to be made on dominating terms, clearly `log2 n` is more dominating than the constant.\n",
    "    "
   ]
  },
  {
   "cell_type": "code",
   "execution_count": null,
   "id": "f7ef4e16-d1f9-4961-b601-243a6eb24831",
   "metadata": {},
   "outputs": [],
   "source": []
  },
  {
   "cell_type": "markdown",
   "id": "d7b89f6c-0dd6-4549-a9eb-2534b393389e",
   "metadata": {},
   "source": [
    "3. Given a Recurrence Relation, solve it using the Recursive Tree approach"
   ]
  },
  {
   "cell_type": "markdown",
   "id": "1484aa54-2154-4788-ac97-d690f024d10b",
   "metadata": {},
   "source": [
    "#### a. T(n) = 2T(n - 1) + 1"
   ]
  },
  {
   "cell_type": "markdown",
   "id": "07e74fa1-7c76-4e3d-a022-82dc645c5069",
   "metadata": {},
   "source": [
    "Given: \n",
    "    T(n) = 2 T(n - 1) + 1\n",
    "    \n",
    "    Rewriting the recurrence relation by adding a base case condition,\n",
    "        T(n) = {C, n = 0\n",
    "               { 2 T(n - 1) + 1, n > 0\n",
    "               \n",
    "    Solving for T(n) = 2 T(n - 1) + 1 using Recursive Tree approach\n",
    "                                            \n",
    "    Refer the below image for the recursive tree approach:\n",
    "                                    "
   ]
  },
  {
   "cell_type": "code",
   "execution_count": null,
   "id": "30571af1-9717-4f6a-8e40-7b21e7ed64ce",
   "metadata": {},
   "outputs": [
    {
     "data": {
      "image/png": "[encoded data removed]",
      "text/plain": [
       "<IPython.core.display.Image object>"
      ]
     },
     "execution_count": 7,
     "metadata": {},
     "output_type": "execute_result"
    }
   ],
   "source": [
    "from IPython.display import Image\n",
    "Image(filename='RecurrenceTree 3a.png')"
   ]
  },
  {
   "cell_type": "markdown",
   "id": "ce45415c-5fb3-49ab-98f6-1f8a73b9bc0f",
   "metadata": {},
   "source": [
    "    Continuing the recursive tree approach till k times we get the complexity like below\n",
    "    \n",
    "           1 + 2 + 4 + 8 + 16 + ... \n",
    "    T(n) = 2^0 + 2^1 + 2^2 + 2^3 + 2^4 + ...            [It's a GP Series]\n",
    "    \n",
    "    The sum of GP series is given by,\n",
    "        a(r^(k+1) - 1)\n",
    "        --------------\n",
    "           (r - 1)\n",
    "           \n",
    "    Using the same formula, we get \n",
    "    T(n) = 2^(k+1) - 1 -------------> (1)\n",
    "    \n",
    "    Assuming n - k = 0\n",
    "    => n = k\n",
    "    \n",
    "    Substituting the value of k in (1), we get\n",
    "    T(n) = 2^(n+1) - 1\n",
    "    \n",
    "    Writing in terms of Big(O) time complexity we get, \n",
    "    \n",
    "    -----------------\n",
    "    | T(n) = O(2^n) |   ==> An exponential time complexity\n",
    "    -----------------\n",
    "    \n",
    "    Because we need to consider the dominating term while computing time complexity in terms of Big O."
   ]
  },
  {
   "cell_type": "markdown",
   "id": "4ca67871-4464-481b-8caf-eec3a8568d4f",
   "metadata": {},
   "source": [
    "#### b. T(n) = 2T(n/2) + n"
   ]
  },
  {
   "cell_type": "markdown",
   "id": "ba8f76b7-f999-428d-9425-0fa02997e14d",
   "metadata": {},
   "source": [
    "Given:\n",
    "    T(n) = 2 T(n/2) + n\n",
    "    \n",
    "    Rewriting the recurrence relation by adding base case condition,\n",
    "    \n",
    "        T(n) = { 1,            n = 0\n",
    "               { 2 T(n/2) + n, n > 0\n",
    "               \n",
    "    Solving for T(n) = 2 T(n/2) + n by using recursive tree approach, \n",
    "    \n",
    "    Refer the below image for the recursive tree approach:"
   ]
  },
  {
   "cell_type": "code",
   "execution_count": 8,
   "id": "8742ba95-bacd-49e5-ba03-5e6d6a9a4120",
   "metadata": {},
   "outputs": [
    {
     "data": {
      "image/png": "[encoded data removed]",
      "text/plain": [
       "<IPython.core.display.Image object>"
      ]
     },
     "execution_count": 8,
     "metadata": {},
     "output_type": "execute_result"
    }
   ],
   "source": [
    "from IPython.display import Image\n",
    "Image(filename='RecurrenceTree 3b.png')"
   ]
  },
  {
   "cell_type": "markdown",
   "id": "7f07a5d4-6f40-48af-83b1-e916161b0ca9",
   "metadata": {},
   "source": [
    "    Continuing the recursive tree approach till k times we get the complexity in terms of height of the recursive tree.\n",
    "    \n",
    "    We get a series based on the height or depth of the recursive tree. \n",
    "    The complexity to divide the task into sub task is height/ depth of the tree.\n",
    "    \n",
    "    When this continues till k times, we get kn time complexity.\n",
    "    \n",
    "    Basically k is a logarithmic time complexity, where k = log n\n",
    "    \n",
    "    Therefore, writing the relation in terms of Big O notation we get the time complexity as,\n",
    "    \n",
    "         ---------------------\n",
    "         | T(n) = O(n log n) |\n",
    "         ---------------------\n",
    "    \n",
    "    Because, let's consider an example where n = 16\n",
    "    \n",
    "    Level 0 --> n = 16 --> Time required to divide 16 into two is 1\n",
    "    Level 1 --> n = 8 --> Time required to divide 8 into two is 2\n",
    "    Level 2 --> n = 4 --> Time required to divide 4 into two is 3\n",
    "    Level 3 --> n = 2 --> Time required to divide 2 into two is 4\n",
    "    \n",
    "    Basically, it means the height of the tree, log2 16 = 4\n",
    "    \n",
    "    "
   ]
  },
  {
   "cell_type": "code",
   "execution_count": null,
   "id": "8e511c35-368a-43f8-b6c4-4602dc4e04ba",
   "metadata": {},
   "outputs": [],
   "source": []
  }
 ],
 "metadata": {
  "kernelspec": {
   "display_name": "Python 3 (ipykernel)",
   "language": "python",
   "name": "python3"
  },
  "language_info": {
   "codemirror_mode": {
    "name": "ipython",
    "version": 3
   },
   "file_extension": ".py",
   "mimetype": "text/x-python",
   "name": "python",
   "nbconvert_exporter": "python",
   "pygments_lexer": "ipython3",
   "version": "3.10.8"
  }
 },
 "nbformat": 4,
 "nbformat_minor": 5
}
