{
 "cells": [
  {
   "cell_type": "markdown",
   "id": "5008feae-1940-4a6b-be05-9df997afae57",
   "metadata": {},
   "source": [
    "# Sorting"
   ]
  },
  {
   "cell_type": "markdown",
   "id": "1d9fa140-a992-4a62-99ed-9ae0f7139d0f",
   "metadata": {
    "jp-MarkdownHeadingCollapsed": true,
    "tags": []
   },
   "source": [
    "### Problem 1. \n",
    "Given an array of n numbers, give an algorithm which gives the element appearing maximum number of times?\n"
   ]
  },
  {
   "cell_type": "code",
   "execution_count": 1,
   "id": "ceb85f14-fcd5-46e2-ab10-a0ac27c8af8a",
   "metadata": {},
   "outputs": [],
   "source": [
    "# We can use the concept of caching in order to get the count of maximum appeared element\n",
    "# Here, we would use a dictionary, which would act as caching\n",
    "# The time complexity would still be O(n), as it needs to iterate through out the entire list."
   ]
  },
  {
   "cell_type": "markdown",
   "id": "650fac06-e0bb-4692-b750-e6b9da2bae2d",
   "metadata": {},
   "source": [
    "#### Algorithm\n",
    "\n",
    "Step 1: Initialize a `dictionary` (or hash map) to store the frequency of each element in an array\n",
    "\n",
    "Step 2: Traverse through the array and update the frequency count in the dictionary\n",
    "\n",
    "Step 3: Track the element with the maximum frequency while traversing\n",
    "\n",
    "Step 4: Return the element with maximum frequency"
   ]
  },
  {
   "cell_type": "code",
   "execution_count": 2,
   "id": "905c4bb4-e91f-4305-a44c-79855f719dc7",
   "metadata": {},
   "outputs": [],
   "source": [
    "# Python Implementation"
   ]
  },
  {
   "cell_type": "code",
   "execution_count": 5,
   "id": "a9e55bd4-266f-428b-8f7d-5b33a54a11f0",
   "metadata": {},
   "outputs": [
    {
     "name": "stdout",
     "output_type": "stream",
     "text": [
      "Most frequent element: 3, with frequency of 4\n"
     ]
    }
   ],
   "source": [
    "# Method Definition\n",
    "def find_most_frequent_element_in_array(arr):\n",
    "    \n",
    "    # initialize an empty dictionary to store the frequency of each element\n",
    "    char_count = {}\n",
    "    \n",
    "    max_frequency = 0\n",
    "    \n",
    "    most_frequent_element = None\n",
    "    \n",
    "    # traverse through the array\n",
    "    for element in arr:\n",
    "        \n",
    "        # update the frequency count in the dictionary\n",
    "        if element in char_count:\n",
    "            char_count[element] += 1\n",
    "        else:\n",
    "            char_count[element] = 1\n",
    "            \n",
    "        # track the element with maximum frequency while traversing   \n",
    "        if char_count[element] > max_frequency:\n",
    "            max_frequency = char_count[element]\n",
    "            most_frequent_element = element\n",
    "            \n",
    "    return most_frequent_element, max_frequency\n",
    "\n",
    "\n",
    "# Driver code\n",
    "array_of_elements = [1, 2, 3, 4, 2, 2, 3, 3, 3, 5]\n",
    "print(f\"Most frequent element: {find_most_frequent_element_in_array(array_of_elements)[0]}, with frequency of {find_most_frequent_element_in_array(array_of_elements)[1]}\")\n",
    "        "
   ]
  },
  {
   "cell_type": "code",
   "execution_count": null,
   "id": "b7bbd45d-a69c-4d8d-999a-86edb80e8796",
   "metadata": {},
   "outputs": [],
   "source": []
  },
  {
   "cell_type": "markdown",
   "id": "0baa29c1-5186-4ff4-a682-a99de7f90d09",
   "metadata": {
    "jp-MarkdownHeadingCollapsed": true,
    "tags": []
   },
   "source": [
    "### Problem 2. \n",
    "We are given a list of n-1 integers and these integers are in the range of 1 to n . \n",
    "There are no duplicates in the list. One of the integers is missing in the list. \n",
    "Give an algorithm to find that element \n",
    "Ex: [1,2,4,6,3,7,8] 5 is the missing num.\n",
    "\n",
    "\n"
   ]
  },
  {
   "cell_type": "markdown",
   "id": "bcc2dd36-7b03-48f4-9d0f-cf3a4864a28b",
   "metadata": {},
   "source": [
    "#### Algorithm\n",
    "\n",
    "Step 1: Calculate the expected sum of all the elements from 1 to n using the formula (n * (n + 1)) / 2\n",
    "\n",
    "Step 2: calculate the sum of the given elements in the list\n",
    "\n",
    "Step 3: Subtract actual sum of given elements from the expected sum of elements"
   ]
  },
  {
   "cell_type": "code",
   "execution_count": 6,
   "id": "0a3928bc-6382-4c4c-a84d-ab05c9758f5f",
   "metadata": {},
   "outputs": [],
   "source": [
    "# Python Implementation"
   ]
  },
  {
   "cell_type": "code",
   "execution_count": 7,
   "id": "f7e49a70-4111-4af6-9dba-4d2fd0b036b1",
   "metadata": {},
   "outputs": [
    {
     "name": "stdout",
     "output_type": "stream",
     "text": [
      "The missing element is: 5\n"
     ]
    }
   ],
   "source": [
    "# Method Definition\n",
    "def find_missing_element(arr):\n",
    "    \n",
    "    # find the length of the expected elements in the list\n",
    "    n = len(arr) + 1\n",
    "    \n",
    "    # calculate the expected sum of elements\n",
    "    expected_sum = (n * (n + 1) // 2) # We are doing intger division because, range doesn't actully deal with float value\n",
    "    \n",
    "    # calculate the actual sum of elements\n",
    "    actual_sum = sum(arr) # here we are using inbuilt function, we can use loop as well to calculate\n",
    "    \n",
    "    missing_num = expected_sum - actual_sum\n",
    "    \n",
    "    return missing_num\n",
    "\n",
    "\n",
    "# Driver Code\n",
    "list_of_num = [1, 2, 4, 6, 3, 7, 8]\n",
    "print(f\"The missing element is: {find_missing_element(list_of_num)}\")\n",
    "\n"
   ]
  },
  {
   "cell_type": "code",
   "execution_count": 8,
   "id": "379cb155-153d-403c-9408-81d0ce56d005",
   "metadata": {},
   "outputs": [],
   "source": [
    "# The time complexity to calculate the expected sum = O(1), because it's a simple formula based\n",
    "# While the time complexity to calculate the actual sum = O(n), as it needs to iterate through the entire list\n",
    "# Therefore, the overall time complexity  = O(n)"
   ]
  },
  {
   "cell_type": "code",
   "execution_count": null,
   "id": "bbd2ffbf-7492-4318-8805-26b60de4b8f4",
   "metadata": {},
   "outputs": [],
   "source": []
  },
  {
   "cell_type": "markdown",
   "id": "0e83da6e-573c-44b4-accb-6246e141322a",
   "metadata": {
    "jp-MarkdownHeadingCollapsed": true,
    "tags": []
   },
   "source": [
    "### Problem 3:\n",
    "Given an array of n positive numbers. All numbers occurs even number of times except one number which\n",
    "occurs odd number of times. Find that number in O(n) time and O(1) space. Ex: [1,2,3,2,3,1,3]. 3 is repeats odd\n",
    "times.\n"
   ]
  },
  {
   "cell_type": "markdown",
   "id": "1527ae1a-b901-43a4-b8c3-c49dd2b36fb7",
   "metadata": {},
   "source": [
    "#### Algorithm:\n",
    "\n",
    "Step 1: Initialize a variable `result` to 0\n",
    "\n",
    "Step 2: Iterate through the array and perform XOR operation on each element and `result`\n",
    "\n",
    "Step 3: The final value of `result` will be the number occurred odd times\n"
   ]
  },
  {
   "cell_type": "code",
   "execution_count": 9,
   "id": "e2ff9581-20d8-4240-93b6-7b765e6ea94b",
   "metadata": {},
   "outputs": [],
   "source": [
    "## The reason to use XOR (exclusive OR) operation is because, it has the property that \n",
    "## XOR-ing a number with itself result in 0, and XOR-ing any number with 0 results in the number itself."
   ]
  },
  {
   "cell_type": "code",
   "execution_count": 10,
   "id": "ba05718b-9204-434a-a35f-37b44883d398",
   "metadata": {},
   "outputs": [],
   "source": [
    "# Python Implementation"
   ]
  },
  {
   "cell_type": "code",
   "execution_count": 15,
   "id": "80c8da4c-888c-449d-8a1f-104f6593bb88",
   "metadata": {},
   "outputs": [
    {
     "name": "stdout",
     "output_type": "stream",
     "text": [
      "Number occurring odd number of times: 4\n"
     ]
    }
   ],
   "source": [
    "# Method Definition\n",
    "def find_odd_occurrence(arr):\n",
    "    \n",
    "    # initialize result to 0\n",
    "    result = 0\n",
    "    \n",
    "    # iterate through the array and perform XOR operation on each element\n",
    "    for num in arr:\n",
    "        # print(f\"{num} -> {result}\")\n",
    "        result = result ^ num\n",
    "        # print(f\"{num} -> {result}\")\n",
    "        \n",
    "        \n",
    "    return result\n",
    "\n",
    "\n",
    "# Driver Code\n",
    "arr = [1, 2, 3, 2, 3, 1, 4]\n",
    "odd_occurrence_number = find_odd_occurrence(arr)\n",
    "print(\"Number occurring odd number of times:\", odd_occurrence_number)\n",
    "\n"
   ]
  },
  {
   "cell_type": "code",
   "execution_count": 16,
   "id": "ef5a6633-6623-4b3f-a0d7-538859901c78",
   "metadata": {},
   "outputs": [],
   "source": [
    "# The time complexity is O(n), as it needs to iterate through out the array and the space complexity = O(1), as only result is being used in the algorithm"
   ]
  },
  {
   "cell_type": "code",
   "execution_count": null,
   "id": "7418e440-7a1e-45c3-a0b5-98a6aea368ba",
   "metadata": {},
   "outputs": [],
   "source": []
  },
  {
   "cell_type": "markdown",
   "id": "1d24957e-2fb8-45fc-b954-94bd32fefdc4",
   "metadata": {
    "jp-MarkdownHeadingCollapsed": true,
    "tags": []
   },
   "source": [
    "### Problem 4:\n",
    "Given an array of n elements. Find two elements in the array such that their sum is equal to given\n",
    "element K."
   ]
  },
  {
   "cell_type": "markdown",
   "id": "d5b3e19f-b492-4399-99ca-51097d38d500",
   "metadata": {},
   "source": [
    "#### Algorithm:\n",
    "\n",
    "Step 1: Sort the array in ascending order.\n",
    "\n",
    "Step 2: Initialize two pointers, one at the beginning (`left`) and one at the end (`right`) of the sorted array.\n",
    "\n",
    "Step 3: Iterate until `left` is less than `right`.\n",
    "        \n",
    "        if arr[left] + arr[right] is equal to K, return the pair (arr[left], arr[right])\n",
    "        \n",
    "        if arr[left] + arr[right] is less than K, increment the left pointer by 1\n",
    "        \n",
    "        if arr[left] + arr[right] is greater than K, decrement the right pointer by 1\n",
    "        \n",
    "Step 4: If no such pair is found, return a message indicating that no pair with given sum found."
   ]
  },
  {
   "cell_type": "code",
   "execution_count": 17,
   "id": "8476ed03-77c0-4921-9537-88ecbc3bea48",
   "metadata": {},
   "outputs": [],
   "source": [
    "# Python Implementation"
   ]
  },
  {
   "cell_type": "code",
   "execution_count": 24,
   "id": "f9d80583-7f42-4e08-b0f0-84cb350fbe6c",
   "metadata": {},
   "outputs": [
    {
     "name": "stdout",
     "output_type": "stream",
     "text": [
      "Pair with sum 15 : (4, 11)\n"
     ]
    }
   ],
   "source": [
    "# Method definition\n",
    "def find_pair_of_sum(arr, k):\n",
    "    \n",
    "    # sort the given array -> Here we can use any of the sorting algorithm. I will use inbuilt sort function to sort the array.\n",
    "    arr.sort()  # this sorts the array in ascending order\n",
    "    \n",
    "    # initialize pointers\n",
    "    left = 0\n",
    "    \n",
    "    right = len(arr) - 1\n",
    "    \n",
    "    while left < right:\n",
    "        current_sum = arr[left] + arr[right]\n",
    "        \n",
    "        if current_sum == k:\n",
    "            \n",
    "            return arr[left], arr[right]\n",
    "        \n",
    "        else:\n",
    "            if current_sum < k:\n",
    "                \n",
    "                # Increment the left pointer by 1\n",
    "                left += 1\n",
    "                \n",
    "            else:\n",
    "                \n",
    "                # increment the right pointer by 1\n",
    "                right -= 1\n",
    "                \n",
    "    return \"No Pair Found!\"\n",
    "\n",
    "\n",
    "# Driver Code\n",
    "arr = [1, 4, 2, 7, 11, 15]\n",
    "k = 15\n",
    "\n",
    "result = find_pair_of_sum(arr, k)\n",
    "print(\"Pair with sum\", k, \":\", result)"
   ]
  },
  {
   "cell_type": "code",
   "execution_count": 25,
   "id": "7b2af589-0fde-4d7a-8dec-1876d6816d2f",
   "metadata": {},
   "outputs": [],
   "source": [
    "# The time complexity is O(n log n) due to sorting of the numbers, because O(n log n) is dominating O(n). with sapce complexity O(1)"
   ]
  },
  {
   "cell_type": "code",
   "execution_count": null,
   "id": "5e966e38-af65-44f1-92ae-68f2c391f5ca",
   "metadata": {},
   "outputs": [],
   "source": []
  },
  {
   "cell_type": "markdown",
   "id": "9583e9fc-0696-4ca2-929a-6da5488f33a7",
   "metadata": {
    "jp-MarkdownHeadingCollapsed": true,
    "tags": []
   },
   "source": [
    "### Problem 5:\n",
    "Given an array of both positive and negative numbers, find two numbers such that their sum is\n",
    "closest to 0. Ex: [ 1 ,60 ,-10, 70, -80,85]. Ans : -80,85"
   ]
  },
  {
   "cell_type": "markdown",
   "id": "9ed29619-a94d-4726-8720-fec36e0efd4b",
   "metadata": {},
   "source": [
    "#### Algorithm:\n",
    "\n",
    "Step 1: Sort the numbers in ascending order.\n",
    "\n",
    "Step 2: Initialize two pointers, one at the beginning (`left`) and one at the end (`right`) of the sorted array.\n",
    "\n",
    "Step 3: Track the pair with the smallest absolute sum during the iteration.\n",
    "\n",
    "Step 4: Move the pointers based on the current pair's sum with 0.\n",
    "        \n",
    "        if sum is equal to 0, return the current pair\n",
    "        if sum is less than 0, increment left\n",
    "        if sum is greater than 0, decrement right\n",
    "        \n",
    "Step 5: After iteration, return the smallest absolute sum"
   ]
  },
  {
   "cell_type": "code",
   "execution_count": 26,
   "id": "737069e0-675e-49bb-9466-2f61e35c48ea",
   "metadata": {},
   "outputs": [],
   "source": [
    "# Python Implementation"
   ]
  },
  {
   "cell_type": "code",
   "execution_count": 30,
   "id": "4685d5f2-12c8-41bd-8494-10ca60a1ece2",
   "metadata": {},
   "outputs": [
    {
     "name": "stdout",
     "output_type": "stream",
     "text": [
      "Pair with sum closest to 0: (-10, 10)\n"
     ]
    }
   ],
   "source": [
    "# Method Definition\n",
    "def find_pair_closest_to_zero(arr):\n",
    "    \n",
    "    # sort the numbers in ascending order\n",
    "    arr.sort()\n",
    "    \n",
    "    # initialize two pointers\n",
    "    left, right = 0, len(arr) - 1\n",
    "    \n",
    "    closest_pair = None\n",
    "    closest_sum = float('inf')  # initialize to positive infinity -> used as a placeholder for an unbound upper value\n",
    "    \n",
    "    while left < right:\n",
    "        current_sum = arr[left] + arr[right]\n",
    "        current_abs_sum = abs(current_sum)  # used to calculate the absolute value of current_sum during the iteration\n",
    "        \n",
    "        if current_abs_sum < closest_sum:\n",
    "            closest_sum = current_abs_sum\n",
    "            closest_pair = (arr[left], arr[right])\n",
    "            \n",
    "            \n",
    "        if current_sum == 0:\n",
    "            return closest_pair\n",
    "        \n",
    "        else:\n",
    "            if current_sum < 0:\n",
    "                left += 1\n",
    "            else:\n",
    "                right -= 1\n",
    "                \n",
    "    return closest_pair\n",
    "\n",
    "\n",
    "# Driver code\n",
    "arr = [1, -1, 60, -10, 70, -80, 85, 10]\n",
    "result = find_pair_closest_to_zero(arr)\n",
    "print(\"Pair with sum closest to 0:\", result)\n",
    "            "
   ]
  },
  {
   "cell_type": "code",
   "execution_count": 31,
   "id": "8ecdea50-bde3-4194-beab-ca1f09f50263",
   "metadata": {},
   "outputs": [],
   "source": [
    "# The time complexity is O(n log n) due to the sorting step, and the space complexity is O(1)."
   ]
  },
  {
   "cell_type": "code",
   "execution_count": null,
   "id": "ac13ee6b-30c1-4096-87e8-e70a2ee62988",
   "metadata": {},
   "outputs": [],
   "source": []
  },
  {
   "cell_type": "markdown",
   "id": "3ae4eabe-eb60-4f13-bf57-212e521fdda0",
   "metadata": {
    "jp-MarkdownHeadingCollapsed": true,
    "tags": []
   },
   "source": [
    "### Problem 6:\n",
    "Given an array of n elements . Find three elements such that their sum is equal to the given\n",
    "number.\n",
    "\n",
    "\n"
   ]
  },
  {
   "cell_type": "markdown",
   "id": "987087d0-970a-4e60-a380-7b98a16e7343",
   "metadata": {
    "tags": []
   },
   "source": [
    "#### Algorithm:\n",
    "\n",
    "Actually, we can make use of the existing above two pointer approach. The idea is to fix the element and then use two pointers to find a pair whose sum is equal to the target minus the fixed element.\n",
    "\n",
    "Step 1: sort the numbers in ascending order\n",
    "\n",
    "Step 2: Iterate through the array, fixing each element as a potential first element of the triplet.\n",
    "\n",
    "Step 3: use the two pointer approach left and right to find the remaining array such that their sum is equal to the target minus the fixed element.\n",
    "\n",
    "Step 4: If a triplet is found, return it. If not, move on to the next fixed element and repeat the process.\n",
    "\n",
    "Step 5: If no triplet found, return a message, no such triplet found\n",
    "\n"
   ]
  },
  {
   "cell_type": "code",
   "execution_count": 32,
   "id": "6b648afd-2316-4434-b8e2-19c96b51dd53",
   "metadata": {},
   "outputs": [],
   "source": [
    "# Python Implementation"
   ]
  },
  {
   "cell_type": "code",
   "execution_count": 33,
   "id": "04bfc489-24ed-4587-bec0-b48554490513",
   "metadata": {},
   "outputs": [
    {
     "name": "stdout",
     "output_type": "stream",
     "text": [
      "Triplet with sum 22: (4, 7, 11)\n"
     ]
    }
   ],
   "source": [
    "# Method Definition\n",
    "def find_triplet_of_sum(arr,  target):\n",
    "    \n",
    "    # sort the array\n",
    "    arr.sort()\n",
    "       \n",
    "    # fix one element and iterate through the list\n",
    "    for i in range(len(arr) - 2):\n",
    "        # two pointers\n",
    "        left, right = i + 1, len(arr) - 1\n",
    "        while left < right:\n",
    "            \n",
    "            current_sum = arr[i] + arr[left] + arr[right]\n",
    "            \n",
    "            if current_sum == target:\n",
    "                \n",
    "                return arr[i], arr[left], arr[right]\n",
    "            \n",
    "            else:\n",
    "                if current_sum < target:\n",
    "                    left += 1\n",
    "                    \n",
    "                else:\n",
    "                    right -= 1\n",
    "                    \n",
    "    return \"No triplet found!\"\n",
    "\n",
    "\n",
    "# Driver Code\n",
    "arr = [1, 4, 2, 7, 11, 15]\n",
    "k = 22\n",
    "\n",
    "print(f\"Triplet with sum {k}: {find_triplet_of_sum(arr, k)}\")\n"
   ]
  },
  {
   "cell_type": "code",
   "execution_count": 34,
   "id": "89ff8bbb-d8a4-4d7f-a0fd-1f635754ac95",
   "metadata": {},
   "outputs": [],
   "source": [
    "# The time complexity of sorting is O(n log n) and nested loop = O(n^2), as O(n^2) is dominating, the overall time complexity = O(n^2) with space complexity O(1)"
   ]
  },
  {
   "cell_type": "code",
   "execution_count": null,
   "id": "7434e15b-addf-4a04-b8e9-b164a7b643ec",
   "metadata": {},
   "outputs": [],
   "source": []
  },
  {
   "cell_type": "markdown",
   "id": "94418b33-7f90-484f-a412-3d24b44525dd",
   "metadata": {
    "jp-MarkdownHeadingCollapsed": true,
    "tags": []
   },
   "source": [
    "### Problem 7:\n",
    "Given an array of n elements . Find three elements i, j, k in the array such that\n",
    "\n",
    "i * i + j * j = k*k.\n"
   ]
  },
  {
   "cell_type": "code",
   "execution_count": 2,
   "id": "3870b9b5-5c24-4eee-a410-6484fd8fc839",
   "metadata": {},
   "outputs": [],
   "source": [
    "# This is also known as Pythagoreous triplet"
   ]
  },
  {
   "cell_type": "markdown",
   "id": "82db71e0-ce5f-4f33-b297-8a78fd336ac0",
   "metadata": {},
   "source": [
    "#### Algorithm:\n",
    "\n",
    "Step 1: Square each element in the array to create new array of squared values\n",
    "\n",
    "Step 2: Sort the array in the ascending order\n",
    "\n",
    "Step 3: Iterate through each element k in the sorted array\n",
    "\n",
    "Step 4: Use the two pointer approach (left and right) to find the pairs of (i, j) in the remaining array, such that, i * i + j * j = k * k\n",
    "\n",
    "Step 5: If a triplet is found, return the original elements (not the squared). If not, move on to the next k\n",
    "\n",
    "Step 6: If triplet not found, return a message triplet not found"
   ]
  },
  {
   "cell_type": "code",
   "execution_count": 3,
   "id": "baef7b0b-eb67-4807-a59b-b08b53058f37",
   "metadata": {},
   "outputs": [],
   "source": [
    "# Python implementation"
   ]
  },
  {
   "cell_type": "code",
   "execution_count": 5,
   "id": "c2eac5ac-4250-410f-88e2-da29a86dd4c5",
   "metadata": {},
   "outputs": [
    {
     "name": "stdout",
     "output_type": "stream",
     "text": [
      "Pythagorean Triplet: (3, 4, 5)\n"
     ]
    }
   ],
   "source": [
    "\n",
    "# Method Definition\n",
    "def find_pythagorean_triplet(arr):\n",
    "    \n",
    "    # Square each element in the array and store in new array\n",
    "    squared_arr = [i*i for i in arr]\n",
    "    \n",
    "    # sort the squared array\n",
    "    squared_arr.sort()\n",
    "    \n",
    "    # iterate through each element (k) in squared array\n",
    "    for k_sqr in squared_arr:\n",
    "        \n",
    "        # two pointer approach\n",
    "        left, right = 0, len(squared_arr) - 1\n",
    "        \n",
    "        while left < right:\n",
    "            \n",
    "            current_sum = squared_arr[left] + squared_arr[right]\n",
    "            \n",
    "            if current_sum == k_sqr:\n",
    "                return int(squared_arr[left] ** 0.5), int(squared_arr[right] ** 0.5), int(k_sqr ** 0.5)\n",
    "            \n",
    "            else:\n",
    "                \n",
    "                if current_sum < k_sqr:\n",
    "                    \n",
    "                    left += 1\n",
    "                    \n",
    "                else:\n",
    "                    \n",
    "                    right -= 1\n",
    "                    \n",
    "    return \"No Pythagorean Triplet found\"\n",
    "\n",
    "\n",
    "# Driver Code\n",
    "arr = [3, 1, 4, 6, 5]\n",
    "print(f\"Pythagorean Triplet: {find_pythagorean_triplet(arr)}\")\n"
   ]
  },
  {
   "cell_type": "code",
   "execution_count": 6,
   "id": "ef34ea16-b1d4-4267-a1f1-f62b3a8878ca",
   "metadata": {},
   "outputs": [],
   "source": [
    "# The time complexity is O(n^2), as the the outer loop iterates through each element in the sorted array (O(n log n)), and the inner loop (two-pointer search) iterates through the entire array for each outer loop iteration. This results in an overall time complexity of O(n^2).\n",
    "# The space complexity is O(n) to store the squared array"
   ]
  },
  {
   "cell_type": "code",
   "execution_count": null,
   "id": "b16adcaa-9e29-46ea-abc6-da737dd48f58",
   "metadata": {},
   "outputs": [],
   "source": []
  },
  {
   "cell_type": "markdown",
   "id": "185d0726-63dd-4829-8d0f-cf24ccb4d00c",
   "metadata": {
    "jp-MarkdownHeadingCollapsed": true,
    "tags": []
   },
   "source": [
    "### Problem 8:\n",
    "\n",
    "An element is a majority if it appears more than n/2 times. Give an algorithm takes an array of n\n",
    "element as argument and identifies a majority (if it exists).\n"
   ]
  },
  {
   "cell_type": "code",
   "execution_count": 7,
   "id": "69ee4f82-5f9c-4f02-8e3d-a3357483de9c",
   "metadata": {},
   "outputs": [],
   "source": [
    "# To find the majority element in an array, we can use Moore's Voting Algorithm.\n",
    "# This algorithm works under the assumption that, if the majority element (if it exists) will cancel out the occurences of other elements."
   ]
  },
  {
   "cell_type": "markdown",
   "id": "d757b199-b9c9-4b90-8c23-cdf75ddca57c",
   "metadata": {},
   "source": [
    "#### Algorithm:\n",
    "\n",
    "Step 1: Initiaize two variables `candidate` and `count`. Set `candidate` to None, and `count` to 0.\n",
    "\n",
    "Step 2: Iterate through the array\n",
    "        \n",
    "        if count is 0, set the current element as candidate and increment the count.\n",
    "        \n",
    "        if the current element is equal to the candidate increment the count, otherwse decrement the count\n",
    "        \n",
    "Step 3: After the iteration, the candidate variable holds the potential majority element\n",
    "\n",
    "Step 4: Iterate through the array again, to count the occurrences of the potential majority element.\n",
    "\n",
    "        If the count is greater than n/2, return the candidate as majority element\n",
    "        \n",
    "        If no majority element is found, return None\n",
    "        "
   ]
  },
  {
   "cell_type": "code",
   "execution_count": 8,
   "id": "45afc262-855a-4dad-be4a-6e5f1e2c0790",
   "metadata": {},
   "outputs": [],
   "source": [
    "# Python Implementation"
   ]
  },
  {
   "cell_type": "code",
   "execution_count": 13,
   "id": "b8ac2a52-c47e-4b47-8671-519a8d84ef48",
   "metadata": {},
   "outputs": [
    {
     "name": "stdout",
     "output_type": "stream",
     "text": [
      "Majority Element: 4\n"
     ]
    }
   ],
   "source": [
    "# Method Definition\n",
    "def find_majority_element(arr):\n",
    "    \n",
    "    # initialize candidate and count\n",
    "    candidate, count = None, 0\n",
    "    \n",
    "    # find the potential majority element\n",
    "    for num in arr:\n",
    "        \n",
    "        if count == 0:\n",
    "            candidate = num\n",
    "            count += 1\n",
    "        \n",
    "        elif num == candidate:\n",
    "            count += 1\n",
    "            \n",
    "        else:\n",
    "            count -= 1\n",
    "            \n",
    "    # check if potentail majority element is actually a majority\n",
    "    count = 0\n",
    "    \n",
    "    for num in arr:\n",
    "        if num == candidate:\n",
    "            count += 1\n",
    "            \n",
    "    if count > len(arr) / 2:\n",
    "        return candidate\n",
    "    return None\n",
    "\n",
    "\n",
    "# Driver Code\n",
    "arr = [3, 3, 4, 2, 4, 4, 2, 4, 4]\n",
    "print(f\"Majority Element: {find_majority_element(arr)}\")"
   ]
  },
  {
   "cell_type": "code",
   "execution_count": 14,
   "id": "6bdc06be-1a4c-4c41-b466-604055a703d9",
   "metadata": {},
   "outputs": [],
   "source": [
    "# The time complexity of this algorithm is O(n), and the space complexity is O(1)."
   ]
  },
  {
   "cell_type": "code",
   "execution_count": null,
   "id": "b10dc57e-bd61-4478-980e-2b60bf0c47dd",
   "metadata": {},
   "outputs": [],
   "source": []
  },
  {
   "cell_type": "markdown",
   "id": "d8702e1a-21a1-4163-a11c-a4e8e47af723",
   "metadata": {
    "jp-MarkdownHeadingCollapsed": true,
    "tags": []
   },
   "source": [
    "### Problem 9:\n",
    "\n",
    "Given n × n matrix, and in each row all 1’s are followed by 0’s. Find the row with the maximum\n",
    "number of 0’s.\n"
   ]
  },
  {
   "cell_type": "markdown",
   "id": "bc793862-44bf-4807-8e59-ea2ff6c8e092",
   "metadata": {},
   "source": [
    "#### Algorithm:\n",
    "\n",
    "Step 1: Start from the first column of the first row\n",
    "\n",
    "Step 2: Move to the right, until you find the first occurrence of 0\n",
    "\n",
    "Step 3: Keep track of the count of zeros occurred\n",
    "\n",
    "Step 4: Move to the next row and move to the left until find the last occurrence of 1 in that row.\n",
    "\n",
    "Step 5: Update the count of zeros based on the position of the last 1.\n",
    "\n",
    "Step 6: Repeat 4 and 5 until find the last row"
   ]
  },
  {
   "cell_type": "code",
   "execution_count": 15,
   "id": "41189442-49ef-403b-9d72-47c717d3b47a",
   "metadata": {},
   "outputs": [],
   "source": [
    "# Python Implementation"
   ]
  },
  {
   "cell_type": "code",
   "execution_count": 17,
   "id": "3ebfcf00-5e0f-4832-9dd6-8dda12c46e76",
   "metadata": {},
   "outputs": [
    {
     "name": "stdout",
     "output_type": "stream",
     "text": [
      "Row with maximum Zero's: 3\n"
     ]
    }
   ],
   "source": [
    "# Method Definition\n",
    "def find_row_with_maximum_zeros(matrix):\n",
    "    \n",
    "    n = len(matrix)\n",
    "    \n",
    "    row, max_row_zeros = 0, 0\n",
    "    \n",
    "    col = n - 1\n",
    "    \n",
    "    while row < n and col >= 0:\n",
    "        \n",
    "        if matrix[row][col] == 0:\n",
    "            max_row_zeros = col\n",
    "            row += 1\n",
    "        else:\n",
    "            col -= 1\n",
    "            \n",
    "    return row - 1\n",
    "\n",
    "\n",
    "# Driver Code\n",
    "matrix = [\n",
    "    [1, 1, 1, 0],\n",
    "    [1, 1, 0, 0],\n",
    "    [1, 1, 0, 0],\n",
    "    [1, 0, 0, 0]\n",
    "]\n",
    "\n",
    "print(f\"Row with maximum Zero's: {find_row_with_maximum_zeros(matrix)}\")"
   ]
  },
  {
   "cell_type": "code",
   "execution_count": 18,
   "id": "4780cad5-8ee8-444a-911a-e946cf67d7d1",
   "metadata": {},
   "outputs": [],
   "source": [
    "# The time complexity of this algorithm is O(n), where n is the size of the matrix."
   ]
  },
  {
   "cell_type": "code",
   "execution_count": null,
   "id": "9a0f997c-fa6c-4847-b4f4-219cba1f1c37",
   "metadata": {},
   "outputs": [],
   "source": []
  },
  {
   "cell_type": "markdown",
   "id": "19030501-8866-408d-8c7d-cb264ad9e956",
   "metadata": {
    "jp-MarkdownHeadingCollapsed": true,
    "tags": []
   },
   "source": [
    "### Problem 10:\n",
    "\n",
    "Sort an array of 0’s, 1’s and 2’s [or R’s, G’s and B’s]: Given an array A[] consisting of 0’s, 1’s and\n",
    "2’s, give an algorithm for sorting A[].The algorithm should put all 0’s first, then all 1’s and finally all 2’s at the\n",
    "end. Example Input = {0,1,1,0,1,2,1,2,0,0,0,1}, Output = {0,0,0,0,0,1,1,1,1,1,2,2}"
   ]
  },
  {
   "cell_type": "code",
   "execution_count": 19,
   "id": "b7cb44ba-c29b-4e85-ae12-54b801666305",
   "metadata": {},
   "outputs": [],
   "source": [
    "# This is also known as Dutch National Flag problem\n",
    "# this Dutch National Flag Algorithm uses three way partitioning algorithm."
   ]
  },
  {
   "cell_type": "markdown",
   "id": "4ff93b77-140c-4298-b884-2a6c7fb31383",
   "metadata": {},
   "source": [
    "#### Algorithm:\n",
    "\n",
    "Step 1: Initialize three pointers `left`, `right` and `mid`, \n",
    "        where `left` keeps track of the position to place the next 0\n",
    "        `mid` pointer iterates through the array\n",
    "        `right` pointer keeps track of the position to place the next 2\n",
    "        \n",
    "Step 2: If the element mid is 0, swap it with element at left, and increment mid and left\n",
    "\n",
    "Step 3: If the element at mid is 2, swap it with element at right, and decrement right\n",
    "\n",
    "Step 4: If the element at mid is 1, leave it as is and increment 1\n",
    "\n",
    "Step 5: This process continues until mid is greater than high, ensuring that the array is sorted with 0's at the beginning, followed by 1's, and finally 2's."
   ]
  },
  {
   "cell_type": "code",
   "execution_count": 20,
   "id": "3362e60f-183c-44a7-af18-71de7c33e340",
   "metadata": {},
   "outputs": [],
   "source": [
    "# Python Implementation"
   ]
  },
  {
   "cell_type": "code",
   "execution_count": 24,
   "id": "cf2a72e8-f775-42b4-8446-7a31ffffa815",
   "metadata": {},
   "outputs": [
    {
     "name": "stdout",
     "output_type": "stream",
     "text": [
      "Sorted Array = [0, 0, 0, 0, 0, 1, 1, 1, 1, 1, 2, 2]\n"
     ]
    }
   ],
   "source": [
    "# Method Definition\n",
    "def sort_0_1_2(arr):\n",
    "    \n",
    "    # Initialize three pointers left, right and mid\n",
    "    left, mid, right = 0, 0, len(arr) - 1\n",
    "    \n",
    "    while mid <= right:\n",
    "        \n",
    "        if arr[mid] == 0:\n",
    "            arr[left], arr[mid] = arr[mid], arr[left]\n",
    "            left += 1\n",
    "            mid += 1\n",
    "        elif arr[mid] == 1:\n",
    "            mid += 1\n",
    "        else:\n",
    "            arr[mid], arr[right] = arr[right], arr[mid]\n",
    "            right -= 1\n",
    "        \n",
    "            \n",
    "# Driver Code\n",
    "arr = [0, 1, 1, 0, 1, 2, 1, 2, 0, 0, 0, 1]\n",
    "sort_0_1_2(arr)\n",
    "print(f\"Sorted Array = {arr}\")"
   ]
  },
  {
   "cell_type": "code",
   "execution_count": 25,
   "id": "f9b8e788-0a0b-467a-9b17-766e34312657",
   "metadata": {},
   "outputs": [],
   "source": [
    "# The time complexity of this algorithm is O(n), where n is the length of the array."
   ]
  },
  {
   "cell_type": "code",
   "execution_count": null,
   "id": "cd9ef484-f3bb-411b-ad73-80f0f0ec6fc3",
   "metadata": {},
   "outputs": [],
   "source": []
  }
 ],
 "metadata": {
  "kernelspec": {
   "display_name": "Python 3 (ipykernel)",
   "language": "python",
   "name": "python3"
  },
  "language_info": {
   "codemirror_mode": {
    "name": "ipython",
    "version": 3
   },
   "file_extension": ".py",
   "mimetype": "text/x-python",
   "name": "python",
   "nbconvert_exporter": "python",
   "pygments_lexer": "ipython3",
   "version": "3.10.8"
  }
 },
 "nbformat": 4,
 "nbformat_minor": 5
}
