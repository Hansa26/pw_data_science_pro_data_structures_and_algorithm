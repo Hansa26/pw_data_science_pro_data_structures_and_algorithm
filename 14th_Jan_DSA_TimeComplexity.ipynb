{
 "cells": [
  {
   "cell_type": "markdown",
   "id": "66e3e00c-b733-42b4-96c9-7b858c4ffb10",
   "metadata": {},
   "source": [
    "# Time Complexity + Recursion"
   ]
  },
  {
   "cell_type": "markdown",
   "id": "30c06778-2cba-43a8-a883-70b5e1022403",
   "metadata": {},
   "source": [
    "## Find time complexity of below code blocks :"
   ]
  },
  {
   "cell_type": "markdown",
   "id": "649f123f-8821-4c26-a407-fa7552909711",
   "metadata": {},
   "source": [
    "### Problem 1:\n",
    "\n",
    "\n",
    "def quicksort(arr):\n",
    "\n",
    "    if len(arr) <= 1:\n",
    "\n",
    "        return arr\n",
    "\n",
    "    pivot = arr[len(arr) // 2]\n",
    "\n",
    "    left = [x for x in arr if x < pivot]\n",
    "\n",
    "    middle = [x for x in arr if x == pivot]\n",
    "\n",
    "    right = [x for x in arr if x > pivot]\n",
    "\n",
    "    return quicksort(left) + middle + quicksort(right)\n",
    "\n",
    "\n"
   ]
  },
  {
   "cell_type": "markdown",
   "id": "4e79f184",
   "metadata": {},
   "source": [
    "#### Let's breakdown the time complexity:\n",
    "\n",
    "- The function first checks if the length of the array is less than or equal to 1, in which case, it returns the array itself. This is a constant time operation, O(1).\n",
    "\n",
    "- If the array length is greater than 1, the function recursively calls itself on three sub arrays: `left`, `middle`, and `right`. The `pivot` element is selected and partitioned into 3 sub arrays.\n",
    "\n",
    "- By this we would get the Recurrence Relation as:\n",
    "\n",
    "####                                    T(n) = 2T(n/2) + n\n",
    "\n",
    "By solving the above recurrence relation using Substitution method as shown below, we would get as:\n"
   ]
  },
  {
   "cell_type": "markdown",
   "id": "8131c37b",
   "metadata": {},
   "source": [
    "Given: T(n) = 2T(n/2) + n\n",
    "\n",
    "    Rewriting the given Recurrence Relation, by adding a base case condition,\n",
    "\n",
    "    T(n) = { C,           n <= 1\n",
    "           { 2T(n/2) + n, n > 1\n",
    "\n",
    "    Solving for T(n) = 2 T(n/2) + n --------> (1) by substitution,\n",
    "\n",
    "    Solving for T(n/2), \n",
    "    Replacing n by n/2 in (1), we get\n",
    "    T(n/2) = 2 T(n/2*2) + n/2\n",
    "    T(n/2) = 2 T(n/4) + n/2 -----------> (2)\n",
    "\n",
    "    Substiuting (2) in (1), we get\n",
    "    T(n) = 2 [ 2 T(n/4) + n/2 ] + n\n",
    "    T(n) = 4 T(n/4) + 2n ----------> (3)\n",
    "\n",
    "    Solving for T(n/4), \n",
    "    Replacing n by n/4 in (1), we get\n",
    "    T(n/4) = 2 T(n/4*2) + n/4\n",
    "    T(n/4) = 2 T(n/8) + n/4 ---------> (4)\n",
    "\n",
    "    Substituting (4) in (3), we get\n",
    "    T(n) = 4 [ 2 T(n/8) + n/4 ] + 2n\n",
    "    T(n) = 8 T(n/8) + 3n ----------> (5)\n",
    "\n",
    "    Solving for T(n/8),\n",
    "    Replacing n by n/8 in (1), we get\n",
    "    T(n/8) = 2 T(n/8*2) + n/8\n",
    "    T(n/8) = 2 T(n/16) + n/8 ---------> (6)\n",
    "\n",
    "    Substituting (6) in (5), we get\n",
    "    T(n) = 8 [ 2 T(n/16) + n/8 ] + 3n\n",
    "    T(n) = 16 T(n/16) + 4n \n",
    "\n",
    "    .\n",
    "    .\n",
    "    .\n",
    "\n",
    "    Continuing the substitution for k times, we get\n",
    "    T(n) = 2^k T(n/2^k) + kn -----------> (7)\n",
    "\n",
    "    We know that, when T(1) = constant, Assuming that constant to be 1\n",
    "    => n/2^k = 1\n",
    "    => n = 2^k \n",
    "       taking log2 on Both sides (log base 2)\n",
    "       log2 n = k log2 2\n",
    "       => k = log2 n\n",
    "\n",
    "    Substituting the value of k in (7)\n",
    "    T(n) = 2^(log2 n) T(n/2^(log2 n)) + (log2 n)n\n",
    "         = n^(log2 2) T(n/n^(log2 2)) + n log2 n             [Because of logarithmic property]\n",
    "         = n T(1) + n log2 n                                [Because we know that T(1) = 1]\n",
    "         = n + n log2 n\n",
    "\n",
    "    T(n) = n + n log2 n\n",
    "\n",
    "    Writing the above T(n) in terms of Big O notation, \n",
    "            ----------------------\n",
    "            | T(n) = O(n log2 n) | ==> A Logarithmic Time Complexity\n",
    "            ---------------------\n",
    "    Because, as the compuations for time complexity needs to be made on dominating terms, clearly `n log n` is more dominating than `n`"
   ]
  },
  {
   "cell_type": "markdown",
   "id": "ad86ad46",
   "metadata": {},
   "source": [
    "The average time complexity is based on the fact that at each level of recursion, the array is divided into two parts, resulting in the logarithmic number of levels. At each level, we need to process each element once, resulting in a linear factor.\n",
    "\n",
    "Hence, the overall time complexity is `O(n log n)`"
   ]
  },
  {
   "cell_type": "code",
   "execution_count": null,
   "id": "a98e174c",
   "metadata": {},
   "outputs": [],
   "source": []
  },
  {
   "cell_type": "markdown",
   "id": "d2dd1eb1",
   "metadata": {},
   "source": [
    "### Problem 2:\n",
    "\n",
    "\n",
    "def nested_loop_example(matrix):\n",
    "\n",
    "    rows, cols = len(matrix), len(matrix[0])\n",
    "\n",
    "    total = 0\n",
    "\n",
    "    for i in range(rows):\n",
    "\n",
    "        for j in range(cols):\n",
    "\n",
    "            total += matrix[i][j]\n",
    "\n",
    "    return total\n",
    "\n"
   ]
  },
  {
   "cell_type": "markdown",
   "id": "4ea7d840",
   "metadata": {},
   "source": [
    "#### Let's breakdown the time complexity:\n",
    "\n",
    "- The function iterates through each row `for i in range(rows)` of the matrix, resulting in a loop with `rows` iterations.\n",
    "\n",
    "- For each row, it iterates through each column `for j in range(cols)` of the matrix, resulting in a nested loop with `cols` iterations.\n",
    "\n",
    "- The totol number of iterations is the product of the number of rows and columns, giving the `O(rows * cols)` as the time complexity."
   ]
  },
  {
   "cell_type": "code",
   "execution_count": null,
   "id": "04234c92",
   "metadata": {},
   "outputs": [],
   "source": []
  },
  {
   "cell_type": "markdown",
   "id": "872cbc1f",
   "metadata": {},
   "source": [
    "### Problem 3:\n",
    "\n",
    "\n",
    "def example_function(arr):\n",
    "\n",
    "    result = 0\n",
    "\n",
    "    for element in arr:\n",
    "\n",
    "        result += element\n",
    "\n",
    "    return result\n"
   ]
  },
  {
   "cell_type": "markdown",
   "id": "6221d396",
   "metadata": {},
   "source": [
    "#### Let's breakdown the time complexity:\n",
    "\n",
    "- The function iterates through each element in the input array `for element in arr`, resulting in a loop with `n` iterations, where `n` is the length of the array.\n",
    "\n",
    "- The work done inside the loop is constant for each iteration, as it performs a simple addition operation `result += element`.\n",
    "\n",
    "- Therefore, the overall time complexity is determined by the number of iterations, which is directly proportional to the length of the input array. \n",
    "    \n",
    "    Time complexity is `O(n)`"
   ]
  },
  {
   "cell_type": "code",
   "execution_count": null,
   "id": "307838b0",
   "metadata": {},
   "outputs": [],
   "source": []
  },
  {
   "cell_type": "markdown",
   "id": "b6218ef6",
   "metadata": {},
   "source": [
    "### Problem 4:\n",
    "\n",
    "def longest_increasing_subsequence(nums):\n",
    "\n",
    "    n = len(nums)\n",
    "\n",
    "    lis = [1] * n\n",
    "\n",
    "    for i in range(1, n):\n",
    "\n",
    "        for j in range(0, i):\n",
    "\n",
    "            if nums[i] > nums[j] and lis[i] < lis[j] + 1:\n",
    "\n",
    "                lis[i] = lis[j] + 1\n",
    "\n",
    "    return max(lis)\n"
   ]
  },
  {
   "cell_type": "markdown",
   "id": "97975a59",
   "metadata": {},
   "source": [
    "#### Let's breakdown the time complexity:\n",
    "\n",
    "- The function uses a nested loop structure.\n",
    "\n",
    "- The outer loop `for i in range(1, n)` has `n-1` iterations.\n",
    "\n",
    "- The inner loop `for j in range(0, i)` has an average of `i/2` iterations for each i.\n",
    "\n",
    "- Inside the inner loop there is a constant time operations.\n",
    "\n",
    "- Therefore, the overall time complexity is the product of the iterations of both the loops, resulting in `O(n^2)`.\n",
    "\n",
    "- Time Complexity is `O(n^2)`.\n",
    "\n",
    "\n",
    "#### Let's breakdown the space complexity:\n",
    "\n",
    "- The function uses an array `lis` of length `n` to store the length of the longest increasing subsequence ending at each index.\n",
    "\n",
    "- Additional variables used in the function take constant space.\n",
    "\n",
    "- Therefore, the space complexity is `O(n)`.\n"
   ]
  },
  {
   "cell_type": "code",
   "execution_count": null,
   "id": "b3d2104c",
   "metadata": {},
   "outputs": [],
   "source": []
  },
  {
   "cell_type": "markdown",
   "id": "c837fcb4",
   "metadata": {},
   "source": [
    "### Problem 5:\n",
    "\n",
    "def mysterious_function(arr):\n",
    "\n",
    "    n = len(arr)\n",
    "\n",
    "    result = 0\n",
    "\n",
    "    for i in range(n):\n",
    "\n",
    "        for j in range(i, n):\n",
    "\n",
    "            result += arr[i] * arr[j]\n",
    "\n",
    "    return result\n"
   ]
  },
  {
   "cell_type": "markdown",
   "id": "e92df56f",
   "metadata": {},
   "source": [
    "#### Let's breakdown the time complexity:\n",
    "\n",
    "- The function uses a nested loop structure.\n",
    "\n",
    "- The outer loop `for i in range(n)` has `n` iterations.\n",
    "\n",
    "- The inner loop `for j in range(i, n)` has an average of `(n - i)/2` iterations for each i.\n",
    "\n",
    "- Inside the inner loop there is a constant time operations.\n",
    "\n",
    "- Therefore, the overall time complexity is the product of the iterations of both the loops, resulting in `O(n^2)`.\n",
    "\n",
    "- Time Complexity is `O(n^2)`.\n",
    "\n",
    "\n",
    "#### Let's breakdown the space complexity:\n",
    "\n",
    "- The function uses a constant amount of additional space regardless of the size of the input array.\n",
    "\n",
    "- Additional variables used in the function take constant space.\n",
    "\n",
    "- Therefore, the space complexity is `O(1)`."
   ]
  },
  {
   "cell_type": "code",
   "execution_count": null,
   "id": "65e1183e",
   "metadata": {},
   "outputs": [],
   "source": []
  },
  {
   "cell_type": "markdown",
   "id": "01d1621c",
   "metadata": {},
   "source": [
    "# Solve the following problems on recursion"
   ]
  },
  {
   "cell_type": "markdown",
   "id": "c0bda54d",
   "metadata": {},
   "source": [
    "### Problem 6: Sum of Digits\n",
    "\n",
    "Write a recursive function to calculate the sum of digits of a given positive integer.\n",
    "\n",
    "sum_of_digits(123) -> 6"
   ]
  },
  {
   "cell_type": "markdown",
   "id": "bc418c9c",
   "metadata": {},
   "source": [
    "- The base case checks if the given integer `n` is less than 10. If True, it means `n` is a single-digit number, and the function returns `n`.\n",
    "- If `n` has more than one digit, the function calculates the last digit `n % 10` and makes a recursive call with the remaining digits `n // 10`\n"
   ]
  },
  {
   "cell_type": "code",
   "execution_count": 19,
   "id": "b5f1cf42",
   "metadata": {},
   "outputs": [
    {
     "name": "stdout",
     "output_type": "stream",
     "text": [
      "6\n"
     ]
    }
   ],
   "source": [
    "# Method Definition\n",
    "def sum_of_digits(n):\n",
    "    \n",
    "    if n < 10:\n",
    "        return n\n",
    "    else:\n",
    "        return n % 10 + sum_of_digits(n // 10)\n",
    "    \n",
    "\n",
    "# Driver Code\n",
    "print(sum_of_digits(123))"
   ]
  },
  {
   "cell_type": "markdown",
   "id": "199687f0",
   "metadata": {},
   "source": [
    "- Time Complexity:\n",
    "    \n",
    "    The time complexity of this recursive function is `O(log(n))`, where n is the number of digits in the given integer. This is because each recursive call reduces the number of digits by a factor of 10.\n",
    "    \n",
    "    \n",
    "- Space Complexity:\n",
    "    \n",
    "    The space complexity is determined by the depth of the recursive call stack, which is `O(log(n))`."
   ]
  },
  {
   "cell_type": "code",
   "execution_count": null,
   "id": "8795a039",
   "metadata": {},
   "outputs": [],
   "source": []
  },
  {
   "cell_type": "markdown",
   "id": "dea4915a",
   "metadata": {},
   "source": [
    "### Problem 7: Fibonacci Series\n",
    "\n",
    "Write a recursive function to generate the first n numbers of the Fibonacci series.\n",
    "\n",
    "\n",
    "fibonacci_series(6) -> [0, 1, 1, 2, 3, 5]\n"
   ]
  },
  {
   "cell_type": "markdown",
   "id": "9f4a0105",
   "metadata": {},
   "source": [
    "- The base case condition handles for scenarios when n is less than or equal to 0, 1 or 2.\n",
    "- if n is 0, return nothing, if n is 1, return [0], if n is 2, return [0, 1]\n",
    "- For n greater than 2, the function makes a recursive call to generate the fibonacci series.\n"
   ]
  },
  {
   "cell_type": "code",
   "execution_count": 16,
   "id": "0582b529",
   "metadata": {},
   "outputs": [
    {
     "name": "stdout",
     "output_type": "stream",
     "text": [
      "[0, 1, 1, 2, 3, 5, 8]\n"
     ]
    }
   ],
   "source": [
    "# Method definition\n",
    "def fibonacci_series(n):\n",
    "    \n",
    "    # base case condition\n",
    "    if n <= 0:\n",
    "        return []\n",
    "    elif n == 1:\n",
    "        return [0]\n",
    "    elif n == 2:\n",
    "        return [0, 1]\n",
    "    else:\n",
    "        fib_series = fibonacci_series(n - 1)\n",
    "        fib_series.append(fib_series[-1] + fib_series[-2])\n",
    "        return fib_series\n",
    "    \n",
    "\n",
    "# Driver Code\n",
    "print(fibonacci_series(7))"
   ]
  },
  {
   "cell_type": "markdown",
   "id": "6dc5429b",
   "metadata": {},
   "source": [
    "- Time Complexity:\n",
    "    \n",
    "    The time complexity of this recursive function is exponential, `O(2^N)`, due to the repeated calculations of overlapping subproblems. \n",
    "    Memoization or dynamic programming techniques can be applied to optimize the time complexity.\n",
    "    \n",
    "\n",
    "- Space Complexity:\n",
    "    \n",
    "    The space complexity is determined by the depth of the recursive call stack. In the worst case, the recursion depth is equal to n, leading to a space complexity of `O(n)`."
   ]
  },
  {
   "cell_type": "code",
   "execution_count": null,
   "id": "ca725a7c",
   "metadata": {},
   "outputs": [],
   "source": []
  },
  {
   "cell_type": "markdown",
   "id": "f4ad153f-25c5-4f1a-bb23-b177066c6aaf",
   "metadata": {},
   "source": [
    "### Problem 8: Subset Sum\n",
    "\n",
    "Given a set of positive integers and a target sum, write a recursive function to determine if there exists a subset\n",
    "of the integers that adds up to the target sum.\n",
    "\n",
    "\n",
    "subset_sum([3, 34, 4, 12, 5, 2], 9) -> True\n"
   ]
  },
  {
   "cell_type": "markdown",
   "id": "4ceeec68-7fe5-48d1-ae04-84acc675e5b0",
   "metadata": {},
   "source": [
    "- The recursive function explores two possibilities at each step: including the current element in the subset or excluding it.\n",
    "- The base cases check if the current sum equals the target or if all elements have been considered.\n",
    "- The algorithm uses recursion to explore different combinations of elements until a subset with the target sum is found or all possibilites are exhausted."
   ]
  },
  {
   "cell_type": "code",
   "execution_count": 14,
   "id": "0b902b0a-a422-40e7-abec-fb9fad9373c0",
   "metadata": {},
   "outputs": [
    {
     "name": "stdout",
     "output_type": "stream",
     "text": [
      "True\n"
     ]
    }
   ],
   "source": [
    "def subset_sum(list_nums, target_val):\n",
    "    return subset_sum_recursive(index=0, current_sum=0, nums=list_nums, target=target_val)\n",
    "\n",
    "def subset_sum_recursive(index, current_sum, nums, target):\n",
    "    \n",
    "    # base case condition\n",
    "    if current_sum == target:\n",
    "        return True\n",
    "    \n",
    "    if index == len(nums):\n",
    "        return False\n",
    "    \n",
    "    # include the current element in the subset\n",
    "    include_element = subset_sum_recursive(index + 1, current_sum + nums[index], nums, target)\n",
    "    \n",
    "    # exclude the current element from the subset\n",
    "    exclude_element = subset_sum_recursive(index + 1, current_sum, nums, target)\n",
    "    \n",
    "    # return true if either including or excluding element leads to a subset with the target sum\n",
    "    return include_element or exclude_element\n",
    "\n",
    "\n",
    "# Driver Code\n",
    "print(subset_sum([3, 34, 4, 12, 5, 2], 9))"
   ]
  },
  {
   "cell_type": "markdown",
   "id": "d0260665",
   "metadata": {},
   "source": [
    "- Time Complexity:\n",
    "    \n",
    "    The time complexity depends on the number of recursive calls made during the search. \n",
    "    In the worst case, the algorithm explores all possible combinations, resulting in an `exponential time complexity`.\n",
    "    \n",
    "    \n",
    "- Space Complexity:\n",
    "    \n",
    "    The space complexity is determined by the depth of the recursive call stack. In the worst case the recursion depth is equal to the length of the input size, leading to the space comlexity of `O(N)`."
   ]
  },
  {
   "cell_type": "code",
   "execution_count": null,
   "id": "a2b320d6-2983-4958-a1ed-893b3455a580",
   "metadata": {},
   "outputs": [],
   "source": []
  },
  {
   "cell_type": "markdown",
   "id": "c9bdcecc-170b-4412-88bf-e7b2d75aec33",
   "metadata": {
    "jp-MarkdownHeadingCollapsed": true,
    "tags": []
   },
   "source": [
    "### Problem 9: Word Break\n",
    "\n",
    "Given a non-empty string and a dictionary of words, write a recursive function to determine if the string can be\n",
    "segmented into a space-separated sequence of dictionary words.\n",
    "\n",
    "\n",
    "word_break(\"leetcode\", [\"leet\", \"code\"]) -> True\n"
   ]
  },
  {
   "cell_type": "markdown",
   "id": "4c46c763-476d-4f6c-99c6-d92f1a479814",
   "metadata": {},
   "source": [
    "- The algorithm uses a recursive approach to explore all possible ways of segmenting the given string into words from the dictionary. It starts by checking if the string begins with any word from the dictionary. If a match is found, the algorithm makes a recursive call with the remaining part of the string. The process continues until either the string is empty (indicating a successful segmentation) or all possibilites are exhausted."
   ]
  },
  {
   "cell_type": "code",
   "execution_count": 3,
   "id": "c17fc5c8-c0b5-44c9-9ea4-3a445a284b66",
   "metadata": {},
   "outputs": [
    {
     "name": "stdout",
     "output_type": "stream",
     "text": [
      "True\n"
     ]
    }
   ],
   "source": [
    "def word_break(string, word_dict):\n",
    "    \n",
    "    if not string:\n",
    "        return True\n",
    "    \n",
    "    for word in word_dict:\n",
    "        if string.startswith(word):\n",
    "            if word_break(string[len(word):], word_dict):\n",
    "                return True\n",
    "            \n",
    "    return False\n",
    "\n",
    "\n",
    "print(word_break(\"leetcode\", [\"leet\", \"code\"]))"
   ]
  },
  {
   "cell_type": "markdown",
   "id": "27ad6584-3c14-429e-9767-796366d9e10f",
   "metadata": {},
   "source": [
    "- Time Complexity:\n",
    "    \n",
    "    The time complexity of this algorithm depends on the number of recursive calls and the work done at each call. In the worst case, the algorithm explores all possible combinations of words, leading to an `exponential time complexity`.\n",
    "    \n",
    "    \n",
    "- Space Complexity:\n",
    "    \n",
    "    The space complexity is determined by the depth of the recursive call stack. In the worst case, the recursion depth is equal to the length of the input string. \n",
    "    The space Complexity is `O(N)` where N is the length of the input string."
   ]
  },
  {
   "cell_type": "code",
   "execution_count": null,
   "id": "26afc357-2e03-4645-8f9f-23226bb5825a",
   "metadata": {},
   "outputs": [],
   "source": []
  },
  {
   "cell_type": "markdown",
   "id": "b11a0e30-a7b4-4608-a895-78cf0efb09ca",
   "metadata": {
    "jp-MarkdownHeadingCollapsed": true,
    "tags": []
   },
   "source": [
    "### Problem 10: N-Queens\n",
    "\n",
    "\n",
    "Implement a recursive function to solve the N-Queens problem, where you have to place N queens on an N×N\n",
    "chessboard in such a way that no two queens threaten each other.\n",
    "\n",
    "n_queens(4)\n",
    "\n",
    "\n",
    "[\n",
    "\n",
    "[\".Q..\",\n",
    "\n",
    "\"...Q\",\n",
    "\n",
    "\"Q...\",\n",
    "\n",
    "\"..Q.\"],\n",
    "\n",
    "[\"..Q.\",\n",
    "\n",
    "\"Q...\",\n",
    "\n",
    "\"...Q\",\n",
    "\n",
    "\".Q..\"]\n",
    "\n",
    "]\n"
   ]
  },
  {
   "cell_type": "markdown",
   "id": "4f585464-dc5a-44a7-9883-6f8f02d8ebf6",
   "metadata": {},
   "source": [
    "The N-Queens problem is typically solved using backtracking. The algorithm places queens on the chessboard row by row, making sure that no two queens threaten each other. If a queen cannot be placed in the current row without threatening others, it backtracks to previous row and explores other possibilities."
   ]
  },
  {
   "cell_type": "markdown",
   "id": "9ce4dae0-830f-472b-8e4d-beae8a3ef5be",
   "metadata": {},
   "source": [
    "- The `is_safe` function checks whether it is safe to place a queen in a specific position by examining the column and diagonals.\n",
    "\n",
    "- The `solve_n_queens` function is the core recursive function that tries to place queens in each row, ensuring safety.\n",
    "\n",
    "- The algorithm backtracks when it reaches a dead-end, allowing it to explore alternative placements."
   ]
  },
  {
   "cell_type": "code",
   "execution_count": 6,
   "id": "6a8bd452-4425-4276-af97-38b116066adf",
   "metadata": {},
   "outputs": [
    {
     "name": "stdout",
     "output_type": "stream",
     "text": [
      "['Q....', '..Q..', '....Q', '.Q...', '...Q.']\n",
      "['Q....', '...Q.', '.Q...', '....Q', '..Q..']\n",
      "['.Q...', '...Q.', 'Q....', '..Q..', '....Q']\n",
      "['.Q...', '....Q', '..Q..', 'Q....', '...Q.']\n",
      "['..Q..', 'Q....', '...Q.', '.Q...', '....Q']\n",
      "['..Q..', '....Q', '.Q...', '...Q.', 'Q....']\n",
      "['...Q.', 'Q....', '..Q..', '....Q', '.Q...']\n",
      "['...Q.', '.Q...', '....Q', '..Q..', 'Q....']\n",
      "['....Q', '.Q...', '...Q.', 'Q....', '..Q..']\n",
      "['....Q', '..Q..', 'Q....', '...Q.', '.Q...']\n"
     ]
    }
   ],
   "source": [
    "def is_safe(board, row, col, n):\n",
    "    \n",
    "    # check if there is a queen in the same column\n",
    "    for i in range(row):\n",
    "        if board[i][col] == \"Q\":\n",
    "            return False\n",
    "        \n",
    "    # check upper left diagonal\n",
    "    for i, j in zip(range(row, -1, -1), range(col, -1, -1)):\n",
    "        if board[i][j] == \"Q\":\n",
    "            return False\n",
    "        \n",
    "    # check upper right diagonal\n",
    "    for i, j in zip(range(row, -1, -1), range(col, n)):\n",
    "        if board[i][j] == \"Q\":\n",
    "            return False\n",
    "        \n",
    "    return True\n",
    "\n",
    "\n",
    "def solve_n_queens(board, row, n, solutions):\n",
    "    if row == n:\n",
    "        # if all the queens are placed add the current board to the solutions\n",
    "        solutions.append([\"\".join(row) for row in board])\n",
    "        return\n",
    "    \n",
    "    \n",
    "    for col in range(n):\n",
    "        \n",
    "        if is_safe(board, row, col, n):\n",
    "            \n",
    "            # place the queen and recursively move to the next row\n",
    "            board[row][col] = \"Q\"\n",
    "            \n",
    "            solve_n_queens(board, row + 1, n, solutions)\n",
    "            \n",
    "            # backtrack -> remove the queen for other possibilities\n",
    "            board[row][col] = \".\"\n",
    "            \n",
    "            \n",
    "def n_queens(n):\n",
    "    board = [['.' for _ in range(n)] for _ in range(n)]\n",
    "    solutions = []\n",
    "    solve_n_queens(board, 0, n, solutions)\n",
    "    return solutions\n",
    "\n",
    "\n",
    "result = n_queens(5)\n",
    "for sol in result:\n",
    "    print(sol)\n",
    "    "
   ]
  },
  {
   "cell_type": "markdown",
   "id": "13af5105-ad66-46e6-a557-40f1cb9f1aaa",
   "metadata": {},
   "source": [
    "- Time Complexity:\n",
    "\n",
    "    The time complexity of N-Queens problem is typically expressed in terms of the number of recursive calls made during the search.\n",
    "    In the worst case, the algorithm seches for all possible configurations. \n",
    "    The time Complexity is `O(N!)`, where N is the size of the chessboard. \n",
    "    \n",
    "\n",
    "- Space Complexity:\n",
    "\n",
    "    The space complexity is determined by the memory required for storing the chessboard and recursive call stack. \n",
    "    The space complexity is `O(N^2)` as it uses a 2D array to represent the chessboard, and the maximum depth of the recursive call stack is N."
   ]
  },
  {
   "cell_type": "code",
   "execution_count": null,
   "id": "e479321f-8839-4a68-a18b-752535abf53b",
   "metadata": {},
   "outputs": [],
   "source": []
  }
 ],
 "metadata": {
  "kernelspec": {
   "display_name": "Python 3",
   "language": "python",
   "name": "python3"
  },
  "language_info": {
   "codemirror_mode": {
    "name": "ipython",
    "version": 3
   },
   "file_extension": ".py",
   "mimetype": "text/x-python",
   "name": "python",
   "nbconvert_exporter": "python",
   "pygments_lexer": "ipython3",
   "version": "3.8.8"
  }
 },
 "nbformat": 4,
 "nbformat_minor": 5
}
