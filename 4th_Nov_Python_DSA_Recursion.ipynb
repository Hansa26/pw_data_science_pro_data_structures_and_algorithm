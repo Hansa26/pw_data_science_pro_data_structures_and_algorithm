{
 "cells": [
  {
   "cell_type": "markdown",
   "id": "8004f764-c611-4178-ab3d-621863935e56",
   "metadata": {
    "tags": []
   },
   "source": [
    "# Recursion"
   ]
  },
  {
   "cell_type": "markdown",
   "id": "5907cd65-bfb9-4238-a336-50215131c4df",
   "metadata": {
    "jp-MarkdownHeadingCollapsed": true,
    "tags": []
   },
   "source": [
    "#### 1. Can you explain the logic and working of the Tower of Hanoi algorithm by writing a Python program?\n",
    "#### How does the recursion work, and how are the movements of disks between rods accomplished?"
   ]
  },
  {
   "cell_type": "markdown",
   "id": "d3102d82-7e5a-4b27-aa93-fe2bc91c8a95",
   "metadata": {},
   "source": [
    "The Tower of Hanoi is a classic problem in computer science and mathematics that involves moving a set of disks from one rod to another, subject to the constraint that only one disk can be moved at a time, and a disk can only be placed on top of a larger disk or an empty rod."
   ]
  },
  {
   "cell_type": "code",
   "execution_count": 2,
   "id": "efccd9ed-5419-4aac-8a9b-592b997f95b5",
   "metadata": {},
   "outputs": [
    {
     "name": "stdout",
     "output_type": "stream",
     "text": [
      "Move disk 1 from A to C.\n",
      "Move disk 2 from A to B.\n",
      "Move disk 1 from C to B.\n",
      "Move disk 3 from A to C.\n",
      "Move disk 1 from B to A.\n",
      "Move disk 2 from B to C.\n",
      "Move disk 1 from A to C.\n"
     ]
    }
   ],
   "source": [
    "## Python Program:\n",
    "\n",
    "# Method Definition\n",
    "def tower_of_hanoi(n, source_rod, target_rod, auxiliary_rod):\n",
    "    \n",
    "    # Base case condition\n",
    "    if n == 1:\n",
    "        print(f\"Move disk 1 from {source_rod} to {target_rod}.\")\n",
    "        return\n",
    "    \n",
    "    tower_of_hanoi(n-1, source_rod, auxiliary_rod, target_rod)\n",
    "    print(f\"Move disk {n} from {source_rod} to {target_rod}.\")\n",
    "    tower_of_hanoi(n-1, auxiliary_rod, target_rod, source_rod)\n",
    "\n",
    "# Driver Code\n",
    "number_of_disks = 3\n",
    "tower_of_hanoi(n=number_of_disks, source_rod='A', target_rod='C', auxiliary_rod='B')"
   ]
  },
  {
   "cell_type": "markdown",
   "id": "76733630-433a-4d19-90ea-4d10fc4a3bed",
   "metadata": {
    "jp-MarkdownHeadingCollapsed": true,
    "tags": []
   },
   "source": [
    "### Code Explaination:\n",
    "\n"
   ]
  },
  {
   "cell_type": "markdown",
   "id": "837c3e11-8fef-4c5b-832e-7b8037ea5e20",
   "metadata": {},
   "source": [
    "#### Parameters:\n",
    "\n",
    "The \"tower_of_hanoi\" function is a recursive function that takes four parameters:\n",
    "a. n = number of disks\n",
    "b. source_rod = is the rod from which the disks should be moved\n",
    "c. target_rod = is the rod to which the disks should be moved\n",
    "d. auxiliary_rod = is the helping rod\n",
    "\n",
    "#### The base case condition:\n",
    "\n",
    "The base case is when there is only one disk (n==1). In this case we move the disk from source rod to target rod.\n",
    "\n",
    "#### The recursive steps:\n",
    "\n",
    "i. Move (n-1)th disk from the source rod to the auxiliary rod, using target rod as the auxiliary rod.\n",
    "ii. Move the (n)th disk from the source rod to the target rod.\n",
    "iii. Move the (n-1)th disk from the auxiliary rod to the target rod, using source rod as the auxiliary rod.\n",
    "\n",
    "#### Example:\n",
    "\n",
    "Rods:\n",
    "A = Source Rod\n",
    "B = Auxiliary Rod\n",
    "C = Target Rod\n",
    "\n",
    "Disks:\n",
    "3 Disks, 1, 2, 3: where 1 being the smallest of the two other disks and 3 being the largest of the two other disks.\n"
   ]
  },
  {
   "cell_type": "markdown",
   "id": "e149cca9-ee62-4d7e-8c9f-1393e44345e4",
   "metadata": {
    "jp-MarkdownHeadingCollapsed": true,
    "tags": []
   },
   "source": [
    "### Time Complexity"
   ]
  },
  {
   "cell_type": "markdown",
   "id": "651b8ff9-4d13-4b4a-9a1b-e2fa19947b9b",
   "metadata": {},
   "source": [
    "The time complexity of the Tower of Hanoi algorithm is O(2^n), where n is the number of disks. \n",
    "\n",
    "This complexity arises because the algorithm makes two recursive calls for each level of the recursion, resulting an exponential growth in the number of function calls."
   ]
  },
  {
   "cell_type": "markdown",
   "id": "fc5970dc-33cc-4ac4-9efd-593c391032e0",
   "metadata": {
    "tags": []
   },
   "source": [
    "### Space Complexity"
   ]
  },
  {
   "cell_type": "markdown",
   "id": "32dae0c4-6ca5-414b-9ab8-63cb7e129b39",
   "metadata": {},
   "source": [
    "The space complexity of the Tower of Hanoi algorithm is O(n), where n is the number of disks. \n",
    "\n",
    "This complexity arises due to the recursive calls that are placed on the call stack. In each recursive call, a constant amount of space is required for the function call itself, and since the maximum depth of the call stack is n, the overall space complexity is O(n)."
   ]
  },
  {
   "cell_type": "code",
   "execution_count": null,
   "id": "6239285c-2afd-4271-8167-7f85784b4f5b",
   "metadata": {},
   "outputs": [],
   "source": []
  },
  {
   "cell_type": "markdown",
   "id": "6f9fc817-97ff-45b7-ad1d-1feefd1717d1",
   "metadata": {
    "jp-MarkdownHeadingCollapsed": true,
    "tags": []
   },
   "source": [
    "#### 2. Given two strings word1 and word2, return the minimum number of operations required to convert word1 to word2."
   ]
  },
  {
   "cell_type": "markdown",
   "id": "5fa0c3d5-f88a-4708-a21f-179d462bb653",
   "metadata": {
    "jp-MarkdownHeadingCollapsed": true,
    "tags": []
   },
   "source": [
    "#### Example 1:\n",
    "Input: word1 = \"horse\", word2 = \"ros\"\n",
    "\n",
    "Output: 3\n",
    "\n",
    "Explanation:\n",
    "\n",
    "horse -> rorse (replace 'h' with 'r')\n",
    "\n",
    "rorse -> rose (remove 'r')\n",
    "\n",
    "rose -> ros (remove 'e')"
   ]
  },
  {
   "cell_type": "markdown",
   "id": "deb66d0e-e2a5-49d4-8cbd-9820ba176353",
   "metadata": {
    "jp-MarkdownHeadingCollapsed": true,
    "tags": []
   },
   "source": [
    "#### Example 2:\n",
    "Input: word1 = \"intention\", word2 = \"execution\"\n",
    "\n",
    "Output: 5\n",
    "\n",
    "Explanation:\n",
    "\n",
    "intention -> inention (remove 't')\n",
    "\n",
    "inention -> enention (replace 'i' with 'e')\n",
    "\n",
    "enention -> exention (replace 'n' with 'x')\n",
    "\n",
    "exention -> exection (replace 'n' with 'c')\n",
    "\n",
    "exection -> execution (insert 'u')"
   ]
  },
  {
   "cell_type": "markdown",
   "id": "8935d321-c359-45c0-8e60-395a806b6860",
   "metadata": {},
   "source": [
    "This problem is a classic example of the minimum edit distance problem, and it can be solved using dynamic programming. The idea is to build a table where each cell represents the minimum number of operations required to convert a substring of word1 to a substring of word2. The final result is then found in the bottom-right cell of the table.\n",
    "\n",
    "This is also known as `Levenshtein Distance`.\n",
    "\n",
    "Youtube link to explain the problem: https://youtu.be/Dd_NgYVOdLk"
   ]
  },
  {
   "cell_type": "code",
   "execution_count": 8,
   "id": "fa52fa70-7b1f-46c6-b55a-c678995c3e4e",
   "metadata": {},
   "outputs": [
    {
     "name": "stdout",
     "output_type": "stream",
     "text": [
      "The minimum number of operations to convert 'horse' -> 'ros' is 3\n",
      "\n",
      "The minimum number of operations to convert 'intention' -> 'execution' is 5\n"
     ]
    }
   ],
   "source": [
    "## Levenshtein Distance or Minimum Edit Distance Problem --> Dynamic Programming\n",
    "\n",
    "# Method Definition\n",
    "def min_edit_distance(word1, word2):\n",
    "    # find the length of the words respectively\n",
    "    m = len(word1) # given word\n",
    "    n = len(word2) # to be converted word\\\n",
    "    \n",
    "    # create a table like structure and assign 0s (add an additional +1 because of empty string)\n",
    "    dp = [[0] * (n + 1) for _ in range(m + 1)]\n",
    "    \n",
    "    # fill the base case condition, where initially word1 -> delete operation, word2 -> insert operation\n",
    "    for i in range(m + 1): # 0th column to be filled (delete operation)\n",
    "        dp[i][0] = i\n",
    "    \n",
    "    for j in range(n + 1): # 0th row to be filled (insert operation)\n",
    "        dp[0][j] = j\n",
    "    \n",
    "    # fill the rest of the table\n",
    "    \n",
    "    for i in range(1, m + 1):\n",
    "        for j in range(1, n + 1):\n",
    "            if word1[i - 1] == word2[j - 1]: # letter to be converted is same as the letter given\n",
    "                dp[i][j] = dp[i - 1][j - 1] # diagonally above value\n",
    "            \n",
    "            else:\n",
    "                dp[i][j] = 1 + min(dp[i - 1][j], # deletion cell (right side)\n",
    "                                  dp[i - 1][j - 1], # replacement cell (diagonal side)\n",
    "                                  dp[i][j - 1] # insertion cell (bottom side)\n",
    "                                  )\n",
    "    \n",
    "    # the result is the bottom right corner of the cell\n",
    "    return dp[m][n]\n",
    "\n",
    "\n",
    "# Driver Code\n",
    "\n",
    "# Example 1\n",
    "word1 = \"horse\"\n",
    "word2 = \"ros\"\n",
    "print(f\"The minimum number of operations to convert '{word1}' -> '{word2}' is {min_edit_distance(word1, word2)}\")\n",
    "\n",
    "print()\n",
    "# Example 2\n",
    "word1 = \"intention\"\n",
    "word2 = \"execution\"\n",
    "print(f\"The minimum number of operations to convert '{word1}' -> '{word2}' is {min_edit_distance(word1, word2)}\")"
   ]
  },
  {
   "cell_type": "markdown",
   "id": "fb6ef317-d5f3-41d0-b5cd-bc914d444e8d",
   "metadata": {
    "jp-MarkdownHeadingCollapsed": true,
    "tags": []
   },
   "source": [
    "### Detailed explaination of the code"
   ]
  },
  {
   "cell_type": "markdown",
   "id": "4ecff4fc-f876-4e23-b309-7d01e64db1bc",
   "metadata": {},
   "source": [
    "1. \"m\" and \"n\" are the lengths of the \"word1\" and \"word2\" respectively.\n",
    "2. \"dp\" is a 2D table where dp[i][j] represents the minimum number of operations to convert the first 'i' characters of \"word1\" to the first 'j' characters of \"word2\".\n",
    "3. The base cases are filled in the table. The first column represents converting an empty string to substrings of \"word2\", and the first row represents converting substrings of \"word1\" to an empty string. The values are initialized based on the length of the substrings.\n",
    "4. The nested loops iterate over each cell in the table, starting from (1, 1).\n",
    "5. If the charcters at the current positions in \"word1\" and \"word2\" are the same, then no operation is needed, and the value is copied from the diagonal element.\n",
    "6. If the characters are different, the minimum of three possible operations is calculated:\n",
    "    \n",
    "    Deletion (dp[i-1][j]): The minimum operations to convert the substring of word1 without the current character to the substring of word2.\n",
    "    \n",
    "    Insertion (dp[i][j-1]): The minimum operations to convert the substring of word1 to the substring of word2 without the current character.\n",
    "    \n",
    "    Replacement (dp[i-1][j-1]): The minimum operations to convert the substring of word1 without the current character to the substring of word2 without the current character, plus one for the replacement.\n",
    "    \n",
    "7. The result is obtained from the bottom-right cell of the table, which represents the minimum number of operations to convert the entire word1 to word2."
   ]
  },
  {
   "cell_type": "markdown",
   "id": "1ef7233a-edb5-4134-bef8-923c386ff3ce",
   "metadata": {
    "jp-MarkdownHeadingCollapsed": true,
    "tags": []
   },
   "source": [
    "### Time Complexity"
   ]
  },
  {
   "cell_type": "markdown",
   "id": "86df1df1-8382-47a9-a221-3381599dc4c4",
   "metadata": {},
   "source": [
    "The time complexity of the above problem is O(m * n), where m and n are the lengths of the input words 'word1' and 'word2' repectively.\n",
    "\n",
    "This is because of the solution of filling the 2D table of dimentions (m+1)X(n+1) using nested loops. For each cell, constant time operations are performed, so the overall time complexity is O(m * n).\n"
   ]
  },
  {
   "cell_type": "markdown",
   "id": "cf8f96c1-6ffd-4b9d-addd-dcf4b29a08e2",
   "metadata": {
    "tags": []
   },
   "source": [
    "### Space Complexity"
   ]
  },
  {
   "cell_type": "markdown",
   "id": "00faaf33-34a1-4dbb-aa03-f690e0f417bc",
   "metadata": {},
   "source": [
    "The space complexity of the solution is O(m * n) as well. \n",
    "\n",
    "This is due to the space required to store the 2D table 'dp', which has the dimensions (m+1)X(n+1). Each cell in the table requires constant space. Therefore, overall space complexity is proportional to the size of the table, O(m * n)."
   ]
  },
  {
   "cell_type": "markdown",
   "id": "faea772d-30a0-40bd-ab89-da676c22fe90",
   "metadata": {},
   "source": [
    "#### Note:\n",
    "It's worth noting that we could optimize the space complexity to O(min(m, n)) by only keeping two rows of the table at a time instead of the entire table. This is possible because each cell in the table only depends on cells from the previous row. However, the time complexity remains the same. The trade-off between time and space complexity often depends on the specific constraints of the problem."
   ]
  },
  {
   "cell_type": "code",
   "execution_count": null,
   "id": "1d7b5bdf-5e83-40c7-bb6c-519827fc644e",
   "metadata": {},
   "outputs": [],
   "source": []
  },
  {
   "cell_type": "markdown",
   "id": "6c5849b7-7c89-4c2a-83bc-1ec7f58c6093",
   "metadata": {
    "tags": []
   },
   "source": [
    "#### 3. Print the max value of the array [ 13, 1, -3, 22, 5]."
   ]
  },
  {
   "cell_type": "code",
   "execution_count": 9,
   "id": "88a2b882-bb6f-42d4-973b-8264758f9a9f",
   "metadata": {},
   "outputs": [
    {
     "name": "stdout",
     "output_type": "stream",
     "text": [
      "The maximum number is 22\n"
     ]
    }
   ],
   "source": [
    "## Maximum number in the array.\n",
    "\n",
    "# Method definition\n",
    "def maximum_in_array(arr):\n",
    "    \n",
    "    # initialize the max_value with the first element of the array\n",
    "    max_value = arr[0]\n",
    "    \n",
    "    # iterate through the array starting from the second element\n",
    "    for num in arr[1:]:\n",
    "        if num > max_value:\n",
    "            max_value = num\n",
    "    \n",
    "    return max_value\n",
    "\n",
    "# Driver code\n",
    "arr = [13, 1, -3, 22, 5]\n",
    "print(f\"The maximum number is {maximum_in_array(arr)}\")\n"
   ]
  },
  {
   "cell_type": "markdown",
   "id": "09c689d0-79ff-4195-91b9-8952ae32e556",
   "metadata": {},
   "source": [
    "#### Time Complexity\n",
    "\n",
    "The time complexity of the iteration solution is O(n), where n is the length of the array. This is because it iterates therough the entire array atleast once.\n",
    "\n",
    "#### Space Complexity\n",
    "\n",
    "The space complexity is O(1), a constant space. This is because it uses the constant amount of space regardless of the size of the input array. The only variable used is \"max_value\", and no additional data structures are created."
   ]
  },
  {
   "cell_type": "code",
   "execution_count": null,
   "id": "1b62171a-b48c-41d3-a150-b8f440e695a7",
   "metadata": {},
   "outputs": [],
   "source": []
  },
  {
   "cell_type": "markdown",
   "id": "bd2cd2ee-7e9e-4655-97ad-8e118baf0572",
   "metadata": {},
   "source": [
    "#### 4. Find the sum of the values of the array [92, 23, 15, -20, 10]"
   ]
  },
  {
   "cell_type": "code",
   "execution_count": 10,
   "id": "2d42698c-c06c-44f8-9933-81479a48b1de",
   "metadata": {},
   "outputs": [
    {
     "name": "stdout",
     "output_type": "stream",
     "text": [
      "The sum of the array is 120\n"
     ]
    }
   ],
   "source": [
    "## Sum of the values in the array\n",
    "\n",
    "# Method definition\n",
    "def summation_of_array(arr):\n",
    "    \n",
    "    # initialize the total value to be 0\n",
    "    total = 0\n",
    "    \n",
    "    # iterate through the entire array\n",
    "    for i in arr:\n",
    "        total += i\n",
    "    \n",
    "    return total\n",
    "\n",
    "# Driver code\n",
    "arr = [92, 23, 15, -20, 10]\n",
    "print(f\"The sum of the array is {summation_of_array(arr)}\")"
   ]
  },
  {
   "cell_type": "markdown",
   "id": "7c32fd8f-5098-42b7-8c76-272c26af264f",
   "metadata": {},
   "source": [
    "#### Time Complexity\n",
    "\n",
    "The time complexity iteration solution is O(n), where n is the length of the array. This is because it iterates therough the entire array atleast once.\n",
    "\n",
    "#### Space complexity\n",
    "\n",
    "The space complexity is O(1), a constant space. This is because it uses the constant amount of space regardless of the size of the input array. The only variable used is \"total\", and no additional data structures are created."
   ]
  },
  {
   "cell_type": "code",
   "execution_count": null,
   "id": "0bb91d10-195d-407c-b357-e6b2f9c027df",
   "metadata": {},
   "outputs": [],
   "source": []
  },
  {
   "cell_type": "markdown",
   "id": "2b0e2e63-faca-40e0-ae57-b71911779fc5",
   "metadata": {},
   "source": [
    "#### 5. Given a number n. Print if it is an armstrong number or not.\n",
    "An armstrong number is a number if the sum of every digit in that number raised to the power of total digits in that number is equal to the number.\n",
    "\n",
    "Example : 153 = 1^3 + 5^3 + 3^3 = 1 + 125 + 27 = 153 hence 153 is an armstrong number. (Easy)\n",
    "\n",
    "\n",
    "Input1 : 153\n",
    "\n",
    "Output1 : Yes\n",
    "\n",
    "\n",
    "\n",
    "Input 2 : 134\n",
    "\n",
    "Output2 : No"
   ]
  },
  {
   "cell_type": "code",
   "execution_count": 12,
   "id": "0be13f8d-3b77-43d9-9144-62bc6084c975",
   "metadata": {},
   "outputs": [
    {
     "name": "stdout",
     "output_type": "stream",
     "text": [
      "Output1: Yes\n",
      "Output2: No\n"
     ]
    }
   ],
   "source": [
    "## Armstrong Number\n",
    "\n",
    "# Method definition\n",
    "def is_armstrong_number(n):\n",
    "    \n",
    "    # convert the integer to a string to find the total digits\n",
    "    num_str = str(n)\n",
    "    total_digits = len(num_str)\n",
    "    \n",
    "    # calculate the sum of each digit raised to the power of total digits\n",
    "    armstrong_sum = sum(int(digit) ** total_digits for digit in num_str)\n",
    "    \n",
    "    # check if sum is equal to the original number\n",
    "    return armstrong_sum == n\n",
    "\n",
    "# Driver code\n",
    "input1 = 153\n",
    "output1 = is_armstrong_number(input1)\n",
    "print(\"Output1:\", \"Yes\" if output1 else \"No\")\n",
    "\n",
    "input2 = 134\n",
    "output2 = is_armstrong_number(input2)\n",
    "print(\"Output2:\", \"Yes\" if output2 else \"No\")"
   ]
  },
  {
   "cell_type": "markdown",
   "id": "6d4145ce-d928-4de2-93c4-e256cc24369d",
   "metadata": {},
   "source": [
    "#### Time Complexity\n",
    "\n",
    "The time complexity of the program is O(log10(n)), where n is the input number. \n",
    "\n",
    "This is because the number of digits in the input number determines the number of iterations in the loop. Converting the number to a string takes O(log10(n)) time, and iterating over each digit takes O(log10(n)) time as well.\n",
    "\n",
    "\n",
    "#### Space Complexity\n",
    "\n",
    "The space complexity of the program is O(log10(n)). \n",
    "\n",
    "This is due to the space required to store the string representaion of the number \"num_str\". The length of num_str is proportional to the number of digits in the input number, and since the number of digits is on the order of log10(n), the space complexity is O(log10(n)).\n",
    "\n",
    "\n",
    "##### In both time and space complexity, the dominant factor is the number of digits in the input number. The program is efficient and has a logarithmic complexity with respect to the input."
   ]
  },
  {
   "cell_type": "code",
   "execution_count": null,
   "id": "9ab5c10e-4f90-4f48-9d76-29a8aef3bbd9",
   "metadata": {},
   "outputs": [],
   "source": []
  }
 ],
 "metadata": {
  "kernelspec": {
   "display_name": "Python 3 (ipykernel)",
   "language": "python",
   "name": "python3"
  },
  "language_info": {
   "codemirror_mode": {
    "name": "ipython",
    "version": 3
   },
   "file_extension": ".py",
   "mimetype": "text/x-python",
   "name": "python",
   "nbconvert_exporter": "python",
   "pygments_lexer": "ipython3",
   "version": "3.10.8"
  }
 },
 "nbformat": 4,
 "nbformat_minor": 5
}
